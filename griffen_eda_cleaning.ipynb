{
 "cells": [
  {
   "attachments": {},
   "cell_type": "markdown",
   "metadata": {},
   "source": [
    "# Bank Churn Data Cleaning and EDA"
   ]
  },
  {
   "cell_type": "code",
   "execution_count": 1,
   "metadata": {},
   "outputs": [],
   "source": [
    "import pandas as pd\n",
    "import numpy as np\n",
    "import matplotlib.pyplot as plt\n",
    "from matplotlib.dates import DateFormatter, DateLocator\n",
    "from datetime import datetime, date\n",
    "from dateutil.relativedelta import relativedelta\n"
   ]
  },
  {
   "cell_type": "code",
   "execution_count": 2,
   "metadata": {},
   "outputs": [],
   "source": [
    "# Load data\n",
    "customers_fp = r\"C:\\Users\\GriffenRoweGaddis\\OneDrive - Kubrick Group\\Desktop\\Training\\Projects\\Bank Churn\\data\\customers_tm1_e.csv\"\n",
    "tran_fp = r\"C:\\Users\\GriffenRoweGaddis\\OneDrive - Kubrick Group\\Desktop\\Training\\Projects\\Bank Churn\\data\\transactions_tm1_e.csv\"\n",
    "\n",
    "cust_df = pd.read_csv(customers_fp)\n",
    "trans_df = pd.read_csv(tran_fp)"
   ]
  },
  {
   "cell_type": "code",
   "execution_count": 4,
   "metadata": {},
   "outputs": [
    {
     "name": "stdout",
     "output_type": "stream",
     "text": [
      "['customer_id' 'dob' 'state' 'start_balance' 'creation_date']\n",
      "['date' 'account_id' 'customer_id' 'amount' 'transaction_date' 'deposit'\n",
      " 'withdrawal']\n"
     ]
    }
   ],
   "source": [
    "print(cust_df.columns.values)\n",
    "print(trans_df.columns.values)"
   ]
  },
  {
   "cell_type": "code",
   "execution_count": null,
   "metadata": {},
   "outputs": [],
   "source": []
  },
  {
   "cell_type": "code",
   "execution_count": 57,
   "metadata": {},
   "outputs": [
    {
     "data": {
      "text/html": [
       "<div>\n",
       "<style scoped>\n",
       "    .dataframe tbody tr th:only-of-type {\n",
       "        vertical-align: middle;\n",
       "    }\n",
       "\n",
       "    .dataframe tbody tr th {\n",
       "        vertical-align: top;\n",
       "    }\n",
       "\n",
       "    .dataframe thead th {\n",
       "        text-align: right;\n",
       "    }\n",
       "</style>\n",
       "<table border=\"1\" class=\"dataframe\">\n",
       "  <thead>\n",
       "    <tr style=\"text-align: right;\">\n",
       "      <th></th>\n",
       "      <th>customer_id</th>\n",
       "      <th>dob</th>\n",
       "      <th>state</th>\n",
       "      <th>start_balance</th>\n",
       "      <th>creation_date</th>\n",
       "    </tr>\n",
       "  </thead>\n",
       "  <tbody>\n",
       "    <tr>\n",
       "      <th>0</th>\n",
       "      <td>91</td>\n",
       "      <td>1993-07-01</td>\n",
       "      <td>California</td>\n",
       "      <td>10180.56</td>\n",
       "      <td>2007-01-31</td>\n",
       "    </tr>\n",
       "    <tr>\n",
       "      <th>1</th>\n",
       "      <td>92</td>\n",
       "      <td>1985-12-05</td>\n",
       "      <td>New York</td>\n",
       "      <td>4757.68</td>\n",
       "      <td>2007-01-31</td>\n",
       "    </tr>\n",
       "    <tr>\n",
       "      <th>2</th>\n",
       "      <td>93</td>\n",
       "      <td>1987-11-19</td>\n",
       "      <td>Minnesota</td>\n",
       "      <td>6796.72</td>\n",
       "      <td>2007-01-31</td>\n",
       "    </tr>\n",
       "    <tr>\n",
       "      <th>3</th>\n",
       "      <td>94</td>\n",
       "      <td>1981-03-23</td>\n",
       "      <td>Minnesota</td>\n",
       "      <td>9870.48</td>\n",
       "      <td>2007-01-31</td>\n",
       "    </tr>\n",
       "    <tr>\n",
       "      <th>4</th>\n",
       "      <td>95</td>\n",
       "      <td>1970-04-06</td>\n",
       "      <td>California</td>\n",
       "      <td>12500.72</td>\n",
       "      <td>2007-01-31</td>\n",
       "    </tr>\n",
       "  </tbody>\n",
       "</table>\n",
       "</div>"
      ],
      "text/plain": [
       "   customer_id         dob       state  start_balance creation_date\n",
       "0           91  1993-07-01  California       10180.56    2007-01-31\n",
       "1           92  1985-12-05    New York        4757.68    2007-01-31\n",
       "2           93  1987-11-19   Minnesota        6796.72    2007-01-31\n",
       "3           94  1981-03-23   Minnesota        9870.48    2007-01-31\n",
       "4           95  1970-04-06  California       12500.72    2007-01-31"
      ]
     },
     "execution_count": 57,
     "metadata": {},
     "output_type": "execute_result"
    }
   ],
   "source": [
    "cust_df.head()"
   ]
  },
  {
   "attachments": {},
   "cell_type": "markdown",
   "metadata": {},
   "source": [
    "### Customer data processing and validation"
   ]
  },
  {
   "cell_type": "code",
   "execution_count": 5,
   "metadata": {},
   "outputs": [
    {
     "name": "stdout",
     "output_type": "stream",
     "text": [
      "<class 'pandas.core.frame.DataFrame'>\n",
      "RangeIndex: 116016 entries, 0 to 116015\n",
      "Data columns (total 5 columns):\n",
      " #   Column         Non-Null Count   Dtype  \n",
      "---  ------         --------------   -----  \n",
      " 0   customer_id    116016 non-null  int64  \n",
      " 1   dob            116016 non-null  object \n",
      " 2   state          116016 non-null  object \n",
      " 3   start_balance  116013 non-null  float64\n",
      " 4   creation_date  116016 non-null  object \n",
      "dtypes: float64(1), int64(1), object(3)\n",
      "memory usage: 4.4+ MB\n"
     ]
    }
   ],
   "source": [
    "# check and fix data types\n",
    "cust_df.info()\n",
    "\n",
    "cust_df[\"dob\"] = pd.to_datetime(cust_df[\"dob\"])\n",
    "cust_df[\"creation_date\"] = pd.to_datetime(cust_df[\"creation_date\"])\n",
    "\n"
   ]
  },
  {
   "cell_type": "code",
   "execution_count": 6,
   "metadata": {},
   "outputs": [],
   "source": [
    "# check and clean state columns\n",
    "\n",
    "# standardize columns\n",
    "cust_df['state'] = cust_df['state'].replace('MASS', 'Massachusetts')\n",
    "cust_df['state'] = cust_df['state'].replace('CALIFORNIA', 'California')\n",
    "cust_df['state'] = cust_df['state'].replace('NY', 'New York')\n",
    "cust_df['state'] = cust_df['state'].replace('TX', 'Texas')\n",
    "cust_df['state'] = cust_df['state'].replace(['UNK','-999','Australia'], 'N/A')\n"
   ]
  },
  {
   "cell_type": "code",
   "execution_count": 7,
   "metadata": {},
   "outputs": [
    {
     "name": "stdout",
     "output_type": "stream",
     "text": [
      "                      customer_id    dob  start_balance  creation_date\n",
      "state                                                                 \n",
      "Alabama                      1765   1765           1765           1765\n",
      "Alaska                        242    242            242            242\n",
      "Arizona                      2576   2576           2576           2576\n",
      "Arkansas                     1005   1005           1005           1005\n",
      "California                  14292  14292          14292          14292\n",
      "Colorado                     2093   2093           2093           2093\n",
      "Connecticut                  1284   1284           1284           1284\n",
      "Delaware                      369    369            369            369\n",
      "District of Columbia          241    241            241            241\n",
      "Florida                      7592   7592           7592           7592\n",
      "Georgia                      3808   3808           3808           3808\n",
      "Hawaii                        534    534            534            534\n",
      "Idaho                         658    658            658            658\n",
      "Illinois                     4630   4630           4630           4630\n",
      "Indiana                      2292   2292           2292           2292\n",
      "Iowa                         1097   1097           1097           1097\n",
      "Kansas                       1094   1094           1094           1094\n",
      "Kentucky                     1591   1591           1591           1591\n",
      "Louisiana                    1660   1660           1660           1660\n",
      "Maine                         501    501            501            501\n",
      "Maryland                     2157   2157           2157           2157\n",
      "Massachusetts                2454   2454           2454           2454\n",
      "Michigan                     3555   3555           3555           3555\n",
      "Minnesota                    2017   2017           2017           2017\n",
      "Missouri                     2226   2226           2224           2226\n",
      "Montana                       398    398            398            398\n",
      "N/A                             9      9              9              9\n",
      "Nebraska                      695    695            695            695\n",
      "Nevada                       1037   1037           1037           1037\n",
      "New Hampshire                 473    473            473            473\n",
      "New Jersey                   3101   3101           3101           3101\n",
      "New Mexico                    698    698            698            698\n",
      "New York                     6949   6949           6948           6949\n",
      "North Carolina               3836   3836           3836           3836\n",
      "North Dakota                  248    248            248            248\n",
      "Ohio                         4090   4090           4090           4090\n",
      "Oklahoma                     1394   1394           1394           1394\n",
      "Oregon                       1461   1461           1461           1461\n",
      "Pennsylvania                 4575   4575           4575           4575\n",
      "Rhode Island                  393    393            393            393\n",
      "South Carolina               1801   1801           1801           1801\n",
      "South Dakota                  303    303            303            303\n",
      "Tennessee                    2414   2414           2414           2414\n",
      "Texas                       10229  10229          10229          10229\n",
      "Utah                         1211   1211           1211           1211\n",
      "Vermont                       215    215            215            215\n",
      "Virginia                     3183   3183           3183           3183\n",
      "Washington                   2645   2645           2645           2645\n",
      "West Virginia                 629    629            629            629\n",
      "Wisconsin                    2103   2103           2103           2103\n",
      "Wyoming                       193    193            193            193\n"
     ]
    }
   ],
   "source": [
    "state_count = cust_df.groupby('state').count()\n",
    "print(state_count)"
   ]
  },
  {
   "cell_type": "code",
   "execution_count": 8,
   "metadata": {},
   "outputs": [
    {
     "name": "stdout",
     "output_type": "stream",
     "text": [
      "1999-12-17 00:00:00\n",
      "1941-04-01 00:00:00\n",
      "2020-05-31 00:00:00\n",
      "2007-01-31 00:00:00\n"
     ]
    }
   ],
   "source": [
    "# check and clean date columns\n",
    "print(cust_df[\"dob\"].max())\n",
    "print(cust_df[\"dob\"].min())\n",
    "print(cust_df[\"creation_date\"].max())\n",
    "print(cust_df[\"creation_date\"].min())\n",
    "\n",
    "# all dates seem to be coded correctly\n"
   ]
  },
  {
   "cell_type": "code",
   "execution_count": 9,
   "metadata": {},
   "outputs": [
    {
     "name": "stdout",
     "output_type": "stream",
     "text": [
      "-10000000000.0\n"
     ]
    }
   ],
   "source": [
    "print(cust_df[\"start_balance\"].min()) #-10000000000.0 needs to be dropped\n",
    "outliers = cust_df[(cust_df['start_balance'] <= -100000.0)]\n",
    "cust_df = cust_df.drop(outliers.index)"
   ]
  },
  {
   "cell_type": "code",
   "execution_count": 10,
   "metadata": {},
   "outputs": [
    {
     "data": {
      "text/plain": [
       "count    1.160120e+05\n",
       "mean     3.238348e+04\n",
       "std      6.564935e+06\n",
       "min      0.000000e+00\n",
       "25%      3.157870e+03\n",
       "50%      6.297440e+03\n",
       "75%      9.511180e+03\n",
       "max      2.000000e+09\n",
       "Name: start_balance, dtype: float64"
      ]
     },
     "execution_count": 10,
     "metadata": {},
     "output_type": "execute_result"
    }
   ],
   "source": [
    "cust_df['start_balance'].describe()"
   ]
  },
  {
   "cell_type": "code",
   "execution_count": 11,
   "metadata": {},
   "outputs": [],
   "source": [
    "# this will get the total number of transactions per customer and join to customer table\n",
    "trans_df['trans_num'] = trans_df.index\n",
    "trans_df['num_trans'] = trans_df.groupby('customer_id')['trans_num'].transform('count')\n",
    "grouped_tdf = trans_df.groupby(['customer_id',])['num_trans'].first().reset_index()\n",
    "cust_df = pd.merge(cust_df,grouped_tdf, how='left', on='customer_id')\n",
    "del grouped_tdf\n"
   ]
  },
  {
   "cell_type": "code",
   "execution_count": 12,
   "metadata": {},
   "outputs": [],
   "source": [
    "# this will get the average number of transactions per month per customer\n",
    "trans_num_df = trans_df.groupby(['customer_id','date'])['trans_num'].count()\n"
   ]
  },
  {
   "cell_type": "code",
   "execution_count": 13,
   "metadata": {},
   "outputs": [],
   "source": [
    "# average transaction number, average deposit amount, average withdrawal amount\n",
    "avg_trans_num = cust_df['num_trans'].mean() # average of transaction amount for each customer\n",
    "avg_deposit = trans_df['deposit'].mean()\n",
    "avg_withdrawal = trans_df['withdrawal'].mean()\n",
    "sd_trans_num = cust_df['num_trans'].std()"
   ]
  },
  {
   "cell_type": "code",
   "execution_count": 15,
   "metadata": {},
   "outputs": [],
   "source": [
    "# create response variable that =1 if num_trans\n",
    "from scipy.stats import zscore\n",
    "\n",
    "# z-score standardize the num_trans column\n",
    "cust_df['z_scores'] = zscore(cust_df['num_trans'])\n",
    "z_score_sd = cust_df['z_scores'].std()\n",
    "z_score_avg = cust_df['z_scores'].mean()\n",
    "threshold = z_score_avg - z_score_sd\n",
    "\n",
    "\n",
    "cust_df['risk_churn'] = np.where(cust_df['z_scores']<threshold,1,0)"
   ]
  },
  {
   "attachments": {},
   "cell_type": "markdown",
   "metadata": {},
   "source": [
    "### Transaction Data Cleaning and Processing"
   ]
  },
  {
   "cell_type": "code",
   "execution_count": 68,
   "metadata": {},
   "outputs": [
    {
     "data": {
      "text/plain": [
       "4597"
      ]
     },
     "metadata": {},
     "output_type": "display_data"
    }
   ],
   "source": [
    "display(cust_df['risk_churn'].sum())"
   ]
  },
  {
   "cell_type": "code",
   "execution_count": 17,
   "metadata": {},
   "outputs": [
    {
     "data": {
      "text/html": [
       "<div>\n",
       "<style scoped>\n",
       "    .dataframe tbody tr th:only-of-type {\n",
       "        vertical-align: middle;\n",
       "    }\n",
       "\n",
       "    .dataframe tbody tr th {\n",
       "        vertical-align: top;\n",
       "    }\n",
       "\n",
       "    .dataframe thead th {\n",
       "        text-align: right;\n",
       "    }\n",
       "</style>\n",
       "<table border=\"1\" class=\"dataframe\">\n",
       "  <thead>\n",
       "    <tr style=\"text-align: right;\">\n",
       "      <th></th>\n",
       "      <th>customer_id</th>\n",
       "      <th>dob</th>\n",
       "      <th>state</th>\n",
       "      <th>start_balance</th>\n",
       "      <th>creation_date</th>\n",
       "      <th>num_trans</th>\n",
       "      <th>z_scores</th>\n",
       "      <th>risk_churn</th>\n",
       "    </tr>\n",
       "  </thead>\n",
       "  <tbody>\n",
       "    <tr>\n",
       "      <th>0</th>\n",
       "      <td>91</td>\n",
       "      <td>1993-07-01</td>\n",
       "      <td>California</td>\n",
       "      <td>10180.56</td>\n",
       "      <td>2007-01-31</td>\n",
       "      <td>6</td>\n",
       "      <td>-0.917908</td>\n",
       "      <td>0</td>\n",
       "    </tr>\n",
       "    <tr>\n",
       "      <th>1</th>\n",
       "      <td>92</td>\n",
       "      <td>1985-12-05</td>\n",
       "      <td>New York</td>\n",
       "      <td>4757.68</td>\n",
       "      <td>2007-01-31</td>\n",
       "      <td>31</td>\n",
       "      <td>-0.296138</td>\n",
       "      <td>0</td>\n",
       "    </tr>\n",
       "    <tr>\n",
       "      <th>2</th>\n",
       "      <td>93</td>\n",
       "      <td>1987-11-19</td>\n",
       "      <td>Minnesota</td>\n",
       "      <td>6796.72</td>\n",
       "      <td>2007-01-31</td>\n",
       "      <td>29</td>\n",
       "      <td>-0.345880</td>\n",
       "      <td>0</td>\n",
       "    </tr>\n",
       "    <tr>\n",
       "      <th>3</th>\n",
       "      <td>94</td>\n",
       "      <td>1981-03-23</td>\n",
       "      <td>Minnesota</td>\n",
       "      <td>9870.48</td>\n",
       "      <td>2007-01-31</td>\n",
       "      <td>33</td>\n",
       "      <td>-0.246397</td>\n",
       "      <td>0</td>\n",
       "    </tr>\n",
       "    <tr>\n",
       "      <th>4</th>\n",
       "      <td>95</td>\n",
       "      <td>1970-04-06</td>\n",
       "      <td>California</td>\n",
       "      <td>12500.72</td>\n",
       "      <td>2007-01-31</td>\n",
       "      <td>47</td>\n",
       "      <td>0.101794</td>\n",
       "      <td>0</td>\n",
       "    </tr>\n",
       "    <tr>\n",
       "      <th>...</th>\n",
       "      <td>...</td>\n",
       "      <td>...</td>\n",
       "      <td>...</td>\n",
       "      <td>...</td>\n",
       "      <td>...</td>\n",
       "      <td>...</td>\n",
       "      <td>...</td>\n",
       "      <td>...</td>\n",
       "    </tr>\n",
       "    <tr>\n",
       "      <th>116010</th>\n",
       "      <td>116102</td>\n",
       "      <td>1969-03-02</td>\n",
       "      <td>Georgia</td>\n",
       "      <td>3110.96</td>\n",
       "      <td>2020-05-31</td>\n",
       "      <td>2</td>\n",
       "      <td>-1.017391</td>\n",
       "      <td>1</td>\n",
       "    </tr>\n",
       "    <tr>\n",
       "      <th>116011</th>\n",
       "      <td>116103</td>\n",
       "      <td>1966-10-25</td>\n",
       "      <td>New York</td>\n",
       "      <td>12063.92</td>\n",
       "      <td>2020-05-31</td>\n",
       "      <td>3</td>\n",
       "      <td>-0.992520</td>\n",
       "      <td>0</td>\n",
       "    </tr>\n",
       "    <tr>\n",
       "      <th>116012</th>\n",
       "      <td>116104</td>\n",
       "      <td>1986-04-30</td>\n",
       "      <td>Oklahoma</td>\n",
       "      <td>11011.36</td>\n",
       "      <td>2020-05-31</td>\n",
       "      <td>2</td>\n",
       "      <td>-1.017391</td>\n",
       "      <td>1</td>\n",
       "    </tr>\n",
       "    <tr>\n",
       "      <th>116013</th>\n",
       "      <td>116105</td>\n",
       "      <td>1983-08-25</td>\n",
       "      <td>New Mexico</td>\n",
       "      <td>8861.08</td>\n",
       "      <td>2020-05-31</td>\n",
       "      <td>1</td>\n",
       "      <td>-1.042261</td>\n",
       "      <td>1</td>\n",
       "    </tr>\n",
       "    <tr>\n",
       "      <th>116014</th>\n",
       "      <td>116106</td>\n",
       "      <td>1963-05-06</td>\n",
       "      <td>Ohio</td>\n",
       "      <td>201.32</td>\n",
       "      <td>2020-05-31</td>\n",
       "      <td>1</td>\n",
       "      <td>-1.042261</td>\n",
       "      <td>1</td>\n",
       "    </tr>\n",
       "  </tbody>\n",
       "</table>\n",
       "<p>116015 rows × 8 columns</p>\n",
       "</div>"
      ],
      "text/plain": [
       "        customer_id        dob       state  start_balance creation_date  \\\n",
       "0                91 1993-07-01  California       10180.56    2007-01-31   \n",
       "1                92 1985-12-05    New York        4757.68    2007-01-31   \n",
       "2                93 1987-11-19   Minnesota        6796.72    2007-01-31   \n",
       "3                94 1981-03-23   Minnesota        9870.48    2007-01-31   \n",
       "4                95 1970-04-06  California       12500.72    2007-01-31   \n",
       "...             ...        ...         ...            ...           ...   \n",
       "116010       116102 1969-03-02     Georgia        3110.96    2020-05-31   \n",
       "116011       116103 1966-10-25    New York       12063.92    2020-05-31   \n",
       "116012       116104 1986-04-30    Oklahoma       11011.36    2020-05-31   \n",
       "116013       116105 1983-08-25  New Mexico        8861.08    2020-05-31   \n",
       "116014       116106 1963-05-06        Ohio         201.32    2020-05-31   \n",
       "\n",
       "        num_trans  z_scores  risk_churn  \n",
       "0               6 -0.917908           0  \n",
       "1              31 -0.296138           0  \n",
       "2              29 -0.345880           0  \n",
       "3              33 -0.246397           0  \n",
       "4              47  0.101794           0  \n",
       "...           ...       ...         ...  \n",
       "116010          2 -1.017391           1  \n",
       "116011          3 -0.992520           0  \n",
       "116012          2 -1.017391           1  \n",
       "116013          1 -1.042261           1  \n",
       "116014          1 -1.042261           1  \n",
       "\n",
       "[116015 rows x 8 columns]"
      ]
     },
     "metadata": {},
     "output_type": "display_data"
    }
   ],
   "source": [
    "display(cust_df)"
   ]
  },
  {
   "cell_type": "code",
   "execution_count": 18,
   "metadata": {},
   "outputs": [
    {
     "data": {
      "text/html": [
       "<div>\n",
       "<style scoped>\n",
       "    .dataframe tbody tr th:only-of-type {\n",
       "        vertical-align: middle;\n",
       "    }\n",
       "\n",
       "    .dataframe tbody tr th {\n",
       "        vertical-align: top;\n",
       "    }\n",
       "\n",
       "    .dataframe thead th {\n",
       "        text-align: right;\n",
       "    }\n",
       "</style>\n",
       "<table border=\"1\" class=\"dataframe\">\n",
       "  <thead>\n",
       "    <tr style=\"text-align: right;\">\n",
       "      <th></th>\n",
       "      <th>date</th>\n",
       "      <th>account_id</th>\n",
       "      <th>customer_id</th>\n",
       "      <th>amount</th>\n",
       "      <th>transaction_date</th>\n",
       "      <th>deposit</th>\n",
       "      <th>withdrawal</th>\n",
       "      <th>trans_num</th>\n",
       "      <th>num_trans</th>\n",
       "    </tr>\n",
       "  </thead>\n",
       "  <tbody>\n",
       "    <tr>\n",
       "      <th>0</th>\n",
       "      <td>2007-01-31</td>\n",
       "      <td>24137947</td>\n",
       "      <td>91</td>\n",
       "      <td>3034.26</td>\n",
       "      <td>2007-01-31</td>\n",
       "      <td>3034.26</td>\n",
       "      <td>0.00</td>\n",
       "      <td>0</td>\n",
       "      <td>6</td>\n",
       "    </tr>\n",
       "    <tr>\n",
       "      <th>1</th>\n",
       "      <td>2007-01-31</td>\n",
       "      <td>24137947</td>\n",
       "      <td>91</td>\n",
       "      <td>-5295.18</td>\n",
       "      <td>2007-01-16</td>\n",
       "      <td>0.00</td>\n",
       "      <td>-5295.18</td>\n",
       "      <td>1</td>\n",
       "      <td>6</td>\n",
       "    </tr>\n",
       "    <tr>\n",
       "      <th>2</th>\n",
       "      <td>2007-02-28</td>\n",
       "      <td>24137947</td>\n",
       "      <td>91</td>\n",
       "      <td>0.00</td>\n",
       "      <td>2007-02-28</td>\n",
       "      <td>0.00</td>\n",
       "      <td>0.00</td>\n",
       "      <td>2</td>\n",
       "      <td>6</td>\n",
       "    </tr>\n",
       "    <tr>\n",
       "      <th>3</th>\n",
       "      <td>2007-03-31</td>\n",
       "      <td>24137947</td>\n",
       "      <td>91</td>\n",
       "      <td>-0.00</td>\n",
       "      <td>2007-03-30</td>\n",
       "      <td>0.00</td>\n",
       "      <td>-0.00</td>\n",
       "      <td>3</td>\n",
       "      <td>6</td>\n",
       "    </tr>\n",
       "    <tr>\n",
       "      <th>4</th>\n",
       "      <td>2007-03-31</td>\n",
       "      <td>24137947</td>\n",
       "      <td>91</td>\n",
       "      <td>-0.00</td>\n",
       "      <td>2007-03-11</td>\n",
       "      <td>0.00</td>\n",
       "      <td>-0.00</td>\n",
       "      <td>4</td>\n",
       "      <td>6</td>\n",
       "    </tr>\n",
       "  </tbody>\n",
       "</table>\n",
       "</div>"
      ],
      "text/plain": [
       "         date  account_id  customer_id   amount transaction_date  deposit  \\\n",
       "0  2007-01-31    24137947           91  3034.26       2007-01-31  3034.26   \n",
       "1  2007-01-31    24137947           91 -5295.18       2007-01-16     0.00   \n",
       "2  2007-02-28    24137947           91     0.00       2007-02-28     0.00   \n",
       "3  2007-03-31    24137947           91    -0.00       2007-03-30     0.00   \n",
       "4  2007-03-31    24137947           91    -0.00       2007-03-11     0.00   \n",
       "\n",
       "   withdrawal  trans_num  num_trans  \n",
       "0        0.00          0          6  \n",
       "1    -5295.18          1          6  \n",
       "2        0.00          2          6  \n",
       "3       -0.00          3          6  \n",
       "4       -0.00          4          6  "
      ]
     },
     "execution_count": 18,
     "metadata": {},
     "output_type": "execute_result"
    }
   ],
   "source": [
    "trans_df.head()\n"
   ]
  },
  {
   "cell_type": "code",
   "execution_count": 71,
   "metadata": {},
   "outputs": [
    {
     "name": "stdout",
     "output_type": "stream",
     "text": [
      "<class 'pandas.core.frame.DataFrame'>\n",
      "RangeIndex: 4977972 entries, 0 to 4977971\n",
      "Data columns (total 9 columns):\n",
      " #   Column            Dtype  \n",
      "---  ------            -----  \n",
      " 0   date              object \n",
      " 1   account_id        int64  \n",
      " 2   customer_id       int64  \n",
      " 3   amount            float64\n",
      " 4   transaction_date  object \n",
      " 5   deposit           float64\n",
      " 6   withdrawal        float64\n",
      " 7   trans_num         int64  \n",
      " 8   num_trans         int64  \n",
      "dtypes: float64(3), int64(4), object(2)\n",
      "memory usage: 341.8+ MB\n"
     ]
    }
   ],
   "source": [
    "trans_df.info()"
   ]
  },
  {
   "cell_type": "code",
   "execution_count": 19,
   "metadata": {},
   "outputs": [],
   "source": [
    "trans_df[\"transaction_date\"] = pd.to_datetime(trans_df[\"transaction_date\"])\n",
    "trans_df[\"date\"] = pd.to_datetime(trans_df[\"date\"])\n"
   ]
  },
  {
   "cell_type": "code",
   "execution_count": 20,
   "metadata": {},
   "outputs": [],
   "source": [
    "trans_df['month'] = trans_df['date'].dt.month\n",
    "trans_df['year'] = trans_df['date'].dt.year\n"
   ]
  },
  {
   "attachments": {},
   "cell_type": "markdown",
   "metadata": {},
   "source": [
    "#### Edwin's code modified"
   ]
  },
  {
   "cell_type": "code",
   "execution_count": 21,
   "metadata": {},
   "outputs": [],
   "source": [
    "# Extract start_balance series indexed by user_id\n",
    "c_start_balance = cust_df.loc[:,'start_balance']\n",
    "c_customer_ids = list(cust_df.loc[:,'customer_id'].values)\n",
    "c_start_balance.index = c_customer_ids\n",
    "#display(c_start_balance)\n",
    "\n",
    "# Group Transactions by user\n",
    "t_transaction_sum = trans_df.groupby('customer_id')['amount'].aggregate('sum')\n",
    "#display(t_transaction_sum)\n",
    "\n",
    "user_final_balances = c_start_balance.add(t_transaction_sum)\n",
    "\n",
    "# convert final balances series to dataframe to join with transaction data\n",
    "bal_df = user_final_balances.reset_index()\n",
    "bal_df = bal_df.rename(columns={0:'final_account_total',\"index\":\"customer_id\"})\n",
    "bal_df.head()\n",
    "\n",
    "# join with transaction data\n",
    "merged_df = pd.merge(trans_df, bal_df, on=\"customer_id\",how='left')"
   ]
  },
  {
   "cell_type": "code",
   "execution_count": 22,
   "metadata": {},
   "outputs": [
    {
     "data": {
      "text/html": [
       "<div>\n",
       "<style scoped>\n",
       "    .dataframe tbody tr th:only-of-type {\n",
       "        vertical-align: middle;\n",
       "    }\n",
       "\n",
       "    .dataframe tbody tr th {\n",
       "        vertical-align: top;\n",
       "    }\n",
       "\n",
       "    .dataframe thead th {\n",
       "        text-align: right;\n",
       "    }\n",
       "</style>\n",
       "<table border=\"1\" class=\"dataframe\">\n",
       "  <thead>\n",
       "    <tr style=\"text-align: right;\">\n",
       "      <th></th>\n",
       "      <th>customer_id</th>\n",
       "      <th>dob</th>\n",
       "      <th>state</th>\n",
       "      <th>start_balance</th>\n",
       "      <th>creation_date</th>\n",
       "      <th>num_trans</th>\n",
       "      <th>z_scores</th>\n",
       "      <th>risk_churn</th>\n",
       "    </tr>\n",
       "  </thead>\n",
       "  <tbody>\n",
       "    <tr>\n",
       "      <th>0</th>\n",
       "      <td>91</td>\n",
       "      <td>1993-07-01</td>\n",
       "      <td>California</td>\n",
       "      <td>10180.56</td>\n",
       "      <td>2007-01-31</td>\n",
       "      <td>6</td>\n",
       "      <td>-0.917908</td>\n",
       "      <td>0</td>\n",
       "    </tr>\n",
       "    <tr>\n",
       "      <th>1</th>\n",
       "      <td>92</td>\n",
       "      <td>1985-12-05</td>\n",
       "      <td>New York</td>\n",
       "      <td>4757.68</td>\n",
       "      <td>2007-01-31</td>\n",
       "      <td>31</td>\n",
       "      <td>-0.296138</td>\n",
       "      <td>0</td>\n",
       "    </tr>\n",
       "    <tr>\n",
       "      <th>2</th>\n",
       "      <td>93</td>\n",
       "      <td>1987-11-19</td>\n",
       "      <td>Minnesota</td>\n",
       "      <td>6796.72</td>\n",
       "      <td>2007-01-31</td>\n",
       "      <td>29</td>\n",
       "      <td>-0.345880</td>\n",
       "      <td>0</td>\n",
       "    </tr>\n",
       "    <tr>\n",
       "      <th>3</th>\n",
       "      <td>94</td>\n",
       "      <td>1981-03-23</td>\n",
       "      <td>Minnesota</td>\n",
       "      <td>9870.48</td>\n",
       "      <td>2007-01-31</td>\n",
       "      <td>33</td>\n",
       "      <td>-0.246397</td>\n",
       "      <td>0</td>\n",
       "    </tr>\n",
       "    <tr>\n",
       "      <th>4</th>\n",
       "      <td>95</td>\n",
       "      <td>1970-04-06</td>\n",
       "      <td>California</td>\n",
       "      <td>12500.72</td>\n",
       "      <td>2007-01-31</td>\n",
       "      <td>47</td>\n",
       "      <td>0.101794</td>\n",
       "      <td>0</td>\n",
       "    </tr>\n",
       "  </tbody>\n",
       "</table>\n",
       "</div>"
      ],
      "text/plain": [
       "   customer_id        dob       state  start_balance creation_date  num_trans  \\\n",
       "0           91 1993-07-01  California       10180.56    2007-01-31          6   \n",
       "1           92 1985-12-05    New York        4757.68    2007-01-31         31   \n",
       "2           93 1987-11-19   Minnesota        6796.72    2007-01-31         29   \n",
       "3           94 1981-03-23   Minnesota        9870.48    2007-01-31         33   \n",
       "4           95 1970-04-06  California       12500.72    2007-01-31         47   \n",
       "\n",
       "   z_scores  risk_churn  \n",
       "0 -0.917908           0  \n",
       "1 -0.296138           0  \n",
       "2 -0.345880           0  \n",
       "3 -0.246397           0  \n",
       "4  0.101794           0  "
      ]
     },
     "execution_count": 22,
     "metadata": {},
     "output_type": "execute_result"
    }
   ],
   "source": [
    "cust_df.head()"
   ]
  },
  {
   "cell_type": "code",
   "execution_count": 23,
   "metadata": {},
   "outputs": [
    {
     "data": {
      "text/html": [
       "<div>\n",
       "<style scoped>\n",
       "    .dataframe tbody tr th:only-of-type {\n",
       "        vertical-align: middle;\n",
       "    }\n",
       "\n",
       "    .dataframe tbody tr th {\n",
       "        vertical-align: top;\n",
       "    }\n",
       "\n",
       "    .dataframe thead th {\n",
       "        text-align: right;\n",
       "    }\n",
       "</style>\n",
       "<table border=\"1\" class=\"dataframe\">\n",
       "  <thead>\n",
       "    <tr style=\"text-align: right;\">\n",
       "      <th></th>\n",
       "      <th>date</th>\n",
       "      <th>account_id</th>\n",
       "      <th>customer_id</th>\n",
       "      <th>amount</th>\n",
       "      <th>transaction_date</th>\n",
       "      <th>deposit</th>\n",
       "      <th>withdrawal</th>\n",
       "      <th>trans_num</th>\n",
       "      <th>num_trans</th>\n",
       "      <th>month</th>\n",
       "      <th>year</th>\n",
       "      <th>final_account_total</th>\n",
       "    </tr>\n",
       "  </thead>\n",
       "  <tbody>\n",
       "    <tr>\n",
       "      <th>0</th>\n",
       "      <td>2007-01-31</td>\n",
       "      <td>24137947</td>\n",
       "      <td>91</td>\n",
       "      <td>3034.26</td>\n",
       "      <td>2007-01-31</td>\n",
       "      <td>3034.26</td>\n",
       "      <td>0.00</td>\n",
       "      <td>0</td>\n",
       "      <td>6</td>\n",
       "      <td>1</td>\n",
       "      <td>2007</td>\n",
       "      <td>7919.64</td>\n",
       "    </tr>\n",
       "    <tr>\n",
       "      <th>1</th>\n",
       "      <td>2007-01-31</td>\n",
       "      <td>24137947</td>\n",
       "      <td>91</td>\n",
       "      <td>-5295.18</td>\n",
       "      <td>2007-01-16</td>\n",
       "      <td>0.00</td>\n",
       "      <td>-5295.18</td>\n",
       "      <td>1</td>\n",
       "      <td>6</td>\n",
       "      <td>1</td>\n",
       "      <td>2007</td>\n",
       "      <td>7919.64</td>\n",
       "    </tr>\n",
       "    <tr>\n",
       "      <th>2</th>\n",
       "      <td>2007-02-28</td>\n",
       "      <td>24137947</td>\n",
       "      <td>91</td>\n",
       "      <td>0.00</td>\n",
       "      <td>2007-02-28</td>\n",
       "      <td>0.00</td>\n",
       "      <td>0.00</td>\n",
       "      <td>2</td>\n",
       "      <td>6</td>\n",
       "      <td>2</td>\n",
       "      <td>2007</td>\n",
       "      <td>7919.64</td>\n",
       "    </tr>\n",
       "    <tr>\n",
       "      <th>3</th>\n",
       "      <td>2007-03-31</td>\n",
       "      <td>24137947</td>\n",
       "      <td>91</td>\n",
       "      <td>-0.00</td>\n",
       "      <td>2007-03-30</td>\n",
       "      <td>0.00</td>\n",
       "      <td>-0.00</td>\n",
       "      <td>3</td>\n",
       "      <td>6</td>\n",
       "      <td>3</td>\n",
       "      <td>2007</td>\n",
       "      <td>7919.64</td>\n",
       "    </tr>\n",
       "    <tr>\n",
       "      <th>4</th>\n",
       "      <td>2007-03-31</td>\n",
       "      <td>24137947</td>\n",
       "      <td>91</td>\n",
       "      <td>-0.00</td>\n",
       "      <td>2007-03-11</td>\n",
       "      <td>0.00</td>\n",
       "      <td>-0.00</td>\n",
       "      <td>4</td>\n",
       "      <td>6</td>\n",
       "      <td>3</td>\n",
       "      <td>2007</td>\n",
       "      <td>7919.64</td>\n",
       "    </tr>\n",
       "    <tr>\n",
       "      <th>5</th>\n",
       "      <td>2007-03-31</td>\n",
       "      <td>24137947</td>\n",
       "      <td>91</td>\n",
       "      <td>-0.00</td>\n",
       "      <td>2007-03-20</td>\n",
       "      <td>0.00</td>\n",
       "      <td>-0.00</td>\n",
       "      <td>5</td>\n",
       "      <td>6</td>\n",
       "      <td>3</td>\n",
       "      <td>2007</td>\n",
       "      <td>7919.64</td>\n",
       "    </tr>\n",
       "  </tbody>\n",
       "</table>\n",
       "</div>"
      ],
      "text/plain": [
       "        date  account_id  customer_id   amount transaction_date  deposit  \\\n",
       "0 2007-01-31    24137947           91  3034.26       2007-01-31  3034.26   \n",
       "1 2007-01-31    24137947           91 -5295.18       2007-01-16     0.00   \n",
       "2 2007-02-28    24137947           91     0.00       2007-02-28     0.00   \n",
       "3 2007-03-31    24137947           91    -0.00       2007-03-30     0.00   \n",
       "4 2007-03-31    24137947           91    -0.00       2007-03-11     0.00   \n",
       "5 2007-03-31    24137947           91    -0.00       2007-03-20     0.00   \n",
       "\n",
       "   withdrawal  trans_num  num_trans  month  year  final_account_total  \n",
       "0        0.00          0          6      1  2007              7919.64  \n",
       "1    -5295.18          1          6      1  2007              7919.64  \n",
       "2        0.00          2          6      2  2007              7919.64  \n",
       "3       -0.00          3          6      3  2007              7919.64  \n",
       "4       -0.00          4          6      3  2007              7919.64  \n",
       "5       -0.00          5          6      3  2007              7919.64  "
      ]
     },
     "metadata": {},
     "output_type": "display_data"
    }
   ],
   "source": [
    "display(merged_df[merged_df['customer_id']==91])"
   ]
  },
  {
   "cell_type": "code",
   "execution_count": 24,
   "metadata": {},
   "outputs": [],
   "source": [
    "# aggregate data by month, customer_id\n",
    "grouped_df = merged_df.groupby(['year','month','customer_id','final_account_total']).agg({'amount':'sum','deposit':'sum','withdrawal':'sum'}).reset_index()"
   ]
  },
  {
   "cell_type": "code",
   "execution_count": 25,
   "metadata": {},
   "outputs": [],
   "source": [
    "# merge grouped data with customer data to get the starting balance\n",
    "grouped_df2 = pd.merge(grouped_df, cust_df[['customer_id','start_balance']], on='customer_id',how='left')"
   ]
  },
  {
   "cell_type": "code",
   "execution_count": 26,
   "metadata": {},
   "outputs": [],
   "source": [
    "# set month_start_bal to be starting balance iff row has first instance of customer_id\n",
    "grouped_df2['month_start_bal'] = grouped_df2.groupby('customer_id')['start_balance'].transform('first')\n",
    "grouped_df2.loc[grouped_df2.duplicated(subset=['customer_id']), 'month_start_bal'] = 0\n",
    "# grouped_df2['month_total_trans'] = grouped_df2.groupby(['year','month','customer_id']).sum()\n",
    "grouped_df2['month_end_bal'] = grouped_df2['month_start_bal'] + grouped_df2['deposit'] + grouped_df2['withdrawal']"
   ]
  },
  {
   "cell_type": "code",
   "execution_count": 27,
   "metadata": {},
   "outputs": [
    {
     "data": {
      "text/html": [
       "<div>\n",
       "<style scoped>\n",
       "    .dataframe tbody tr th:only-of-type {\n",
       "        vertical-align: middle;\n",
       "    }\n",
       "\n",
       "    .dataframe tbody tr th {\n",
       "        vertical-align: top;\n",
       "    }\n",
       "\n",
       "    .dataframe thead th {\n",
       "        text-align: right;\n",
       "    }\n",
       "</style>\n",
       "<table border=\"1\" class=\"dataframe\">\n",
       "  <thead>\n",
       "    <tr style=\"text-align: right;\">\n",
       "      <th></th>\n",
       "      <th>year</th>\n",
       "      <th>month</th>\n",
       "      <th>customer_id</th>\n",
       "      <th>final_account_total</th>\n",
       "      <th>amount</th>\n",
       "      <th>deposit</th>\n",
       "      <th>withdrawal</th>\n",
       "      <th>start_balance</th>\n",
       "      <th>month_start_bal</th>\n",
       "      <th>month_end_bal</th>\n",
       "    </tr>\n",
       "  </thead>\n",
       "  <tbody>\n",
       "    <tr>\n",
       "      <th>0</th>\n",
       "      <td>2007</td>\n",
       "      <td>1</td>\n",
       "      <td>91</td>\n",
       "      <td>7919.64</td>\n",
       "      <td>-2260.92</td>\n",
       "      <td>3034.26</td>\n",
       "      <td>-5295.18</td>\n",
       "      <td>10180.56</td>\n",
       "      <td>10180.56</td>\n",
       "      <td>7919.64</td>\n",
       "    </tr>\n",
       "    <tr>\n",
       "      <th>1</th>\n",
       "      <td>2007</td>\n",
       "      <td>1</td>\n",
       "      <td>92</td>\n",
       "      <td>10420.62</td>\n",
       "      <td>0.00</td>\n",
       "      <td>0.00</td>\n",
       "      <td>0.00</td>\n",
       "      <td>4757.68</td>\n",
       "      <td>4757.68</td>\n",
       "      <td>4757.68</td>\n",
       "    </tr>\n",
       "    <tr>\n",
       "      <th>2</th>\n",
       "      <td>2007</td>\n",
       "      <td>1</td>\n",
       "      <td>93</td>\n",
       "      <td>7654.18</td>\n",
       "      <td>1809.75</td>\n",
       "      <td>1809.75</td>\n",
       "      <td>0.00</td>\n",
       "      <td>6796.72</td>\n",
       "      <td>6796.72</td>\n",
       "      <td>8606.47</td>\n",
       "    </tr>\n",
       "    <tr>\n",
       "      <th>3</th>\n",
       "      <td>2007</td>\n",
       "      <td>1</td>\n",
       "      <td>94</td>\n",
       "      <td>10882.96</td>\n",
       "      <td>-3229.76</td>\n",
       "      <td>3358.06</td>\n",
       "      <td>-6587.82</td>\n",
       "      <td>9870.48</td>\n",
       "      <td>9870.48</td>\n",
       "      <td>6640.72</td>\n",
       "    </tr>\n",
       "    <tr>\n",
       "      <th>4</th>\n",
       "      <td>2007</td>\n",
       "      <td>1</td>\n",
       "      <td>95</td>\n",
       "      <td>24945.97</td>\n",
       "      <td>3669.75</td>\n",
       "      <td>3669.75</td>\n",
       "      <td>0.00</td>\n",
       "      <td>12500.72</td>\n",
       "      <td>12500.72</td>\n",
       "      <td>16170.47</td>\n",
       "    </tr>\n",
       "  </tbody>\n",
       "</table>\n",
       "</div>"
      ],
      "text/plain": [
       "   year  month  customer_id  final_account_total   amount  deposit  \\\n",
       "0  2007      1           91              7919.64 -2260.92  3034.26   \n",
       "1  2007      1           92             10420.62     0.00     0.00   \n",
       "2  2007      1           93              7654.18  1809.75  1809.75   \n",
       "3  2007      1           94             10882.96 -3229.76  3358.06   \n",
       "4  2007      1           95             24945.97  3669.75  3669.75   \n",
       "\n",
       "   withdrawal  start_balance  month_start_bal  month_end_bal  \n",
       "0    -5295.18       10180.56         10180.56        7919.64  \n",
       "1        0.00        4757.68          4757.68        4757.68  \n",
       "2        0.00        6796.72          6796.72        8606.47  \n",
       "3    -6587.82        9870.48          9870.48        6640.72  \n",
       "4        0.00       12500.72         12500.72       16170.47  "
      ]
     },
     "execution_count": 27,
     "metadata": {},
     "output_type": "execute_result"
    }
   ],
   "source": [
    "grouped_df2.head()"
   ]
  },
  {
   "cell_type": "code",
   "execution_count": 28,
   "metadata": {},
   "outputs": [
    {
     "data": {
      "text/html": [
       "<div>\n",
       "<style scoped>\n",
       "    .dataframe tbody tr th:only-of-type {\n",
       "        vertical-align: middle;\n",
       "    }\n",
       "\n",
       "    .dataframe tbody tr th {\n",
       "        vertical-align: top;\n",
       "    }\n",
       "\n",
       "    .dataframe thead th {\n",
       "        text-align: right;\n",
       "    }\n",
       "</style>\n",
       "<table border=\"1\" class=\"dataframe\">\n",
       "  <thead>\n",
       "    <tr style=\"text-align: right;\">\n",
       "      <th></th>\n",
       "      <th>year</th>\n",
       "      <th>month</th>\n",
       "      <th>customer_id</th>\n",
       "      <th>final_account_total</th>\n",
       "      <th>amount</th>\n",
       "      <th>deposit</th>\n",
       "      <th>withdrawal</th>\n",
       "      <th>start_balance</th>\n",
       "      <th>month_start_bal</th>\n",
       "      <th>month_end_bal</th>\n",
       "    </tr>\n",
       "  </thead>\n",
       "  <tbody>\n",
       "    <tr>\n",
       "      <th>3</th>\n",
       "      <td>2007</td>\n",
       "      <td>1</td>\n",
       "      <td>94</td>\n",
       "      <td>10882.96</td>\n",
       "      <td>-3229.76</td>\n",
       "      <td>3358.06</td>\n",
       "      <td>-6587.82</td>\n",
       "      <td>9870.48</td>\n",
       "      <td>9870.48</td>\n",
       "      <td>6640.72</td>\n",
       "    </tr>\n",
       "    <tr>\n",
       "      <th>10003</th>\n",
       "      <td>2007</td>\n",
       "      <td>2</td>\n",
       "      <td>94</td>\n",
       "      <td>10882.96</td>\n",
       "      <td>-2345.19</td>\n",
       "      <td>2930.84</td>\n",
       "      <td>-5276.03</td>\n",
       "      <td>9870.48</td>\n",
       "      <td>0.00</td>\n",
       "      <td>-2345.19</td>\n",
       "    </tr>\n",
       "    <tr>\n",
       "      <th>19988</th>\n",
       "      <td>2007</td>\n",
       "      <td>3</td>\n",
       "      <td>94</td>\n",
       "      <td>10882.96</td>\n",
       "      <td>2280.40</td>\n",
       "      <td>2280.40</td>\n",
       "      <td>0.00</td>\n",
       "      <td>9870.48</td>\n",
       "      <td>0.00</td>\n",
       "      <td>2280.40</td>\n",
       "    </tr>\n",
       "    <tr>\n",
       "      <th>29954</th>\n",
       "      <td>2007</td>\n",
       "      <td>4</td>\n",
       "      <td>94</td>\n",
       "      <td>10882.96</td>\n",
       "      <td>2910.11</td>\n",
       "      <td>2910.11</td>\n",
       "      <td>0.00</td>\n",
       "      <td>9870.48</td>\n",
       "      <td>0.00</td>\n",
       "      <td>2910.11</td>\n",
       "    </tr>\n",
       "    <tr>\n",
       "      <th>39887</th>\n",
       "      <td>2007</td>\n",
       "      <td>5</td>\n",
       "      <td>94</td>\n",
       "      <td>10882.96</td>\n",
       "      <td>-1837.20</td>\n",
       "      <td>3090.86</td>\n",
       "      <td>-4928.06</td>\n",
       "      <td>9870.48</td>\n",
       "      <td>0.00</td>\n",
       "      <td>-1837.20</td>\n",
       "    </tr>\n",
       "    <tr>\n",
       "      <th>49768</th>\n",
       "      <td>2007</td>\n",
       "      <td>6</td>\n",
       "      <td>94</td>\n",
       "      <td>10882.96</td>\n",
       "      <td>0.00</td>\n",
       "      <td>0.00</td>\n",
       "      <td>0.00</td>\n",
       "      <td>9870.48</td>\n",
       "      <td>0.00</td>\n",
       "      <td>0.00</td>\n",
       "    </tr>\n",
       "    <tr>\n",
       "      <th>59459</th>\n",
       "      <td>2007</td>\n",
       "      <td>7</td>\n",
       "      <td>94</td>\n",
       "      <td>10882.96</td>\n",
       "      <td>3234.12</td>\n",
       "      <td>3234.12</td>\n",
       "      <td>0.00</td>\n",
       "      <td>9870.48</td>\n",
       "      <td>0.00</td>\n",
       "      <td>3234.12</td>\n",
       "    </tr>\n",
       "    <tr>\n",
       "      <th>69069</th>\n",
       "      <td>2007</td>\n",
       "      <td>8</td>\n",
       "      <td>94</td>\n",
       "      <td>10882.96</td>\n",
       "      <td>0.00</td>\n",
       "      <td>0.00</td>\n",
       "      <td>0.00</td>\n",
       "      <td>9870.48</td>\n",
       "      <td>0.00</td>\n",
       "      <td>0.00</td>\n",
       "    </tr>\n",
       "    <tr>\n",
       "      <th>78364</th>\n",
       "      <td>2007</td>\n",
       "      <td>9</td>\n",
       "      <td>94</td>\n",
       "      <td>10882.96</td>\n",
       "      <td>0.00</td>\n",
       "      <td>0.00</td>\n",
       "      <td>0.00</td>\n",
       "      <td>9870.48</td>\n",
       "      <td>0.00</td>\n",
       "      <td>0.00</td>\n",
       "    </tr>\n",
       "    <tr>\n",
       "      <th>87865</th>\n",
       "      <td>2007</td>\n",
       "      <td>10</td>\n",
       "      <td>94</td>\n",
       "      <td>10882.96</td>\n",
       "      <td>0.00</td>\n",
       "      <td>0.00</td>\n",
       "      <td>0.00</td>\n",
       "      <td>9870.48</td>\n",
       "      <td>0.00</td>\n",
       "      <td>0.00</td>\n",
       "    </tr>\n",
       "  </tbody>\n",
       "</table>\n",
       "</div>"
      ],
      "text/plain": [
       "       year  month  customer_id  final_account_total   amount  deposit  \\\n",
       "3      2007      1           94             10882.96 -3229.76  3358.06   \n",
       "10003  2007      2           94             10882.96 -2345.19  2930.84   \n",
       "19988  2007      3           94             10882.96  2280.40  2280.40   \n",
       "29954  2007      4           94             10882.96  2910.11  2910.11   \n",
       "39887  2007      5           94             10882.96 -1837.20  3090.86   \n",
       "49768  2007      6           94             10882.96     0.00     0.00   \n",
       "59459  2007      7           94             10882.96  3234.12  3234.12   \n",
       "69069  2007      8           94             10882.96     0.00     0.00   \n",
       "78364  2007      9           94             10882.96     0.00     0.00   \n",
       "87865  2007     10           94             10882.96     0.00     0.00   \n",
       "\n",
       "       withdrawal  start_balance  month_start_bal  month_end_bal  \n",
       "3        -6587.82        9870.48          9870.48        6640.72  \n",
       "10003    -5276.03        9870.48             0.00       -2345.19  \n",
       "19988        0.00        9870.48             0.00        2280.40  \n",
       "29954        0.00        9870.48             0.00        2910.11  \n",
       "39887    -4928.06        9870.48             0.00       -1837.20  \n",
       "49768        0.00        9870.48             0.00           0.00  \n",
       "59459        0.00        9870.48             0.00        3234.12  \n",
       "69069        0.00        9870.48             0.00           0.00  \n",
       "78364        0.00        9870.48             0.00           0.00  \n",
       "87865        0.00        9870.48             0.00           0.00  "
      ]
     },
     "metadata": {},
     "output_type": "display_data"
    }
   ],
   "source": [
    "display(grouped_df2[grouped_df2['customer_id']==94])\n"
   ]
  },
  {
   "attachments": {},
   "cell_type": "markdown",
   "metadata": {},
   "source": [
    "### Customer EDA"
   ]
  },
  {
   "cell_type": "code",
   "execution_count": 29,
   "metadata": {},
   "outputs": [
    {
     "data": {
      "text/html": [
       "<div>\n",
       "<style scoped>\n",
       "    .dataframe tbody tr th:only-of-type {\n",
       "        vertical-align: middle;\n",
       "    }\n",
       "\n",
       "    .dataframe tbody tr th {\n",
       "        vertical-align: top;\n",
       "    }\n",
       "\n",
       "    .dataframe thead th {\n",
       "        text-align: right;\n",
       "    }\n",
       "</style>\n",
       "<table border=\"1\" class=\"dataframe\">\n",
       "  <thead>\n",
       "    <tr style=\"text-align: right;\">\n",
       "      <th></th>\n",
       "      <th>customer_id</th>\n",
       "      <th>dob</th>\n",
       "      <th>state</th>\n",
       "      <th>start_balance</th>\n",
       "      <th>creation_date</th>\n",
       "      <th>num_trans</th>\n",
       "      <th>z_scores</th>\n",
       "      <th>risk_churn</th>\n",
       "    </tr>\n",
       "  </thead>\n",
       "  <tbody>\n",
       "    <tr>\n",
       "      <th>0</th>\n",
       "      <td>91</td>\n",
       "      <td>1993-07-01</td>\n",
       "      <td>California</td>\n",
       "      <td>10180.56</td>\n",
       "      <td>2007-01-31</td>\n",
       "      <td>6</td>\n",
       "      <td>-0.917908</td>\n",
       "      <td>0</td>\n",
       "    </tr>\n",
       "    <tr>\n",
       "      <th>1</th>\n",
       "      <td>92</td>\n",
       "      <td>1985-12-05</td>\n",
       "      <td>New York</td>\n",
       "      <td>4757.68</td>\n",
       "      <td>2007-01-31</td>\n",
       "      <td>31</td>\n",
       "      <td>-0.296138</td>\n",
       "      <td>0</td>\n",
       "    </tr>\n",
       "    <tr>\n",
       "      <th>2</th>\n",
       "      <td>93</td>\n",
       "      <td>1987-11-19</td>\n",
       "      <td>Minnesota</td>\n",
       "      <td>6796.72</td>\n",
       "      <td>2007-01-31</td>\n",
       "      <td>29</td>\n",
       "      <td>-0.345880</td>\n",
       "      <td>0</td>\n",
       "    </tr>\n",
       "    <tr>\n",
       "      <th>3</th>\n",
       "      <td>94</td>\n",
       "      <td>1981-03-23</td>\n",
       "      <td>Minnesota</td>\n",
       "      <td>9870.48</td>\n",
       "      <td>2007-01-31</td>\n",
       "      <td>33</td>\n",
       "      <td>-0.246397</td>\n",
       "      <td>0</td>\n",
       "    </tr>\n",
       "    <tr>\n",
       "      <th>4</th>\n",
       "      <td>95</td>\n",
       "      <td>1970-04-06</td>\n",
       "      <td>California</td>\n",
       "      <td>12500.72</td>\n",
       "      <td>2007-01-31</td>\n",
       "      <td>47</td>\n",
       "      <td>0.101794</td>\n",
       "      <td>0</td>\n",
       "    </tr>\n",
       "  </tbody>\n",
       "</table>\n",
       "</div>"
      ],
      "text/plain": [
       "   customer_id        dob       state  start_balance creation_date  num_trans  \\\n",
       "0           91 1993-07-01  California       10180.56    2007-01-31          6   \n",
       "1           92 1985-12-05    New York        4757.68    2007-01-31         31   \n",
       "2           93 1987-11-19   Minnesota        6796.72    2007-01-31         29   \n",
       "3           94 1981-03-23   Minnesota        9870.48    2007-01-31         33   \n",
       "4           95 1970-04-06  California       12500.72    2007-01-31         47   \n",
       "\n",
       "   z_scores  risk_churn  \n",
       "0 -0.917908           0  \n",
       "1 -0.296138           0  \n",
       "2 -0.345880           0  \n",
       "3 -0.246397           0  \n",
       "4  0.101794           0  "
      ]
     },
     "execution_count": 29,
     "metadata": {},
     "output_type": "execute_result"
    }
   ],
   "source": [
    "cust_df.head()"
   ]
  },
  {
   "cell_type": "code",
   "execution_count": 83,
   "metadata": {},
   "outputs": [],
   "source": [
    "# customer demographics - add age column\n",
    "cust_df[\"last_date\"] = datetime.strptime('2020-06-01', \"%Y-%m-%d\")\n",
    "cust_df[\"age\"] = cust_df.apply(lambda row: relativedelta(row['last_date'], row['dob']).years, axis=1)"
   ]
  },
  {
   "attachments": {},
   "cell_type": "markdown",
   "metadata": {},
   "source": [
    "#### Age notes:\n",
    "- Need to be wary of customers that pass away and be sure they aren't included.\n",
    "- Older people in general are less likely to change banks, should be excluded from analysis.\n",
    "- Youngest is 20 at time of end analysis. Are there people who open bank accounts for their teenagers and only deposit infrequently? May want to exclude them as well.\n",
    "- Can I plot the average (relative) age over time?"
   ]
  },
  {
   "cell_type": "code",
   "execution_count": 84,
   "metadata": {},
   "outputs": [
    {
     "data": {
      "text/plain": [
       "count    116015.000000\n",
       "mean         39.185933\n",
       "std          11.209584\n",
       "min          20.000000\n",
       "25%          30.000000\n",
       "50%          38.000000\n",
       "75%          47.000000\n",
       "max          79.000000\n",
       "Name: age, dtype: float64"
      ]
     },
     "execution_count": 84,
     "metadata": {},
     "output_type": "execute_result"
    }
   ],
   "source": [
    "cust_df[\"age\"].describe() # oldest person is 79 and youngest person is 20"
   ]
  },
  {
   "cell_type": "code",
   "execution_count": 85,
   "metadata": {},
   "outputs": [
    {
     "data": {
      "text/plain": [
       "count    1.160120e+05\n",
       "mean     3.238348e+04\n",
       "std      6.564935e+06\n",
       "min      0.000000e+00\n",
       "25%      3.157870e+03\n",
       "50%      6.297440e+03\n",
       "75%      9.511180e+03\n",
       "max      2.000000e+09\n",
       "Name: start_balance, dtype: float64"
      ]
     },
     "execution_count": 85,
     "metadata": {},
     "output_type": "execute_result"
    }
   ],
   "source": [
    "cust_df[\"start_balance\"].describe() # heavily skewed by one outlier\n"
   ]
  },
  {
   "attachments": {},
   "cell_type": "markdown",
   "metadata": {},
   "source": [
    "### Transaction EDA"
   ]
  },
  {
   "cell_type": "code",
   "execution_count": 86,
   "metadata": {},
   "outputs": [],
   "source": [
    "# plot average account total over time\n",
    "# avg_acct_total = grouped_data.groupby('year')[\"account_total\"].mean()"
   ]
  },
  {
   "cell_type": "code",
   "execution_count": 87,
   "metadata": {},
   "outputs": [],
   "source": [
    "# avg_acct_total.head()"
   ]
  },
  {
   "cell_type": "code",
   "execution_count": 88,
   "metadata": {},
   "outputs": [
    {
     "data": {
      "image/png": "[encoded data removed]",
      "text/plain": [
       "<Figure size 640x480 with 1 Axes>"
      ]
     },
     "metadata": {},
     "output_type": "display_data"
    }
   ],
   "source": [
    "# plt.plot()\n",
    "# plt.xlabel('Time (Years)')\n",
    "# plt.ylabel('Average Value')\n",
    "# plt.title('Average Over Time')\n",
    "# plt.show()"
   ]
  },
  {
   "attachments": {},
   "cell_type": "markdown",
   "metadata": {},
   "source": [
    "## Economic Data"
   ]
  },
  {
   "cell_type": "code",
   "execution_count": 89,
   "metadata": {},
   "outputs": [],
   "source": [
    "gdp_fp = r\"C:\\Users\\GriffenRoweGaddis\\OneDrive - Kubrick Group\\Desktop\\Training\\Projects\\Bank Churn\\data\\gdp.csv\"\n",
    "ff_fp = r\"C:\\Users\\GriffenRoweGaddis\\OneDrive - Kubrick Group\\Desktop\\Training\\Projects\\Bank Churn\\data\\FEDFUNDS.csv\"\n",
    "unem_fp = r\"C:\\Users\\GriffenRoweGaddis\\OneDrive - Kubrick Group\\Desktop\\Training\\Projects\\Bank Churn\\data\\UNRATE.csv\"\n",
    "\n",
    "gdp_df = pd.read_csv(gdp_fp)\n",
    "fedfunds_df = pd.read_csv(ff_fp)\n",
    "unem_df = pd.read_csv(unem_fp)"
   ]
  },
  {
   "cell_type": "code",
   "execution_count": 90,
   "metadata": {},
   "outputs": [
    {
     "data": {
      "text/html": [
       "<div>\n",
       "<style scoped>\n",
       "    .dataframe tbody tr th:only-of-type {\n",
       "        vertical-align: middle;\n",
       "    }\n",
       "\n",
       "    .dataframe tbody tr th {\n",
       "        vertical-align: top;\n",
       "    }\n",
       "\n",
       "    .dataframe thead th {\n",
       "        text-align: right;\n",
       "    }\n",
       "</style>\n",
       "<table border=\"1\" class=\"dataframe\">\n",
       "  <thead>\n",
       "    <tr style=\"text-align: right;\">\n",
       "      <th></th>\n",
       "      <th>DATE</th>\n",
       "      <th>A191RL1Q225SBEA</th>\n",
       "    </tr>\n",
       "  </thead>\n",
       "  <tbody>\n",
       "    <tr>\n",
       "      <th>0</th>\n",
       "      <td>1947-04-01</td>\n",
       "      <td>-1.1</td>\n",
       "    </tr>\n",
       "    <tr>\n",
       "      <th>1</th>\n",
       "      <td>1947-07-01</td>\n",
       "      <td>-0.8</td>\n",
       "    </tr>\n",
       "    <tr>\n",
       "      <th>2</th>\n",
       "      <td>1947-10-01</td>\n",
       "      <td>6.4</td>\n",
       "    </tr>\n",
       "    <tr>\n",
       "      <th>3</th>\n",
       "      <td>1948-01-01</td>\n",
       "      <td>6.2</td>\n",
       "    </tr>\n",
       "    <tr>\n",
       "      <th>4</th>\n",
       "      <td>1948-04-01</td>\n",
       "      <td>6.8</td>\n",
       "    </tr>\n",
       "  </tbody>\n",
       "</table>\n",
       "</div>"
      ],
      "text/plain": [
       "         DATE  A191RL1Q225SBEA\n",
       "0  1947-04-01             -1.1\n",
       "1  1947-07-01             -0.8\n",
       "2  1947-10-01              6.4\n",
       "3  1948-01-01              6.2\n",
       "4  1948-04-01              6.8"
      ]
     },
     "execution_count": 90,
     "metadata": {},
     "output_type": "execute_result"
    }
   ],
   "source": [
    "gdp_df.head()"
   ]
  },
  {
   "cell_type": "code",
   "execution_count": 91,
   "metadata": {},
   "outputs": [
    {
     "data": {
      "text/html": [
       "<div>\n",
       "<style scoped>\n",
       "    .dataframe tbody tr th:only-of-type {\n",
       "        vertical-align: middle;\n",
       "    }\n",
       "\n",
       "    .dataframe tbody tr th {\n",
       "        vertical-align: top;\n",
       "    }\n",
       "\n",
       "    .dataframe thead th {\n",
       "        text-align: right;\n",
       "    }\n",
       "</style>\n",
       "<table border=\"1\" class=\"dataframe\">\n",
       "  <thead>\n",
       "    <tr style=\"text-align: right;\">\n",
       "      <th></th>\n",
       "      <th>DATE</th>\n",
       "      <th>FEDFUNDS</th>\n",
       "    </tr>\n",
       "  </thead>\n",
       "  <tbody>\n",
       "    <tr>\n",
       "      <th>0</th>\n",
       "      <td>1954-07-01</td>\n",
       "      <td>0.80</td>\n",
       "    </tr>\n",
       "    <tr>\n",
       "      <th>1</th>\n",
       "      <td>1954-08-01</td>\n",
       "      <td>1.22</td>\n",
       "    </tr>\n",
       "    <tr>\n",
       "      <th>2</th>\n",
       "      <td>1954-09-01</td>\n",
       "      <td>1.07</td>\n",
       "    </tr>\n",
       "    <tr>\n",
       "      <th>3</th>\n",
       "      <td>1954-10-01</td>\n",
       "      <td>0.85</td>\n",
       "    </tr>\n",
       "    <tr>\n",
       "      <th>4</th>\n",
       "      <td>1954-11-01</td>\n",
       "      <td>0.83</td>\n",
       "    </tr>\n",
       "  </tbody>\n",
       "</table>\n",
       "</div>"
      ],
      "text/plain": [
       "         DATE  FEDFUNDS\n",
       "0  1954-07-01      0.80\n",
       "1  1954-08-01      1.22\n",
       "2  1954-09-01      1.07\n",
       "3  1954-10-01      0.85\n",
       "4  1954-11-01      0.83"
      ]
     },
     "execution_count": 91,
     "metadata": {},
     "output_type": "execute_result"
    }
   ],
   "source": [
    "fedfunds_df.head()"
   ]
  },
  {
   "cell_type": "code",
   "execution_count": 92,
   "metadata": {},
   "outputs": [
    {
     "data": {
      "text/html": [
       "<div>\n",
       "<style scoped>\n",
       "    .dataframe tbody tr th:only-of-type {\n",
       "        vertical-align: middle;\n",
       "    }\n",
       "\n",
       "    .dataframe tbody tr th {\n",
       "        vertical-align: top;\n",
       "    }\n",
       "\n",
       "    .dataframe thead th {\n",
       "        text-align: right;\n",
       "    }\n",
       "</style>\n",
       "<table border=\"1\" class=\"dataframe\">\n",
       "  <thead>\n",
       "    <tr style=\"text-align: right;\">\n",
       "      <th></th>\n",
       "      <th>DATE</th>\n",
       "      <th>UNRATE</th>\n",
       "    </tr>\n",
       "  </thead>\n",
       "  <tbody>\n",
       "    <tr>\n",
       "      <th>0</th>\n",
       "      <td>1948-01-01</td>\n",
       "      <td>3.4</td>\n",
       "    </tr>\n",
       "    <tr>\n",
       "      <th>1</th>\n",
       "      <td>1948-02-01</td>\n",
       "      <td>3.8</td>\n",
       "    </tr>\n",
       "    <tr>\n",
       "      <th>2</th>\n",
       "      <td>1948-03-01</td>\n",
       "      <td>4.0</td>\n",
       "    </tr>\n",
       "    <tr>\n",
       "      <th>3</th>\n",
       "      <td>1948-04-01</td>\n",
       "      <td>3.9</td>\n",
       "    </tr>\n",
       "    <tr>\n",
       "      <th>4</th>\n",
       "      <td>1948-05-01</td>\n",
       "      <td>3.5</td>\n",
       "    </tr>\n",
       "  </tbody>\n",
       "</table>\n",
       "</div>"
      ],
      "text/plain": [
       "         DATE  UNRATE\n",
       "0  1948-01-01     3.4\n",
       "1  1948-02-01     3.8\n",
       "2  1948-03-01     4.0\n",
       "3  1948-04-01     3.9\n",
       "4  1948-05-01     3.5"
      ]
     },
     "execution_count": 92,
     "metadata": {},
     "output_type": "execute_result"
    }
   ],
   "source": [
    "unem_df.head()"
   ]
  },
  {
   "attachments": {},
   "cell_type": "markdown",
   "metadata": {},
   "source": [
    "## Feature Engineering"
   ]
  },
  {
   "attachments": {},
   "cell_type": "markdown",
   "metadata": {},
   "source": [
    "#### To-do:\n",
    "1) Join the starting balance to the transactions df.\n",
    "2) Aggregate by month, cust ID\n",
    "3) Create new features\n",
    "4) Create visualizations\n",
    "5) Create feature to be our response"
   ]
  },
  {
   "attachments": {},
   "cell_type": "markdown",
   "metadata": {},
   "source": []
  },
  {
   "attachments": {},
   "cell_type": "markdown",
   "metadata": {},
   "source": [
    "##### Features to add\n",
    "- Monthly start balance\n",
    "  - Have to include the start balance as the first month balance for each customer ID\n",
    "  - Then the next month will be the monthly end balance for each customer ID\n",
    "- Monthly end balance\n",
    "  - Have to add the `amount` column to the monthly start for each customer_ID and month combo\n",
    "  - Then this will be the monthly start balance for each customer\n",
    "\n",
    "- Average withdrawal amount\n",
    "- Average deposit amount\n",
    "- Average monthly start/end balance\n",
    "- Binary variable that indicates whether or not they have $0.00 monthly ending balance\n",
    "  - Avg time to have $0.00 monthly ending balance\n",
    "  - Amount of months in a row having $0.00 ending balance per customer ID\n",
    "- Binary variable that indicates whether number of months having $0.00 is above average\n",
    "  - Can create another feature that indicates \n",
    "- Number of transactions per account (per month?)\n",
    "  - Cust_df\n",
    "  - Avg number of transactions per account per month\n",
    "    - S.d. too\n",
    "-"
   ]
  },
  {
   "attachments": {},
   "cell_type": "markdown",
   "metadata": {},
   "source": [
    "##### Visualizations to make\n",
    "- Histograms for each continuous variable to see distribution\n",
    "- Total number of accounts per year over time\n",
    "- Average deposit/withdrawal amount over time\n",
    "- "
   ]
  },
  {
   "cell_type": "code",
   "execution_count": 93,
   "metadata": {},
   "outputs": [
    {
     "data": {
      "image/png": "[encoded data removed]",
      "text/plain": [
       "<Figure size 640x480 with 1 Axes>"
      ]
     },
     "metadata": {},
     "output_type": "display_data"
    }
   ],
   "source": [
    "# Check start_balance\n",
    "filtered_data = cust_df[cust_df['start_balance'] <= 20000000]\n",
    "\n",
    "plt.hist(filtered_data['start_balance'], bins=100,edgecolor='black')\n",
    "\n",
    "# Add labels and title\n",
    "plt.xlabel('Value')\n",
    "plt.ylabel('Frequency')\n",
    "plt.title('Histogram of Start Balance')\n",
    "\n",
    "# Display the plot\n",
    "plt.show()\n"
   ]
  },
  {
   "cell_type": "code",
   "execution_count": 94,
   "metadata": {},
   "outputs": [
    {
     "data": {
      "image/png": "[encoded data removed]",
      "text/plain": [
       "<Figure size 640x480 with 1 Axes>"
      ]
     },
     "metadata": {},
     "output_type": "display_data"
    }
   ],
   "source": [
    "plt.hist(trans_df['amount'], bins=100,edgecolor='black')\n",
    "\n",
    "# Add labels and title\n",
    "plt.xlabel('Value')\n",
    "plt.ylabel('Frequency')\n",
    "plt.title(\"Histogram of 'amount'\")\n",
    "\n",
    "# Display the plot\n",
    "plt.show()"
   ]
  },
  {
   "cell_type": "code",
   "execution_count": 95,
   "metadata": {},
   "outputs": [
    {
     "data": {
      "image/png": "[encoded data removed]",
      "text/plain": [
       "<Figure size 640x480 with 1 Axes>"
      ]
     },
     "metadata": {},
     "output_type": "display_data"
    }
   ],
   "source": [
    "plt.hist(trans_df['deposit'], bins=30,edgecolor='black')\n",
    "\n",
    "# Add labels and title\n",
    "plt.xlabel('Value')\n",
    "plt.ylabel('Frequency')\n",
    "plt.title(\"Histogram of 'deposit'\")\n",
    "\n",
    "# Display the plot\n",
    "plt.show()"
   ]
  },
  {
   "cell_type": "code",
   "execution_count": 96,
   "metadata": {},
   "outputs": [
    {
     "data": {
      "image/png": "[encoded data removed]",
      "text/plain": [
       "<Figure size 640x480 with 1 Axes>"
      ]
     },
     "metadata": {},
     "output_type": "display_data"
    }
   ],
   "source": [
    "plt.hist(trans_df['withdrawal'], bins=30,edgecolor='black')\n",
    "\n",
    "# Add labels and title\n",
    "plt.xlabel('Value')\n",
    "plt.ylabel('Frequency')\n",
    "plt.title(\"Histogram of 'withdrawal'\")\n",
    "\n",
    "# Display the plot\n",
    "plt.show()"
   ]
  },
  {
   "cell_type": "code",
   "execution_count": 97,
   "metadata": {},
   "outputs": [],
   "source": [
    "customer_count = trans_df.groupby('year')['customer_id'].nunique()"
   ]
  },
  {
   "cell_type": "code",
   "execution_count": 98,
   "metadata": {},
   "outputs": [
    {
     "data": {
      "text/plain": [
       "Text(0.5, 1.0, 'Total Number of Active Customers Over Time')"
      ]
     },
     "execution_count": 98,
     "metadata": {},
     "output_type": "execute_result"
    },
    {
     "data": {
      "image/png": "[encoded data removed]",
      "text/plain": [
       "<Figure size 640x480 with 1 Axes>"
      ]
     },
     "metadata": {},
     "output_type": "display_data"
    }
   ],
   "source": [
    "data_to_plot = customer_count.iloc[:-1]\n",
    "data_to_plot.plot()\n",
    "\n",
    "plt.xlabel('Year')\n",
    "plt.ylabel('Total number of Customers')\n",
    "plt.title('Total Number of Active Customers Over Time')"
   ]
  },
  {
   "cell_type": "code",
   "execution_count": null,
   "metadata": {},
   "outputs": [],
   "source": []
  },
  {
   "cell_type": "code",
   "execution_count": 99,
   "metadata": {},
   "outputs": [],
   "source": [
    "avg_dep = trans_df.groupby('year')['deposit'].mean()\n",
    "avg_with = trans_df.groupby('year')['withdrawal'].mean()"
   ]
  },
  {
   "cell_type": "code",
   "execution_count": 100,
   "metadata": {},
   "outputs": [
    {
     "data": {
      "text/plain": [
       "Text(0.5, 1.0, 'Average withdrawal amount over time')"
      ]
     },
     "execution_count": 100,
     "metadata": {},
     "output_type": "execute_result"
    },
    {
     "data": {
      "image/png": "[encoded data removed]",
      "text/plain": [
       "<Figure size 640x480 with 2 Axes>"
      ]
     },
     "metadata": {},
     "output_type": "display_data"
    }
   ],
   "source": [
    "fig, (ax1, ax2) = plt.subplots(1, 2)\n",
    "ax1.plot(avg_dep)\n",
    "ax1.set_title(\"Average deposit amount over time\")\n",
    "\n",
    "ax2.plot(avg_with)\n",
    "ax2.set_title(\"Average withdrawal amount over time\")"
   ]
  },
  {
   "attachments": {},
   "cell_type": "markdown",
   "metadata": {},
   "source": [
    "### First attempt at a model:\n",
    "- y = risk_churn\n",
    "- features = age, state dummies, start balance, "
   ]
  },
  {
   "attachments": {},
   "cell_type": "markdown",
   "metadata": {},
   "source": [
    "### Response variable idea:\n",
    "- If average number of monthly transactions is below avg(monthly_transaction_count) - 2 * sd(monthly_transaction_count)\n",
    "- AND if ending monthly balance is below a threshold for a specific amount of time."
   ]
  },
  {
   "cell_type": "code",
   "execution_count": 30,
   "metadata": {},
   "outputs": [
    {
     "data": {
      "text/html": [
       "<div>\n",
       "<style scoped>\n",
       "    .dataframe tbody tr th:only-of-type {\n",
       "        vertical-align: middle;\n",
       "    }\n",
       "\n",
       "    .dataframe tbody tr th {\n",
       "        vertical-align: top;\n",
       "    }\n",
       "\n",
       "    .dataframe thead th {\n",
       "        text-align: right;\n",
       "    }\n",
       "</style>\n",
       "<table border=\"1\" class=\"dataframe\">\n",
       "  <thead>\n",
       "    <tr style=\"text-align: right;\">\n",
       "      <th></th>\n",
       "      <th>customer_id</th>\n",
       "      <th>dob</th>\n",
       "      <th>state</th>\n",
       "      <th>start_balance</th>\n",
       "      <th>creation_date</th>\n",
       "      <th>num_trans</th>\n",
       "      <th>z_scores</th>\n",
       "      <th>risk_churn</th>\n",
       "    </tr>\n",
       "  </thead>\n",
       "  <tbody>\n",
       "    <tr>\n",
       "      <th>0</th>\n",
       "      <td>91</td>\n",
       "      <td>1993-07-01</td>\n",
       "      <td>California</td>\n",
       "      <td>10180.56</td>\n",
       "      <td>2007-01-31</td>\n",
       "      <td>6</td>\n",
       "      <td>-0.917908</td>\n",
       "      <td>0</td>\n",
       "    </tr>\n",
       "    <tr>\n",
       "      <th>1</th>\n",
       "      <td>92</td>\n",
       "      <td>1985-12-05</td>\n",
       "      <td>New York</td>\n",
       "      <td>4757.68</td>\n",
       "      <td>2007-01-31</td>\n",
       "      <td>31</td>\n",
       "      <td>-0.296138</td>\n",
       "      <td>0</td>\n",
       "    </tr>\n",
       "    <tr>\n",
       "      <th>2</th>\n",
       "      <td>93</td>\n",
       "      <td>1987-11-19</td>\n",
       "      <td>Minnesota</td>\n",
       "      <td>6796.72</td>\n",
       "      <td>2007-01-31</td>\n",
       "      <td>29</td>\n",
       "      <td>-0.345880</td>\n",
       "      <td>0</td>\n",
       "    </tr>\n",
       "    <tr>\n",
       "      <th>3</th>\n",
       "      <td>94</td>\n",
       "      <td>1981-03-23</td>\n",
       "      <td>Minnesota</td>\n",
       "      <td>9870.48</td>\n",
       "      <td>2007-01-31</td>\n",
       "      <td>33</td>\n",
       "      <td>-0.246397</td>\n",
       "      <td>0</td>\n",
       "    </tr>\n",
       "    <tr>\n",
       "      <th>4</th>\n",
       "      <td>95</td>\n",
       "      <td>1970-04-06</td>\n",
       "      <td>California</td>\n",
       "      <td>12500.72</td>\n",
       "      <td>2007-01-31</td>\n",
       "      <td>47</td>\n",
       "      <td>0.101794</td>\n",
       "      <td>0</td>\n",
       "    </tr>\n",
       "    <tr>\n",
       "      <th>...</th>\n",
       "      <td>...</td>\n",
       "      <td>...</td>\n",
       "      <td>...</td>\n",
       "      <td>...</td>\n",
       "      <td>...</td>\n",
       "      <td>...</td>\n",
       "      <td>...</td>\n",
       "      <td>...</td>\n",
       "    </tr>\n",
       "    <tr>\n",
       "      <th>116010</th>\n",
       "      <td>116102</td>\n",
       "      <td>1969-03-02</td>\n",
       "      <td>Georgia</td>\n",
       "      <td>3110.96</td>\n",
       "      <td>2020-05-31</td>\n",
       "      <td>2</td>\n",
       "      <td>-1.017391</td>\n",
       "      <td>1</td>\n",
       "    </tr>\n",
       "    <tr>\n",
       "      <th>116011</th>\n",
       "      <td>116103</td>\n",
       "      <td>1966-10-25</td>\n",
       "      <td>New York</td>\n",
       "      <td>12063.92</td>\n",
       "      <td>2020-05-31</td>\n",
       "      <td>3</td>\n",
       "      <td>-0.992520</td>\n",
       "      <td>0</td>\n",
       "    </tr>\n",
       "    <tr>\n",
       "      <th>116012</th>\n",
       "      <td>116104</td>\n",
       "      <td>1986-04-30</td>\n",
       "      <td>Oklahoma</td>\n",
       "      <td>11011.36</td>\n",
       "      <td>2020-05-31</td>\n",
       "      <td>2</td>\n",
       "      <td>-1.017391</td>\n",
       "      <td>1</td>\n",
       "    </tr>\n",
       "    <tr>\n",
       "      <th>116013</th>\n",
       "      <td>116105</td>\n",
       "      <td>1983-08-25</td>\n",
       "      <td>New Mexico</td>\n",
       "      <td>8861.08</td>\n",
       "      <td>2020-05-31</td>\n",
       "      <td>1</td>\n",
       "      <td>-1.042261</td>\n",
       "      <td>1</td>\n",
       "    </tr>\n",
       "    <tr>\n",
       "      <th>116014</th>\n",
       "      <td>116106</td>\n",
       "      <td>1963-05-06</td>\n",
       "      <td>Ohio</td>\n",
       "      <td>201.32</td>\n",
       "      <td>2020-05-31</td>\n",
       "      <td>1</td>\n",
       "      <td>-1.042261</td>\n",
       "      <td>1</td>\n",
       "    </tr>\n",
       "  </tbody>\n",
       "</table>\n",
       "<p>116015 rows × 8 columns</p>\n",
       "</div>"
      ],
      "text/plain": [
       "        customer_id        dob       state  start_balance creation_date  \\\n",
       "0                91 1993-07-01  California       10180.56    2007-01-31   \n",
       "1                92 1985-12-05    New York        4757.68    2007-01-31   \n",
       "2                93 1987-11-19   Minnesota        6796.72    2007-01-31   \n",
       "3                94 1981-03-23   Minnesota        9870.48    2007-01-31   \n",
       "4                95 1970-04-06  California       12500.72    2007-01-31   \n",
       "...             ...        ...         ...            ...           ...   \n",
       "116010       116102 1969-03-02     Georgia        3110.96    2020-05-31   \n",
       "116011       116103 1966-10-25    New York       12063.92    2020-05-31   \n",
       "116012       116104 1986-04-30    Oklahoma       11011.36    2020-05-31   \n",
       "116013       116105 1983-08-25  New Mexico        8861.08    2020-05-31   \n",
       "116014       116106 1963-05-06        Ohio         201.32    2020-05-31   \n",
       "\n",
       "        num_trans  z_scores  risk_churn  \n",
       "0               6 -0.917908           0  \n",
       "1              31 -0.296138           0  \n",
       "2              29 -0.345880           0  \n",
       "3              33 -0.246397           0  \n",
       "4              47  0.101794           0  \n",
       "...           ...       ...         ...  \n",
       "116010          2 -1.017391           1  \n",
       "116011          3 -0.992520           0  \n",
       "116012          2 -1.017391           1  \n",
       "116013          1 -1.042261           1  \n",
       "116014          1 -1.042261           1  \n",
       "\n",
       "[116015 rows x 8 columns]"
      ]
     },
     "metadata": {},
     "output_type": "display_data"
    }
   ],
   "source": [
    "display(cust_df)\n"
   ]
  },
  {
   "cell_type": "code",
   "execution_count": 34,
   "metadata": {},
   "outputs": [
    {
     "name": "stdout",
     "output_type": "stream",
     "text": [
      "2000000000.0\n"
     ]
    }
   ],
   "source": [
    "print(cust_df[\"start_balance\"].max()) #-10000000000.0 needs to be dropped\n",
    "outliers = cust_df[(cust_df['start_balance'] >= 1000000.0)]\n",
    "cust_df = cust_df.drop(outliers.index)"
   ]
  },
  {
   "cell_type": "code",
   "execution_count": 31,
   "metadata": {},
   "outputs": [],
   "source": [
    "from sklearn.cluster import KMeans\n",
    "from sklearn.preprocessing import StandardScaler"
   ]
  },
  {
   "cell_type": "code",
   "execution_count": 39,
   "metadata": {},
   "outputs": [
    {
     "name": "stderr",
     "output_type": "stream",
     "text": [
      "C:\\Users\\GriffenRoweGaddis\\AppData\\Local\\Temp\\ipykernel_22688\\4230033111.py:6: SettingWithCopyWarning: \n",
      "A value is trying to be set on a copy of a slice from a DataFrame.\n",
      "Try using .loc[row_indexer,col_indexer] = value instead\n",
      "\n",
      "See the caveats in the documentation: https://pandas.pydata.org/pandas-docs/stable/user_guide/indexing.html#returning-a-view-versus-a-copy\n",
      "  clust_df['num_trans'] = scaler.fit_transform(clust_df['num_trans'].values.reshape(-1, 1))\n",
      "c:\\Users\\GriffenRoweGaddis\\AppData\\Local\\Programs\\Python\\Python310\\lib\\site-packages\\sklearn\\cluster\\_kmeans.py:870: FutureWarning: The default value of `n_init` will change from 10 to 'auto' in 1.4. Set the value of `n_init` explicitly to suppress the warning\n",
      "  warnings.warn(\n",
      "C:\\Users\\GriffenRoweGaddis\\AppData\\Local\\Temp\\ipykernel_22688\\4230033111.py:15: SettingWithCopyWarning: \n",
      "A value is trying to be set on a copy of a slice from a DataFrame.\n",
      "Try using .loc[row_indexer,col_indexer] = value instead\n",
      "\n",
      "See the caveats in the documentation: https://pandas.pydata.org/pandas-docs/stable/user_guide/indexing.html#returning-a-view-versus-a-copy\n",
      "  clust_df['cluster_label'] = kmeans.labels_\n"
     ]
    },
    {
     "data": {
      "image/png": "[encoded data removed]",
      "text/plain": [
       "<Figure size 800x600 with 1 Axes>"
      ]
     },
     "metadata": {},
     "output_type": "display_data"
    }
   ],
   "source": [
    "# use k-means to cluster customers based upon number of transactions\n",
    "selected_features = ['customer_id', 'num_trans','start_balance']\n",
    "clust_df = cust_df[selected_features]\n",
    "\n",
    "# Standardize the transaction_count column\n",
    "scaler = StandardScaler()\n",
    "clust_df['num_trans'] = scaler.fit_transform(clust_df['num_trans'].values.reshape(-1, 1))\n",
    "\n",
    "# Determine the number of clusters\n",
    "num_clusters = 6\n",
    "\n",
    "kmeans = KMeans(n_clusters=num_clusters, random_state=42)\n",
    "kmeans.fit(clust_df[['num_trans']])\n",
    "\n",
    "# Assign cluster labels to each customer\n",
    "clust_df['cluster_label'] = kmeans.labels_\n",
    "\n",
    "cluster_counts = clust_df['cluster_label'].value_counts()\n",
    "cluster_means = clust_df.groupby('cluster_label')['num_trans'].mean()\n",
    "\n",
    "# visualize the clusters\n",
    "plt.figure(figsize=(8, 6))\n",
    "plt.scatter(clust_df['start_balance'], clust_df['num_trans'], c=clust_df['cluster_label'], cmap='viridis')\n",
    "plt.xlabel('Start Balance')\n",
    "plt.ylabel('Transaction Count (Standardized)')\n",
    "plt.title('K-means Clustering of Customers by Transaction Count')\n",
    "plt.show()"
   ]
  },
  {
   "attachments": {},
   "cell_type": "markdown",
   "metadata": {},
   "source": [
    "### Features to include in model:"
   ]
  }
 ],
 "metadata": {
  "kernelspec": {
   "display_name": "Python 3",
   "language": "python",
   "name": "python3"
  },
  "language_info": {
   "codemirror_mode": {
    "name": "ipython",
    "version": 3
   },
   "file_extension": ".py",
   "mimetype": "text/x-python",
   "name": "python",
   "nbconvert_exporter": "python",
   "pygments_lexer": "ipython3",
   "version": "3.10.8"
  },
  "orig_nbformat": 4
 },
 "nbformat": 4,
 "nbformat_minor": 2
}
