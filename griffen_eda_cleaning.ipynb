{
 "cells": [
  {
   "attachments": {},
   "cell_type": "markdown",
   "metadata": {},
   "source": [
    "# Bank Churn Data Cleaning and EDA"
   ]
  },
  {
   "cell_type": "code",
   "execution_count": null,
   "metadata": {},
   "outputs": [],
   "source": [
    "import pandas as pd\n",
    "import numpy as np\n",
    "import matplotlib.pyplot as plt\n",
    "from matplotlib.dates import DateFormatter, DateLocator\n",
    "from datetime import datetime, date\n",
    "from dateutil.relativedelta import relativedelta\n"
   ]
  },
  {
   "cell_type": "code",
   "execution_count": null,
   "metadata": {},
   "outputs": [],
   "source": [
    "# Load data\n",
    "customers_fp = r\"C:\\Users\\GriffenRoweGaddis\\OneDrive - Kubrick Group\\Desktop\\Training\\Projects\\Bank Churn\\data\\customers_tm1_e.csv\"\n",
    "tran_fp = r\"C:\\Users\\GriffenRoweGaddis\\OneDrive - Kubrick Group\\Desktop\\Training\\Projects\\Bank Churn\\data\\transactions_tm1_e.csv\"\n",
    "\n",
    "cust_df = pd.read_csv(customers_fp)\n",
    "trans_df = pd.read_csv(tran_fp)"
   ]
  },
  {
   "cell_type": "code",
   "execution_count": null,
   "metadata": {},
   "outputs": [],
   "source": [
    "print(cust_df.columns.values)\n",
    "print(trans_df.columns.values)"
   ]
  },
  {
   "cell_type": "code",
   "execution_count": null,
   "metadata": {},
   "outputs": [],
   "source": []
  },
  {
   "cell_type": "code",
   "execution_count": null,
   "metadata": {},
   "outputs": [],
   "source": [
    "cust_df.head()"
   ]
  },
  {
   "attachments": {},
   "cell_type": "markdown",
   "metadata": {},
   "source": [
    "### Customer data processing and validation"
   ]
  },
  {
   "cell_type": "code",
   "execution_count": null,
   "metadata": {},
   "outputs": [],
   "source": [
    "# check and fix data types\n",
    "cust_df.info()\n",
    "\n",
    "cust_df[\"dob\"] = pd.to_datetime(cust_df[\"dob\"])\n",
    "cust_df[\"creation_date\"] = pd.to_datetime(cust_df[\"creation_date\"])\n",
    "\n"
   ]
  },
  {
   "cell_type": "code",
   "execution_count": null,
   "metadata": {},
   "outputs": [],
   "source": [
    "# check and clean state columns\n",
    "\n",
    "# standardize columns\n",
    "cust_df['state'] = cust_df['state'].replace('MASS', 'Massachusetts')\n",
    "cust_df['state'] = cust_df['state'].replace('CALIFORNIA', 'California')\n",
    "cust_df['state'] = cust_df['state'].replace('NY', 'New York')\n",
    "cust_df['state'] = cust_df['state'].replace('TX', 'Texas')\n",
    "cust_df['state'] = cust_df['state'].replace(['UNK','-999','Australia'], 'N/A')\n"
   ]
  },
  {
   "cell_type": "code",
   "execution_count": null,
   "metadata": {},
   "outputs": [],
   "source": [
    "state_count = cust_df.groupby('state').count()\n",
    "print(state_count)"
   ]
  },
  {
   "cell_type": "code",
   "execution_count": null,
   "metadata": {},
   "outputs": [],
   "source": [
    "# check and clean date columns\n",
    "print(cust_df[\"dob\"].max())\n",
    "print(cust_df[\"dob\"].min())\n",
    "print(cust_df[\"creation_date\"].max())\n",
    "print(cust_df[\"creation_date\"].min())\n",
    "\n",
    "# all dates seem to be coded correctly\n"
   ]
  },
  {
   "cell_type": "code",
   "execution_count": null,
   "metadata": {},
   "outputs": [],
   "source": [
    "print(cust_df[\"start_balance\"].min()) #-10000000000.0 needs to be dropped\n",
    "outliers = cust_df[(cust_df['start_balance'] <= -100000.0)]\n",
    "cust_df = cust_df.drop(outliers.index)"
   ]
  },
  {
   "cell_type": "code",
   "execution_count": null,
   "metadata": {},
   "outputs": [],
   "source": [
    "cust_df['start_balance'].describe()"
   ]
  },
  {
   "cell_type": "code",
   "execution_count": null,
   "metadata": {},
   "outputs": [],
   "source": [
    "# this will get the total number of transactions per customer and join to customer table\n",
    "trans_df['trans_num'] = trans_df.index\n",
    "trans_df['num_trans'] = trans_df.groupby('customer_id')['trans_num'].transform('count')\n",
    "grouped_tdf = trans_df.groupby(['customer_id',])['num_trans'].first().reset_index()\n",
    "cust_df = pd.merge(cust_df,grouped_tdf, how='left', on='customer_id')\n",
    "del grouped_tdf\n"
   ]
  },
  {
   "cell_type": "code",
   "execution_count": null,
   "metadata": {},
   "outputs": [],
   "source": [
    "# this will get the average number of transactions per month per customer\n",
    "trans_num_df = trans_df.groupby(['customer_id','date'])['trans_num'].count()\n"
   ]
  },
  {
   "cell_type": "code",
   "execution_count": null,
   "metadata": {},
   "outputs": [],
   "source": [
    "# average transaction number, average deposit amount, average withdrawal amount\n",
    "avg_trans_num = cust_df['num_trans'].mean() # average of transaction amount for each customer\n",
    "avg_deposit = trans_df['deposit'].mean()\n",
    "avg_withdrawal = trans_df['withdrawal'].mean()\n",
    "sd_trans_num = cust_df['num_trans'].std()"
   ]
  },
  {
   "cell_type": "code",
   "execution_count": null,
   "metadata": {},
   "outputs": [],
   "source": [
    "# create response variable that =1 if num_trans\n",
    "from scipy.stats import zscore\n",
    "\n",
    "# z-score standardize the num_trans column\n",
    "cust_df['z_scores'] = zscore(cust_df['num_trans'])\n",
    "z_score_sd = cust_df['z_scores'].std()\n",
    "z_score_avg = cust_df['z_scores'].mean()\n",
    "threshold = z_score_avg - z_score_sd\n",
    "\n",
    "\n",
    "cust_df['risk_churn'] = np.where(cust_df['z_scores']<threshold,1,0)"
   ]
  },
  {
   "attachments": {},
   "cell_type": "markdown",
   "metadata": {},
   "source": [
    "### Transaction Data Cleaning and Processing"
   ]
  },
  {
   "cell_type": "code",
   "execution_count": null,
   "metadata": {},
   "outputs": [],
   "source": [
    "display(cust_df['risk_churn'].sum())"
   ]
  },
  {
   "cell_type": "code",
   "execution_count": null,
   "metadata": {},
   "outputs": [],
   "source": [
    "display(cust_df)"
   ]
  },
  {
   "cell_type": "code",
   "execution_count": null,
   "metadata": {},
   "outputs": [],
   "source": [
    "trans_df.head()\n"
   ]
  },
  {
   "cell_type": "code",
   "execution_count": null,
   "metadata": {},
   "outputs": [],
   "source": [
    "trans_df.info()"
   ]
  },
  {
   "cell_type": "code",
   "execution_count": null,
   "metadata": {},
   "outputs": [],
   "source": [
    "trans_df[\"transaction_date\"] = pd.to_datetime(trans_df[\"transaction_date\"])\n",
    "trans_df[\"date\"] = pd.to_datetime(trans_df[\"date\"])\n"
   ]
  },
  {
   "cell_type": "code",
   "execution_count": null,
   "metadata": {},
   "outputs": [],
   "source": [
    "trans_df['month'] = trans_df['date'].dt.month\n",
    "trans_df['year'] = trans_df['date'].dt.year\n"
   ]
  },
  {
   "attachments": {},
   "cell_type": "markdown",
   "metadata": {},
   "source": [
    "#### Edwin's code modified"
   ]
  },
  {
   "cell_type": "code",
   "execution_count": null,
   "metadata": {},
   "outputs": [],
   "source": [
    "# Extract start_balance series indexed by user_id\n",
    "c_start_balance = cust_df.loc[:,'start_balance']\n",
    "c_customer_ids = list(cust_df.loc[:,'customer_id'].values)\n",
    "c_start_balance.index = c_customer_ids\n",
    "#display(c_start_balance)\n",
    "\n",
    "# Group Transactions by user\n",
    "t_transaction_sum = trans_df.groupby('customer_id')['amount'].aggregate('sum')\n",
    "#display(t_transaction_sum)\n",
    "\n",
    "user_final_balances = c_start_balance.add(t_transaction_sum)\n",
    "\n",
    "# convert final balances series to dataframe to join with transaction data\n",
    "bal_df = user_final_balances.reset_index()\n",
    "bal_df = bal_df.rename(columns={0:'final_account_total',\"index\":\"customer_id\"})\n",
    "bal_df.head()\n",
    "\n",
    "# join with transaction data\n",
    "merged_df = pd.merge(trans_df, bal_df, on=\"customer_id\",how='left')"
   ]
  },
  {
   "cell_type": "code",
   "execution_count": null,
   "metadata": {},
   "outputs": [],
   "source": [
    "cust_df.head()"
   ]
  },
  {
   "cell_type": "code",
   "execution_count": null,
   "metadata": {},
   "outputs": [],
   "source": [
    "display(merged_df[merged_df['customer_id']==91])"
   ]
  },
  {
   "cell_type": "code",
   "execution_count": null,
   "metadata": {},
   "outputs": [],
   "source": [
    "# aggregate data by month, customer_id\n",
    "grouped_df = merged_df.groupby(['year','month','customer_id','final_account_total']).agg({'amount':'sum','deposit':'sum','withdrawal':'sum'}).reset_index()"
   ]
  },
  {
   "cell_type": "code",
   "execution_count": null,
   "metadata": {},
   "outputs": [],
   "source": [
    "# merge grouped data with customer data to get the starting balance\n",
    "grouped_df2 = pd.merge(grouped_df, cust_df[['customer_id','start_balance']], on='customer_id',how='left')"
   ]
  },
  {
   "cell_type": "code",
   "execution_count": null,
   "metadata": {},
   "outputs": [],
   "source": [
    "# set month_start_bal to be starting balance iff row has first instance of customer_id\n",
    "grouped_df2['month_start_bal'] = grouped_df2.groupby('customer_id')['start_balance'].transform('first')\n",
    "grouped_df2.loc[grouped_df2.duplicated(subset=['customer_id']), 'month_start_bal'] = 0\n",
    "# grouped_df2['month_total_trans'] = grouped_df2.groupby(['year','month','customer_id']).sum()\n",
    "grouped_df2['month_end_bal'] = grouped_df2['month_start_bal'] + grouped_df2['deposit'] + grouped_df2['withdrawal']"
   ]
  },
  {
   "cell_type": "code",
   "execution_count": null,
   "metadata": {},
   "outputs": [],
   "source": [
    "grouped_df2.head()"
   ]
  },
  {
   "cell_type": "code",
   "execution_count": null,
   "metadata": {},
   "outputs": [],
   "source": [
    "display(grouped_df2[grouped_df2['customer_id']==94])\n"
   ]
  },
  {
   "attachments": {},
   "cell_type": "markdown",
   "metadata": {},
   "source": [
    "### Customer EDA"
   ]
  },
  {
   "cell_type": "code",
   "execution_count": null,
   "metadata": {},
   "outputs": [],
   "source": [
    "cust_df.head()"
   ]
  },
  {
   "cell_type": "code",
   "execution_count": null,
   "metadata": {},
   "outputs": [],
   "source": [
    "# customer demographics - add age column\n",
    "cust_df[\"last_date\"] = datetime.strptime('2020-06-01', \"%Y-%m-%d\")\n",
    "cust_df[\"age\"] = cust_df.apply(lambda row: relativedelta(row['last_date'], row['dob']).years, axis=1)"
   ]
  },
  {
   "attachments": {},
   "cell_type": "markdown",
   "metadata": {},
   "source": [
    "#### Age notes:\n",
    "- Need to be wary of customers that pass away and be sure they aren't included.\n",
    "- Older people in general are less likely to change banks, should be excluded from analysis.\n",
    "- Youngest is 20 at time of end analysis. Are there people who open bank accounts for their teenagers and only deposit infrequently? May want to exclude them as well.\n",
    "- Can I plot the average (relative) age over time?"
   ]
  },
  {
   "cell_type": "code",
   "execution_count": null,
   "metadata": {},
   "outputs": [],
   "source": [
    "cust_df[\"age\"].describe() # oldest person is 79 and youngest person is 20"
   ]
  },
  {
   "cell_type": "code",
   "execution_count": null,
   "metadata": {},
   "outputs": [],
   "source": [
    "cust_df[\"start_balance\"].describe() # heavily skewed by one outlier\n"
   ]
  },
  {
   "attachments": {},
   "cell_type": "markdown",
   "metadata": {},
   "source": [
    "### Transaction EDA"
   ]
  },
  {
   "cell_type": "code",
   "execution_count": null,
   "metadata": {},
   "outputs": [],
   "source": [
    "# plot average account total over time\n",
    "# avg_acct_total = grouped_data.groupby('year')[\"account_total\"].mean()"
   ]
  },
  {
   "cell_type": "code",
   "execution_count": null,
   "metadata": {},
   "outputs": [],
   "source": [
    "# avg_acct_total.head()"
   ]
  },
  {
   "cell_type": "code",
   "execution_count": null,
   "metadata": {},
   "outputs": [],
   "source": [
    "# plt.plot()\n",
    "# plt.xlabel('Time (Years)')\n",
    "# plt.ylabel('Average Value')\n",
    "# plt.title('Average Over Time')\n",
    "# plt.show()"
   ]
  },
  {
   "attachments": {},
   "cell_type": "markdown",
   "metadata": {},
   "source": [
    "## Economic Data"
   ]
  },
  {
   "cell_type": "code",
   "execution_count": null,
   "metadata": {},
   "outputs": [],
   "source": [
    "gdp_fp = r\"C:\\Users\\GriffenRoweGaddis\\OneDrive - Kubrick Group\\Desktop\\Training\\Projects\\Bank Churn\\data\\gdp.csv\"\n",
    "ff_fp = r\"C:\\Users\\GriffenRoweGaddis\\OneDrive - Kubrick Group\\Desktop\\Training\\Projects\\Bank Churn\\data\\FEDFUNDS.csv\"\n",
    "unem_fp = r\"C:\\Users\\GriffenRoweGaddis\\OneDrive - Kubrick Group\\Desktop\\Training\\Projects\\Bank Churn\\data\\UNRATE.csv\"\n",
    "\n",
    "gdp_df = pd.read_csv(gdp_fp)\n",
    "fedfunds_df = pd.read_csv(ff_fp)\n",
    "unem_df = pd.read_csv(unem_fp)"
   ]
  },
  {
   "cell_type": "code",
   "execution_count": null,
   "metadata": {},
   "outputs": [],
   "source": [
    "gdp_df.head()"
   ]
  },
  {
   "cell_type": "code",
   "execution_count": null,
   "metadata": {},
   "outputs": [],
   "source": [
    "fedfunds_df.head()"
   ]
  },
  {
   "cell_type": "code",
   "execution_count": null,
   "metadata": {},
   "outputs": [],
   "source": [
    "unem_df.head()"
   ]
  },
  {
   "attachments": {},
   "cell_type": "markdown",
   "metadata": {},
   "source": [
    "## Feature Engineering"
   ]
  },
  {
   "attachments": {},
   "cell_type": "markdown",
   "metadata": {},
   "source": [
    "#### To-do:\n",
    "1) Join the starting balance to the transactions df.\n",
    "2) Aggregate by month, cust ID\n",
    "3) Create new features\n",
    "4) Create visualizations\n",
    "5) Create feature to be our response"
   ]
  },
  {
   "attachments": {},
   "cell_type": "markdown",
   "metadata": {},
   "source": []
  },
  {
   "attachments": {},
   "cell_type": "markdown",
   "metadata": {},
   "source": [
    "##### Features to add\n",
    "- Monthly start balance\n",
    "  - Have to include the start balance as the first month balance for each customer ID\n",
    "  - Then the next month will be the monthly end balance for each customer ID\n",
    "- Monthly end balance\n",
    "  - Have to add the `amount` column to the monthly start for each customer_ID and month combo\n",
    "  - Then this will be the monthly start balance for each customer\n",
    "\n",
    "- Average withdrawal amount\n",
    "- Average deposit amount\n",
    "- Average monthly start/end balance\n",
    "- Binary variable that indicates whether or not they have $0.00 monthly ending balance\n",
    "  - Avg time to have $0.00 monthly ending balance\n",
    "  - Amount of months in a row having $0.00 ending balance per customer ID\n",
    "- Binary variable that indicates whether number of months having $0.00 is above average\n",
    "  - Can create another feature that indicates \n",
    "- Number of transactions per account (per month?)\n",
    "  - Cust_df\n",
    "  - Avg number of transactions per account per month\n",
    "    - S.d. too\n",
    "-"
   ]
  },
  {
   "attachments": {},
   "cell_type": "markdown",
   "metadata": {},
   "source": [
    "##### Visualizations to make\n",
    "- Histograms for each continuous variable to see distribution\n",
    "- Total number of accounts per year over time\n",
    "- Average deposit/withdrawal amount over time\n",
    "- "
   ]
  },
  {
   "cell_type": "code",
   "execution_count": null,
   "metadata": {},
   "outputs": [],
   "source": [
    "# Check start_balance\n",
    "filtered_data = cust_df[cust_df['start_balance'] <= 20000000]\n",
    "\n",
    "plt.hist(filtered_data['start_balance'], bins=100,edgecolor='black')\n",
    "\n",
    "# Add labels and title\n",
    "plt.xlabel('Value')\n",
    "plt.ylabel('Frequency')\n",
    "plt.title('Histogram of Start Balance')\n",
    "\n",
    "# Display the plot\n",
    "plt.show()\n"
   ]
  },
  {
   "cell_type": "code",
   "execution_count": null,
   "metadata": {},
   "outputs": [],
   "source": [
    "plt.hist(trans_df['amount'], bins=100,edgecolor='black')\n",
    "\n",
    "# Add labels and title\n",
    "plt.xlabel('Value')\n",
    "plt.ylabel('Frequency')\n",
    "plt.title(\"Histogram of 'amount'\")\n",
    "\n",
    "# Display the plot\n",
    "plt.show()"
   ]
  },
  {
   "cell_type": "code",
   "execution_count": null,
   "metadata": {},
   "outputs": [],
   "source": [
    "plt.hist(trans_df['deposit'], bins=30,edgecolor='black')\n",
    "\n",
    "# Add labels and title\n",
    "plt.xlabel('Value')\n",
    "plt.ylabel('Frequency')\n",
    "plt.title(\"Histogram of 'deposit'\")\n",
    "\n",
    "# Display the plot\n",
    "plt.show()"
   ]
  },
  {
   "cell_type": "code",
   "execution_count": null,
   "metadata": {},
   "outputs": [],
   "source": [
    "plt.hist(trans_df['withdrawal'], bins=30,edgecolor='black')\n",
    "\n",
    "# Add labels and title\n",
    "plt.xlabel('Value')\n",
    "plt.ylabel('Frequency')\n",
    "plt.title(\"Histogram of 'withdrawal'\")\n",
    "\n",
    "# Display the plot\n",
    "plt.show()"
   ]
  },
  {
   "cell_type": "code",
   "execution_count": null,
   "metadata": {},
   "outputs": [],
   "source": [
    "customer_count = trans_df.groupby('year')['customer_id'].nunique()"
   ]
  },
  {
   "cell_type": "code",
   "execution_count": null,
   "metadata": {},
   "outputs": [],
   "source": [
    "data_to_plot = customer_count.iloc[:-1]\n",
    "data_to_plot.plot()\n",
    "\n",
    "plt.xlabel('Year')\n",
    "plt.ylabel('Total number of Customers')\n",
    "plt.title('Total Number of Active Customers Over Time')"
   ]
  },
  {
   "cell_type": "code",
   "execution_count": null,
   "metadata": {},
   "outputs": [],
   "source": []
  },
  {
   "cell_type": "code",
   "execution_count": null,
   "metadata": {},
   "outputs": [],
   "source": [
    "avg_dep = trans_df.groupby('year')['deposit'].mean()\n",
    "avg_with = trans_df.groupby('year')['withdrawal'].mean()"
   ]
  },
  {
   "cell_type": "code",
   "execution_count": null,
   "metadata": {},
   "outputs": [],
   "source": [
    "fig, (ax1, ax2) = plt.subplots(1, 2)\n",
    "ax1.plot(avg_dep)\n",
    "ax1.set_title(\"Average deposit amount over time\")\n",
    "\n",
    "ax2.plot(avg_with)\n",
    "ax2.set_title(\"Average withdrawal amount over time\")"
   ]
  },
  {
   "attachments": {},
   "cell_type": "markdown",
   "metadata": {},
   "source": [
    "### First attempt at a model:\n",
    "- y = risk_churn\n",
    "- features = age, state dummies, start balance, "
   ]
  },
  {
   "attachments": {},
   "cell_type": "markdown",
   "metadata": {},
   "source": [
    "### Response variable idea:\n",
    "- If average number of monthly transactions is below avg(monthly_transaction_count) - 2 * sd(monthly_transaction_count)\n",
    "- AND if ending monthly balance is below a threshold for a specific amount of time."
   ]
  },
  {
   "cell_type": "code",
   "execution_count": null,
   "metadata": {},
   "outputs": [],
   "source": [
    "display(cust_df)\n"
   ]
  },
  {
   "cell_type": "code",
   "execution_count": null,
   "metadata": {},
   "outputs": [],
   "source": [
    "print(cust_df[\"start_balance\"].max()) #-10000000000.0 needs to be dropped\n",
    "outliers = cust_df[(cust_df['start_balance'] >= 1000000.0)]\n",
    "cust_df = cust_df.drop(outliers.index)"
   ]
  },
  {
   "cell_type": "code",
   "execution_count": null,
   "metadata": {},
   "outputs": [],
   "source": [
    "from sklearn.cluster import KMeans\n",
    "from sklearn.preprocessing import StandardScaler"
   ]
  },
  {
   "cell_type": "code",
   "execution_count": null,
   "metadata": {},
   "outputs": [],
   "source": [
    "# use k-means to cluster customers based upon number of transactions\n",
    "selected_features = ['customer_id', 'num_trans','start_balance']\n",
    "clust_df = cust_df[selected_features]\n",
    "\n",
    "# Standardize the transaction_count column\n",
    "scaler = StandardScaler()\n",
    "clust_df['num_trans'] = scaler.fit_transform(clust_df['num_trans'].values.reshape(-1, 1))\n",
    "\n",
    "# Determine the number of clusters\n",
    "num_clusters = 6\n",
    "\n",
    "kmeans = KMeans(n_clusters=num_clusters, random_state=42)\n",
    "kmeans.fit(clust_df[['num_trans']])\n",
    "\n",
    "# Assign cluster labels to each customer\n",
    "clust_df['cluster_label'] = kmeans.labels_\n",
    "\n",
    "cluster_counts = clust_df['cluster_label'].value_counts()\n",
    "cluster_means = clust_df.groupby('cluster_label')['num_trans'].mean()\n",
    "\n",
    "# visualize the clusters\n",
    "plt.figure(figsize=(8, 6))\n",
    "plt.scatter(clust_df['start_balance'], clust_df['num_trans'], c=clust_df['cluster_label'], cmap='viridis')\n",
    "plt.xlabel('Start Balance')\n",
    "plt.ylabel('Transaction Count (Standardized)')\n",
    "plt.title('K-means Clustering of Customers by Transaction Count')\n",
    "plt.show()"
   ]
  },
  {
   "attachments": {},
   "cell_type": "markdown",
   "metadata": {},
   "source": [
    "### Features to include in model:"
   ]
  }
 ],
 "metadata": {
  "kernelspec": {
   "display_name": "Python 3",
   "language": "python",
   "name": "python3"
  },
  "language_info": {
   "codemirror_mode": {
    "name": "ipython",
    "version": 3
   },
   "file_extension": ".py",
   "mimetype": "text/x-python",
   "name": "python",
   "nbconvert_exporter": "python",
   "pygments_lexer": "ipython3",
   "version": "3.10.8 (tags/v3.10.8:aaaf517, Oct 11 2022, 16:50:30) [MSC v.1933 64 bit (AMD64)]"
  },
  "orig_nbformat": 4,
  "vscode": {
   "interpreter": {
    "hash": "369f2c481f4da34e4445cda3fffd2e751bd1c4d706f27375911949ba6bb62e1c"
   }
  }
 },
 "nbformat": 4,
 "nbformat_minor": 2
}
