{
 "cells": [
  {
   "attachments": {},
   "cell_type": "markdown",
   "metadata": {},
   "source": [
    "# Bank Churn Data Cleaning and EDA"
   ]
  },
  {
   "cell_type": "code",
   "execution_count": 2,
   "metadata": {},
   "outputs": [],
   "source": [
    "import pandas as pd\n",
    "import numpy as np\n",
    "import matplotlib.pyplot as plt\n",
    "from matplotlib.dates import DateFormatter, DateLocator\n",
    "from datetime import datetime, date\n",
    "from dateutil.relativedelta import relativedelta\n"
   ]
  },
  {
   "cell_type": "code",
   "execution_count": 76,
   "metadata": {},
   "outputs": [],
   "source": [
    "# Load data\n",
    "customers_fp = r\"C:\\Users\\GriffenRoweGaddis\\OneDrive - Kubrick Group\\Desktop\\Training\\Projects\\Bank Churn\\data\\customers_tm1_e.csv\"\n",
    "tran_fp = r\"C:\\Users\\GriffenRoweGaddis\\OneDrive - Kubrick Group\\Desktop\\Training\\Projects\\Bank Churn\\data\\transactions_tm1_e.csv\"\n",
    "\n",
    "cust_df = pd.read_csv(customers_fp)\n",
    "trans_df = pd.read_csv(tran_fp)"
   ]
  },
  {
   "cell_type": "code",
   "execution_count": 12,
   "metadata": {},
   "outputs": [
    {
     "data": {
      "text/html": [
       "<div>\n",
       "<style scoped>\n",
       "    .dataframe tbody tr th:only-of-type {\n",
       "        vertical-align: middle;\n",
       "    }\n",
       "\n",
       "    .dataframe tbody tr th {\n",
       "        vertical-align: top;\n",
       "    }\n",
       "\n",
       "    .dataframe thead th {\n",
       "        text-align: right;\n",
       "    }\n",
       "</style>\n",
       "<table border=\"1\" class=\"dataframe\">\n",
       "  <thead>\n",
       "    <tr style=\"text-align: right;\">\n",
       "      <th></th>\n",
       "      <th>customer_id</th>\n",
       "      <th>dob</th>\n",
       "      <th>state</th>\n",
       "      <th>start_balance</th>\n",
       "      <th>creation_date</th>\n",
       "    </tr>\n",
       "  </thead>\n",
       "  <tbody>\n",
       "    <tr>\n",
       "      <th>0</th>\n",
       "      <td>91</td>\n",
       "      <td>1993-07-01</td>\n",
       "      <td>California</td>\n",
       "      <td>10180.56</td>\n",
       "      <td>2007-01-31</td>\n",
       "    </tr>\n",
       "    <tr>\n",
       "      <th>1</th>\n",
       "      <td>92</td>\n",
       "      <td>1985-12-05</td>\n",
       "      <td>New York</td>\n",
       "      <td>4757.68</td>\n",
       "      <td>2007-01-31</td>\n",
       "    </tr>\n",
       "    <tr>\n",
       "      <th>2</th>\n",
       "      <td>93</td>\n",
       "      <td>1987-11-19</td>\n",
       "      <td>Minnesota</td>\n",
       "      <td>6796.72</td>\n",
       "      <td>2007-01-31</td>\n",
       "    </tr>\n",
       "    <tr>\n",
       "      <th>3</th>\n",
       "      <td>94</td>\n",
       "      <td>1981-03-23</td>\n",
       "      <td>Minnesota</td>\n",
       "      <td>9870.48</td>\n",
       "      <td>2007-01-31</td>\n",
       "    </tr>\n",
       "    <tr>\n",
       "      <th>4</th>\n",
       "      <td>95</td>\n",
       "      <td>1970-04-06</td>\n",
       "      <td>California</td>\n",
       "      <td>12500.72</td>\n",
       "      <td>2007-01-31</td>\n",
       "    </tr>\n",
       "  </tbody>\n",
       "</table>\n",
       "</div>"
      ],
      "text/plain": [
       "   customer_id         dob       state  start_balance creation_date\n",
       "0           91  1993-07-01  California       10180.56    2007-01-31\n",
       "1           92  1985-12-05    New York        4757.68    2007-01-31\n",
       "2           93  1987-11-19   Minnesota        6796.72    2007-01-31\n",
       "3           94  1981-03-23   Minnesota        9870.48    2007-01-31\n",
       "4           95  1970-04-06  California       12500.72    2007-01-31"
      ]
     },
     "execution_count": 12,
     "metadata": {},
     "output_type": "execute_result"
    }
   ],
   "source": [
    "cust_df.head()"
   ]
  },
  {
   "cell_type": "code",
   "execution_count": 13,
   "metadata": {},
   "outputs": [
    {
     "data": {
      "text/html": [
       "<div>\n",
       "<style scoped>\n",
       "    .dataframe tbody tr th:only-of-type {\n",
       "        vertical-align: middle;\n",
       "    }\n",
       "\n",
       "    .dataframe tbody tr th {\n",
       "        vertical-align: top;\n",
       "    }\n",
       "\n",
       "    .dataframe thead th {\n",
       "        text-align: right;\n",
       "    }\n",
       "</style>\n",
       "<table border=\"1\" class=\"dataframe\">\n",
       "  <thead>\n",
       "    <tr style=\"text-align: right;\">\n",
       "      <th></th>\n",
       "      <th>date</th>\n",
       "      <th>account_id</th>\n",
       "      <th>customer_id</th>\n",
       "      <th>amount</th>\n",
       "      <th>transaction_date</th>\n",
       "      <th>deposit</th>\n",
       "      <th>withdrawal</th>\n",
       "    </tr>\n",
       "  </thead>\n",
       "  <tbody>\n",
       "    <tr>\n",
       "      <th>0</th>\n",
       "      <td>2007-01-31</td>\n",
       "      <td>24137947</td>\n",
       "      <td>91</td>\n",
       "      <td>3034.26</td>\n",
       "      <td>2007-01-31</td>\n",
       "      <td>3034.26</td>\n",
       "      <td>0.00</td>\n",
       "    </tr>\n",
       "    <tr>\n",
       "      <th>1</th>\n",
       "      <td>2007-01-31</td>\n",
       "      <td>24137947</td>\n",
       "      <td>91</td>\n",
       "      <td>-5295.18</td>\n",
       "      <td>2007-01-16</td>\n",
       "      <td>0.00</td>\n",
       "      <td>-5295.18</td>\n",
       "    </tr>\n",
       "    <tr>\n",
       "      <th>2</th>\n",
       "      <td>2007-02-28</td>\n",
       "      <td>24137947</td>\n",
       "      <td>91</td>\n",
       "      <td>0.00</td>\n",
       "      <td>2007-02-28</td>\n",
       "      <td>0.00</td>\n",
       "      <td>0.00</td>\n",
       "    </tr>\n",
       "    <tr>\n",
       "      <th>3</th>\n",
       "      <td>2007-03-31</td>\n",
       "      <td>24137947</td>\n",
       "      <td>91</td>\n",
       "      <td>-0.00</td>\n",
       "      <td>2007-03-30</td>\n",
       "      <td>0.00</td>\n",
       "      <td>-0.00</td>\n",
       "    </tr>\n",
       "    <tr>\n",
       "      <th>4</th>\n",
       "      <td>2007-03-31</td>\n",
       "      <td>24137947</td>\n",
       "      <td>91</td>\n",
       "      <td>-0.00</td>\n",
       "      <td>2007-03-11</td>\n",
       "      <td>0.00</td>\n",
       "      <td>-0.00</td>\n",
       "    </tr>\n",
       "  </tbody>\n",
       "</table>\n",
       "</div>"
      ],
      "text/plain": [
       "         date  account_id  customer_id   amount transaction_date  deposit  \\\n",
       "0  2007-01-31    24137947           91  3034.26       2007-01-31  3034.26   \n",
       "1  2007-01-31    24137947           91 -5295.18       2007-01-16     0.00   \n",
       "2  2007-02-28    24137947           91     0.00       2007-02-28     0.00   \n",
       "3  2007-03-31    24137947           91    -0.00       2007-03-30     0.00   \n",
       "4  2007-03-31    24137947           91    -0.00       2007-03-11     0.00   \n",
       "\n",
       "   withdrawal  \n",
       "0        0.00  \n",
       "1    -5295.18  \n",
       "2        0.00  \n",
       "3       -0.00  \n",
       "4       -0.00  "
      ]
     },
     "execution_count": 13,
     "metadata": {},
     "output_type": "execute_result"
    }
   ],
   "source": [
    "trans_grouped_df2.head()"
   ]
  },
  {
   "attachments": {},
   "cell_type": "markdown",
   "metadata": {},
   "source": [
    "### Customer data processing and validation"
   ]
  },
  {
   "cell_type": "code",
   "execution_count": 77,
   "metadata": {},
   "outputs": [
    {
     "name": "stdout",
     "output_type": "stream",
     "text": [
      "<class 'pandas.core.frame.DataFrame'>\n",
      "RangeIndex: 116016 entries, 0 to 116015\n",
      "Data columns (total 5 columns):\n",
      " #   Column         Non-Null Count   Dtype  \n",
      "---  ------         --------------   -----  \n",
      " 0   customer_id    116016 non-null  int64  \n",
      " 1   dob            116016 non-null  object \n",
      " 2   state          116016 non-null  object \n",
      " 3   start_balance  116013 non-null  float64\n",
      " 4   creation_date  116016 non-null  object \n",
      "dtypes: float64(1), int64(1), object(3)\n",
      "memory usage: 4.4+ MB\n"
     ]
    }
   ],
   "source": [
    "# check and fix data types\n",
    "cust_df.info()\n",
    "\n",
    "cust_df[\"dob\"] = pd.to_datetime(cust_df[\"dob\"])\n",
    "cust_df[\"creation_date\"] = pd.to_datetime(cust_df[\"creation_date\"])\n",
    "\n"
   ]
  },
  {
   "cell_type": "code",
   "execution_count": 78,
   "metadata": {},
   "outputs": [],
   "source": [
    "# check and clean state columns\n",
    "\n",
    "# standardize columns\n",
    "cust_df['state'] = cust_df['state'].replace('MASS', 'Massachusetts')\n",
    "cust_df['state'] = cust_df['state'].replace('CALIFORNIA', 'California')\n",
    "cust_df['state'] = cust_df['state'].replace('NY', 'New York')\n",
    "cust_df['state'] = cust_df['state'].replace('TX', 'Texas')\n",
    "cust_df['state'] = cust_df['state'].replace(['UNK','-999','Australia'], 'N/A')\n"
   ]
  },
  {
   "cell_type": "code",
   "execution_count": 79,
   "metadata": {},
   "outputs": [
    {
     "name": "stdout",
     "output_type": "stream",
     "text": [
      "                      customer_id    dob  start_balance  creation_date\n",
      "state                                                                 \n",
      "Alabama                      1765   1765           1765           1765\n",
      "Alaska                        242    242            242            242\n",
      "Arizona                      2576   2576           2576           2576\n",
      "Arkansas                     1005   1005           1005           1005\n",
      "California                  14292  14292          14292          14292\n",
      "Colorado                     2093   2093           2093           2093\n",
      "Connecticut                  1284   1284           1284           1284\n",
      "Delaware                      369    369            369            369\n",
      "District of Columbia          241    241            241            241\n",
      "Florida                      7592   7592           7592           7592\n",
      "Georgia                      3808   3808           3808           3808\n",
      "Hawaii                        534    534            534            534\n",
      "Idaho                         658    658            658            658\n",
      "Illinois                     4630   4630           4630           4630\n",
      "Indiana                      2292   2292           2292           2292\n",
      "Iowa                         1097   1097           1097           1097\n",
      "Kansas                       1094   1094           1094           1094\n",
      "Kentucky                     1591   1591           1591           1591\n",
      "Louisiana                    1660   1660           1660           1660\n",
      "Maine                         501    501            501            501\n",
      "Maryland                     2157   2157           2157           2157\n",
      "Massachusetts                2454   2454           2454           2454\n",
      "Michigan                     3555   3555           3555           3555\n",
      "Minnesota                    2017   2017           2017           2017\n",
      "Missouri                     2226   2226           2224           2226\n",
      "Montana                       398    398            398            398\n",
      "N/A                             9      9              9              9\n",
      "Nebraska                      695    695            695            695\n",
      "Nevada                       1037   1037           1037           1037\n",
      "New Hampshire                 473    473            473            473\n",
      "New Jersey                   3101   3101           3101           3101\n",
      "New Mexico                    698    698            698            698\n",
      "New York                     6949   6949           6948           6949\n",
      "North Carolina               3836   3836           3836           3836\n",
      "North Dakota                  248    248            248            248\n",
      "Ohio                         4090   4090           4090           4090\n",
      "Oklahoma                     1394   1394           1394           1394\n",
      "Oregon                       1461   1461           1461           1461\n",
      "Pennsylvania                 4575   4575           4575           4575\n",
      "Rhode Island                  393    393            393            393\n",
      "South Carolina               1801   1801           1801           1801\n",
      "South Dakota                  303    303            303            303\n",
      "Tennessee                    2414   2414           2414           2414\n",
      "Texas                       10229  10229          10229          10229\n",
      "Utah                         1211   1211           1211           1211\n",
      "Vermont                       215    215            215            215\n",
      "Virginia                     3183   3183           3183           3183\n",
      "Washington                   2645   2645           2645           2645\n",
      "West Virginia                 629    629            629            629\n",
      "Wisconsin                    2103   2103           2103           2103\n",
      "Wyoming                       193    193            193            193\n"
     ]
    }
   ],
   "source": [
    "state_count = cust_df.groupby('state').count()\n",
    "print(state_count)"
   ]
  },
  {
   "cell_type": "code",
   "execution_count": 80,
   "metadata": {},
   "outputs": [
    {
     "name": "stdout",
     "output_type": "stream",
     "text": [
      "1999-12-17 00:00:00\n",
      "1941-04-01 00:00:00\n",
      "2020-05-31 00:00:00\n",
      "2007-01-31 00:00:00\n"
     ]
    }
   ],
   "source": [
    "# check and clean date columns\n",
    "print(cust_df[\"dob\"].max())\n",
    "print(cust_df[\"dob\"].min())\n",
    "print(cust_df[\"creation_date\"].max())\n",
    "print(cust_df[\"creation_date\"].min())\n",
    "\n",
    "# all dates seem to be coded correctly\n"
   ]
  },
  {
   "cell_type": "code",
   "execution_count": 81,
   "metadata": {},
   "outputs": [
    {
     "name": "stdout",
     "output_type": "stream",
     "text": [
      "-10000000000.0\n"
     ]
    }
   ],
   "source": [
    "print(cust_df[\"start_balance\"].min()) #-10000000000.0 needs to be dropped\n",
    "outliers = cust_df[(cust_df['start_balance'] <= -100000.0)]\n",
    "cust_df = cust_df.drop(outliers.index)"
   ]
  },
  {
   "cell_type": "code",
   "execution_count": 7,
   "metadata": {},
   "outputs": [
    {
     "data": {
      "text/plain": [
       "count    1.160120e+05\n",
       "mean     3.238348e+04\n",
       "std      6.564935e+06\n",
       "min      0.000000e+00\n",
       "25%      3.157870e+03\n",
       "50%      6.297440e+03\n",
       "75%      9.511180e+03\n",
       "max      2.000000e+09\n",
       "Name: start_balance, dtype: float64"
      ]
     },
     "execution_count": 7,
     "metadata": {},
     "output_type": "execute_result"
    }
   ],
   "source": [
    "cust_df['start_balance'].describe()"
   ]
  },
  {
   "attachments": {},
   "cell_type": "markdown",
   "metadata": {},
   "source": [
    "### Transaction Data Cleaning and Processing"
   ]
  },
  {
   "cell_type": "code",
   "execution_count": 8,
   "metadata": {},
   "outputs": [
    {
     "data": {
      "text/html": [
       "<div>\n",
       "<style scoped>\n",
       "    .dataframe tbody tr th:only-of-type {\n",
       "        vertical-align: middle;\n",
       "    }\n",
       "\n",
       "    .dataframe tbody tr th {\n",
       "        vertical-align: top;\n",
       "    }\n",
       "\n",
       "    .dataframe thead th {\n",
       "        text-align: right;\n",
       "    }\n",
       "</style>\n",
       "<table border=\"1\" class=\"dataframe\">\n",
       "  <thead>\n",
       "    <tr style=\"text-align: right;\">\n",
       "      <th></th>\n",
       "      <th>date</th>\n",
       "      <th>account_id</th>\n",
       "      <th>customer_id</th>\n",
       "      <th>amount</th>\n",
       "      <th>transaction_date</th>\n",
       "      <th>deposit</th>\n",
       "      <th>withdrawal</th>\n",
       "    </tr>\n",
       "  </thead>\n",
       "  <tbody>\n",
       "    <tr>\n",
       "      <th>0</th>\n",
       "      <td>2007-01-31</td>\n",
       "      <td>24137947</td>\n",
       "      <td>91</td>\n",
       "      <td>3034.26</td>\n",
       "      <td>2007-01-31</td>\n",
       "      <td>3034.26</td>\n",
       "      <td>0.00</td>\n",
       "    </tr>\n",
       "    <tr>\n",
       "      <th>1</th>\n",
       "      <td>2007-01-31</td>\n",
       "      <td>24137947</td>\n",
       "      <td>91</td>\n",
       "      <td>-5295.18</td>\n",
       "      <td>2007-01-16</td>\n",
       "      <td>0.00</td>\n",
       "      <td>-5295.18</td>\n",
       "    </tr>\n",
       "    <tr>\n",
       "      <th>2</th>\n",
       "      <td>2007-02-28</td>\n",
       "      <td>24137947</td>\n",
       "      <td>91</td>\n",
       "      <td>0.00</td>\n",
       "      <td>2007-02-28</td>\n",
       "      <td>0.00</td>\n",
       "      <td>0.00</td>\n",
       "    </tr>\n",
       "    <tr>\n",
       "      <th>3</th>\n",
       "      <td>2007-03-31</td>\n",
       "      <td>24137947</td>\n",
       "      <td>91</td>\n",
       "      <td>-0.00</td>\n",
       "      <td>2007-03-30</td>\n",
       "      <td>0.00</td>\n",
       "      <td>-0.00</td>\n",
       "    </tr>\n",
       "    <tr>\n",
       "      <th>4</th>\n",
       "      <td>2007-03-31</td>\n",
       "      <td>24137947</td>\n",
       "      <td>91</td>\n",
       "      <td>-0.00</td>\n",
       "      <td>2007-03-11</td>\n",
       "      <td>0.00</td>\n",
       "      <td>-0.00</td>\n",
       "    </tr>\n",
       "  </tbody>\n",
       "</table>\n",
       "</div>"
      ],
      "text/plain": [
       "         date  account_id  customer_id   amount transaction_date  deposit  \\\n",
       "0  2007-01-31    24137947           91  3034.26       2007-01-31  3034.26   \n",
       "1  2007-01-31    24137947           91 -5295.18       2007-01-16     0.00   \n",
       "2  2007-02-28    24137947           91     0.00       2007-02-28     0.00   \n",
       "3  2007-03-31    24137947           91    -0.00       2007-03-30     0.00   \n",
       "4  2007-03-31    24137947           91    -0.00       2007-03-11     0.00   \n",
       "\n",
       "   withdrawal  \n",
       "0        0.00  \n",
       "1    -5295.18  \n",
       "2        0.00  \n",
       "3       -0.00  \n",
       "4       -0.00  "
      ]
     },
     "execution_count": 8,
     "metadata": {},
     "output_type": "execute_result"
    }
   ],
   "source": [
    "trans_df.head()\n"
   ]
  },
  {
   "cell_type": "code",
   "execution_count": 9,
   "metadata": {},
   "outputs": [
    {
     "name": "stdout",
     "output_type": "stream",
     "text": [
      "<class 'pandas.core.frame.DataFrame'>\n",
      "RangeIndex: 4977972 entries, 0 to 4977971\n",
      "Data columns (total 7 columns):\n",
      " #   Column            Dtype  \n",
      "---  ------            -----  \n",
      " 0   date              object \n",
      " 1   account_id        int64  \n",
      " 2   customer_id       int64  \n",
      " 3   amount            float64\n",
      " 4   transaction_date  object \n",
      " 5   deposit           float64\n",
      " 6   withdrawal        float64\n",
      "dtypes: float64(3), int64(2), object(2)\n",
      "memory usage: 265.9+ MB\n"
     ]
    }
   ],
   "source": [
    "trans_df.info()"
   ]
  },
  {
   "cell_type": "code",
   "execution_count": 82,
   "metadata": {},
   "outputs": [],
   "source": [
    "trans_df[\"transaction_date\"] = pd.to_datetime(trans_df[\"transaction_date\"])\n",
    "trans_df[\"date\"] = pd.to_datetime(trans_df[\"date\"])\n"
   ]
  },
  {
   "cell_type": "code",
   "execution_count": 83,
   "metadata": {},
   "outputs": [],
   "source": [
    "trans_df['month'] = trans_df['date'].dt.month\n",
    "trans_df['year'] = trans_df['date'].dt.year\n"
   ]
  },
  {
   "attachments": {},
   "cell_type": "markdown",
   "metadata": {},
   "source": [
    "#### Edwin's code modified"
   ]
  },
  {
   "cell_type": "code",
   "execution_count": 84,
   "metadata": {},
   "outputs": [],
   "source": [
    "# Extract start_balance series indexed by user_id\n",
    "c_start_balance = cust_df.loc[:,'start_balance']\n",
    "c_customer_ids = list(cust_df.loc[:,'customer_id'].values)\n",
    "c_start_balance.index = c_customer_ids\n",
    "#display(c_start_balance)\n",
    "\n",
    "# Group Transactions by user\n",
    "t_transaction_sum = trans_df.groupby('customer_id')['amount'].aggregate('sum')\n",
    "#display(t_transaction_sum)\n",
    "\n",
    "user_final_balances = c_start_balance.add(t_transaction_sum)\n",
    "\n",
    "# convert final balances series to dataframe to join with transaction data\n",
    "bal_df = user_final_balances.reset_index()\n",
    "bal_df = bal_df.rename(columns={0:'final_account_total',\"index\":\"customer_id\"})\n",
    "bal_df.head()\n",
    "\n",
    "# join with transaction data\n",
    "merged_df = pd.merge(trans_df, bal_df, on=\"customer_id\",how='left')"
   ]
  },
  {
   "cell_type": "code",
   "execution_count": 107,
   "metadata": {},
   "outputs": [
    {
     "data": {
      "text/html": [
       "<div>\n",
       "<style scoped>\n",
       "    .dataframe tbody tr th:only-of-type {\n",
       "        vertical-align: middle;\n",
       "    }\n",
       "\n",
       "    .dataframe tbody tr th {\n",
       "        vertical-align: top;\n",
       "    }\n",
       "\n",
       "    .dataframe thead th {\n",
       "        text-align: right;\n",
       "    }\n",
       "</style>\n",
       "<table border=\"1\" class=\"dataframe\">\n",
       "  <thead>\n",
       "    <tr style=\"text-align: right;\">\n",
       "      <th></th>\n",
       "      <th>customer_id</th>\n",
       "      <th>dob</th>\n",
       "      <th>state</th>\n",
       "      <th>start_balance</th>\n",
       "      <th>creation_date</th>\n",
       "    </tr>\n",
       "  </thead>\n",
       "  <tbody>\n",
       "    <tr>\n",
       "      <th>0</th>\n",
       "      <td>91</td>\n",
       "      <td>1993-07-01</td>\n",
       "      <td>California</td>\n",
       "      <td>10180.56</td>\n",
       "      <td>2007-01-31</td>\n",
       "    </tr>\n",
       "    <tr>\n",
       "      <th>1</th>\n",
       "      <td>92</td>\n",
       "      <td>1985-12-05</td>\n",
       "      <td>New York</td>\n",
       "      <td>4757.68</td>\n",
       "      <td>2007-01-31</td>\n",
       "    </tr>\n",
       "    <tr>\n",
       "      <th>2</th>\n",
       "      <td>93</td>\n",
       "      <td>1987-11-19</td>\n",
       "      <td>Minnesota</td>\n",
       "      <td>6796.72</td>\n",
       "      <td>2007-01-31</td>\n",
       "    </tr>\n",
       "    <tr>\n",
       "      <th>3</th>\n",
       "      <td>94</td>\n",
       "      <td>1981-03-23</td>\n",
       "      <td>Minnesota</td>\n",
       "      <td>9870.48</td>\n",
       "      <td>2007-01-31</td>\n",
       "    </tr>\n",
       "    <tr>\n",
       "      <th>4</th>\n",
       "      <td>95</td>\n",
       "      <td>1970-04-06</td>\n",
       "      <td>California</td>\n",
       "      <td>12500.72</td>\n",
       "      <td>2007-01-31</td>\n",
       "    </tr>\n",
       "  </tbody>\n",
       "</table>\n",
       "</div>"
      ],
      "text/plain": [
       "   customer_id        dob       state  start_balance creation_date\n",
       "0           91 1993-07-01  California       10180.56    2007-01-31\n",
       "1           92 1985-12-05    New York        4757.68    2007-01-31\n",
       "2           93 1987-11-19   Minnesota        6796.72    2007-01-31\n",
       "3           94 1981-03-23   Minnesota        9870.48    2007-01-31\n",
       "4           95 1970-04-06  California       12500.72    2007-01-31"
      ]
     },
     "execution_count": 107,
     "metadata": {},
     "output_type": "execute_result"
    }
   ],
   "source": [
    "cust_df.head()"
   ]
  },
  {
   "cell_type": "code",
   "execution_count": 50,
   "metadata": {},
   "outputs": [
    {
     "data": {
      "text/html": [
       "<div>\n",
       "<style scoped>\n",
       "    .dataframe tbody tr th:only-of-type {\n",
       "        vertical-align: middle;\n",
       "    }\n",
       "\n",
       "    .dataframe tbody tr th {\n",
       "        vertical-align: top;\n",
       "    }\n",
       "\n",
       "    .dataframe thead th {\n",
       "        text-align: right;\n",
       "    }\n",
       "</style>\n",
       "<table border=\"1\" class=\"dataframe\">\n",
       "  <thead>\n",
       "    <tr style=\"text-align: right;\">\n",
       "      <th></th>\n",
       "      <th>date</th>\n",
       "      <th>account_id</th>\n",
       "      <th>customer_id</th>\n",
       "      <th>amount</th>\n",
       "      <th>transaction_date</th>\n",
       "      <th>deposit</th>\n",
       "      <th>withdrawal</th>\n",
       "      <th>month</th>\n",
       "      <th>year</th>\n",
       "      <th>final_account_total</th>\n",
       "    </tr>\n",
       "  </thead>\n",
       "  <tbody>\n",
       "    <tr>\n",
       "      <th>0</th>\n",
       "      <td>2007-01-31</td>\n",
       "      <td>24137947</td>\n",
       "      <td>91</td>\n",
       "      <td>3034.26</td>\n",
       "      <td>2007-01-31</td>\n",
       "      <td>3034.26</td>\n",
       "      <td>0.00</td>\n",
       "      <td>1</td>\n",
       "      <td>2007</td>\n",
       "      <td>7919.64</td>\n",
       "    </tr>\n",
       "    <tr>\n",
       "      <th>1</th>\n",
       "      <td>2007-01-31</td>\n",
       "      <td>24137947</td>\n",
       "      <td>91</td>\n",
       "      <td>-5295.18</td>\n",
       "      <td>2007-01-16</td>\n",
       "      <td>0.00</td>\n",
       "      <td>-5295.18</td>\n",
       "      <td>1</td>\n",
       "      <td>2007</td>\n",
       "      <td>7919.64</td>\n",
       "    </tr>\n",
       "    <tr>\n",
       "      <th>2</th>\n",
       "      <td>2007-02-28</td>\n",
       "      <td>24137947</td>\n",
       "      <td>91</td>\n",
       "      <td>0.00</td>\n",
       "      <td>2007-02-28</td>\n",
       "      <td>0.00</td>\n",
       "      <td>0.00</td>\n",
       "      <td>2</td>\n",
       "      <td>2007</td>\n",
       "      <td>7919.64</td>\n",
       "    </tr>\n",
       "    <tr>\n",
       "      <th>3</th>\n",
       "      <td>2007-03-31</td>\n",
       "      <td>24137947</td>\n",
       "      <td>91</td>\n",
       "      <td>-0.00</td>\n",
       "      <td>2007-03-30</td>\n",
       "      <td>0.00</td>\n",
       "      <td>-0.00</td>\n",
       "      <td>3</td>\n",
       "      <td>2007</td>\n",
       "      <td>7919.64</td>\n",
       "    </tr>\n",
       "    <tr>\n",
       "      <th>4</th>\n",
       "      <td>2007-03-31</td>\n",
       "      <td>24137947</td>\n",
       "      <td>91</td>\n",
       "      <td>-0.00</td>\n",
       "      <td>2007-03-11</td>\n",
       "      <td>0.00</td>\n",
       "      <td>-0.00</td>\n",
       "      <td>3</td>\n",
       "      <td>2007</td>\n",
       "      <td>7919.64</td>\n",
       "    </tr>\n",
       "    <tr>\n",
       "      <th>5</th>\n",
       "      <td>2007-03-31</td>\n",
       "      <td>24137947</td>\n",
       "      <td>91</td>\n",
       "      <td>-0.00</td>\n",
       "      <td>2007-03-20</td>\n",
       "      <td>0.00</td>\n",
       "      <td>-0.00</td>\n",
       "      <td>3</td>\n",
       "      <td>2007</td>\n",
       "      <td>7919.64</td>\n",
       "    </tr>\n",
       "  </tbody>\n",
       "</table>\n",
       "</div>"
      ],
      "text/plain": [
       "        date  account_id  customer_id   amount transaction_date  deposit  \\\n",
       "0 2007-01-31    24137947           91  3034.26       2007-01-31  3034.26   \n",
       "1 2007-01-31    24137947           91 -5295.18       2007-01-16     0.00   \n",
       "2 2007-02-28    24137947           91     0.00       2007-02-28     0.00   \n",
       "3 2007-03-31    24137947           91    -0.00       2007-03-30     0.00   \n",
       "4 2007-03-31    24137947           91    -0.00       2007-03-11     0.00   \n",
       "5 2007-03-31    24137947           91    -0.00       2007-03-20     0.00   \n",
       "\n",
       "   withdrawal  month  year  final_account_total  \n",
       "0        0.00      1  2007              7919.64  \n",
       "1    -5295.18      1  2007              7919.64  \n",
       "2        0.00      2  2007              7919.64  \n",
       "3       -0.00      3  2007              7919.64  \n",
       "4       -0.00      3  2007              7919.64  \n",
       "5       -0.00      3  2007              7919.64  "
      ]
     },
     "metadata": {},
     "output_type": "display_data"
    }
   ],
   "source": [
    "display(merged_df[merged_df['customer_id']==91])"
   ]
  },
  {
   "cell_type": "code",
   "execution_count": 85,
   "metadata": {},
   "outputs": [],
   "source": [
    "# aggregate data by month, customer_id\n",
    "grouped_df = merged_df.groupby(['year','month','customer_id','final_account_total']).agg({'amount':'sum','deposit':'sum','withdrawal':'sum'}).reset_index()"
   ]
  },
  {
   "cell_type": "code",
   "execution_count": 86,
   "metadata": {},
   "outputs": [],
   "source": [
    "# merge grouped data with customer data to get the starting balance\n",
    "grouped_df2 = pd.merge(grouped_df, cust_df[['customer_id','start_balance']], on='customer_id',how='left')"
   ]
  },
  {
   "cell_type": "code",
   "execution_count": 90,
   "metadata": {},
   "outputs": [],
   "source": [
    "# set month_start_bal to be starting balance iff row has first instance of customer_id\n",
    "grouped_df2['month_start_bal'] = grouped_df2.groupby('customer_id')['start_balance'].transform('first')\n",
    "grouped_df2.loc[grouped_df2.duplicated(subset=['customer_id']), 'month_start_bal'] = 0\n",
    "grouped_df2['month_end_bal'] = grouped_df2['month_start_bal'] + grouped_df2['deposit']+grouped_df2['withdrawal']\n"
   ]
  },
  {
   "cell_type": "code",
   "execution_count": 88,
   "metadata": {},
   "outputs": [
    {
     "data": {
      "text/html": [
       "<div>\n",
       "<style scoped>\n",
       "    .dataframe tbody tr th:only-of-type {\n",
       "        vertical-align: middle;\n",
       "    }\n",
       "\n",
       "    .dataframe tbody tr th {\n",
       "        vertical-align: top;\n",
       "    }\n",
       "\n",
       "    .dataframe thead th {\n",
       "        text-align: right;\n",
       "    }\n",
       "</style>\n",
       "<table border=\"1\" class=\"dataframe\">\n",
       "  <thead>\n",
       "    <tr style=\"text-align: right;\">\n",
       "      <th></th>\n",
       "      <th>year</th>\n",
       "      <th>month</th>\n",
       "      <th>customer_id</th>\n",
       "      <th>final_account_total</th>\n",
       "      <th>amount</th>\n",
       "      <th>deposit</th>\n",
       "      <th>withdrawal</th>\n",
       "      <th>start_balance</th>\n",
       "      <th>month_start_bal</th>\n",
       "    </tr>\n",
       "  </thead>\n",
       "  <tbody>\n",
       "    <tr>\n",
       "      <th>0</th>\n",
       "      <td>2007</td>\n",
       "      <td>1</td>\n",
       "      <td>91</td>\n",
       "      <td>7919.64</td>\n",
       "      <td>-2260.92</td>\n",
       "      <td>3034.26</td>\n",
       "      <td>-5295.18</td>\n",
       "      <td>10180.56</td>\n",
       "      <td>10180.56</td>\n",
       "    </tr>\n",
       "    <tr>\n",
       "      <th>1</th>\n",
       "      <td>2007</td>\n",
       "      <td>1</td>\n",
       "      <td>92</td>\n",
       "      <td>10420.62</td>\n",
       "      <td>0.00</td>\n",
       "      <td>0.00</td>\n",
       "      <td>0.00</td>\n",
       "      <td>4757.68</td>\n",
       "      <td>4757.68</td>\n",
       "    </tr>\n",
       "    <tr>\n",
       "      <th>2</th>\n",
       "      <td>2007</td>\n",
       "      <td>1</td>\n",
       "      <td>93</td>\n",
       "      <td>7654.18</td>\n",
       "      <td>1809.75</td>\n",
       "      <td>1809.75</td>\n",
       "      <td>0.00</td>\n",
       "      <td>6796.72</td>\n",
       "      <td>6796.72</td>\n",
       "    </tr>\n",
       "    <tr>\n",
       "      <th>3</th>\n",
       "      <td>2007</td>\n",
       "      <td>1</td>\n",
       "      <td>94</td>\n",
       "      <td>10882.96</td>\n",
       "      <td>-3229.76</td>\n",
       "      <td>3358.06</td>\n",
       "      <td>-6587.82</td>\n",
       "      <td>9870.48</td>\n",
       "      <td>9870.48</td>\n",
       "    </tr>\n",
       "    <tr>\n",
       "      <th>4</th>\n",
       "      <td>2007</td>\n",
       "      <td>1</td>\n",
       "      <td>95</td>\n",
       "      <td>24945.97</td>\n",
       "      <td>3669.75</td>\n",
       "      <td>3669.75</td>\n",
       "      <td>0.00</td>\n",
       "      <td>12500.72</td>\n",
       "      <td>12500.72</td>\n",
       "    </tr>\n",
       "  </tbody>\n",
       "</table>\n",
       "</div>"
      ],
      "text/plain": [
       "   year  month  customer_id  final_account_total   amount  deposit  \\\n",
       "0  2007      1           91              7919.64 -2260.92  3034.26   \n",
       "1  2007      1           92             10420.62     0.00     0.00   \n",
       "2  2007      1           93              7654.18  1809.75  1809.75   \n",
       "3  2007      1           94             10882.96 -3229.76  3358.06   \n",
       "4  2007      1           95             24945.97  3669.75  3669.75   \n",
       "\n",
       "   withdrawal  start_balance  month_start_bal  \n",
       "0    -5295.18       10180.56         10180.56  \n",
       "1        0.00        4757.68          4757.68  \n",
       "2        0.00        6796.72          6796.72  \n",
       "3    -6587.82        9870.48          9870.48  \n",
       "4        0.00       12500.72         12500.72  "
      ]
     },
     "execution_count": 88,
     "metadata": {},
     "output_type": "execute_result"
    }
   ],
   "source": [
    "grouped_df2.head()"
   ]
  },
  {
   "cell_type": "code",
   "execution_count": 91,
   "metadata": {},
   "outputs": [
    {
     "name": "stdout",
     "output_type": "stream",
     "text": [
      "       year  month  customer_id  final_account_total   amount  deposit  \\\n",
      "0      2007      1           91              7919.64 -2260.92  3034.26   \n",
      "10000  2007      2           91              7919.64     0.00     0.00   \n",
      "19985  2007      3           91              7919.64     0.00     0.00   \n",
      "\n",
      "       withdrawal  start_balance  month_start_bal  month_end_bal  \n",
      "0        -5295.18       10180.56         10180.56        7919.64  \n",
      "10000        0.00       10180.56             0.00           0.00  \n",
      "19985        0.00       10180.56             0.00           0.00  \n"
     ]
    }
   ],
   "source": [
    "print(grouped_df2[grouped_df2['customer_id']==91])\n"
   ]
  },
  {
   "cell_type": "code",
   "execution_count": 69,
   "metadata": {},
   "outputs": [],
   "source": [
    "grouped_df2.sort_values(['year', 'month', 'customer_id'], inplace=True)\n",
    "\n",
    "grouped_df['month_start_bal'] = grouped_df2.groupby('customer_id')['month_end_bal'].shift()\n",
    "\n",
    "\n",
    "first_month_mask = grouped_df2['month'] == grouped_df2['month'].min()\n",
    "grouped_df2.loc[first_month_mask, 'month_start_bal'] = grouped_df2.loc[first_month_mask, 'month_end_bal']\n"
   ]
  },
  {
   "cell_type": "code",
   "execution_count": 74,
   "metadata": {},
   "outputs": [],
   "source": [
    "# this didn't work\n",
    "\n",
    "# # Assuming your DataFrame is named \"df\"\n",
    "\n",
    "# # Sort the DataFrame by year, month, and customer_id\n",
    "# grouped_df2.sort_values(['year', 'month', 'customer_id'], inplace=True)\n",
    "\n",
    "# # Calculate the monthly end balance\n",
    "\n",
    "# # Update the next month's start balance based on the current month's end balance\n",
    "# grouped_df2['month_start_bal'] = grouped_df2.groupby('customer_id')['month_end_bal'].shift()\n",
    "\n",
    "# # Fill the first month's start balance with the first month's end balance\n",
    "# first_month_mask = grouped_df2['month'] == grouped_df2['month'].min()\n",
    "# grouped_df2.loc[first_month_mask, 'month_start_bal'] = grouped_df2.loc[first_month_mask, 'month_end_bal']\n",
    "\n",
    "# # Iterate over the DataFrame to propagate start balances\n",
    "# for i in range(1, len(grouped_df2)):\n",
    "#     # Check if the customer ID has changed\n",
    "#     if grouped_df2.loc[i, 'customer_id'] != grouped_df2.loc[i - 1, 'customer_id']:\n",
    "#         # Update start balance with current end balance\n",
    "#         grouped_df2.loc[i, 'month_start_bal'] = grouped_df2.loc[i, 'month_end_bal']\n",
    "#     else:\n",
    "#         # Update start balance with previous end balance\n",
    "#         grouped_df2.loc[i, 'month_start_bal'] = grouped_df2.loc[i - 1, 'month_end_bal']\n",
    "\n",
    "# # Display the updated DataFrame\n"
   ]
  },
  {
   "attachments": {},
   "cell_type": "markdown",
   "metadata": {},
   "source": [
    "### Customer EDA"
   ]
  },
  {
   "cell_type": "code",
   "execution_count": 86,
   "metadata": {},
   "outputs": [
    {
     "data": {
      "text/html": [
       "<div>\n",
       "<style scoped>\n",
       "    .dataframe tbody tr th:only-of-type {\n",
       "        vertical-align: middle;\n",
       "    }\n",
       "\n",
       "    .dataframe tbody tr th {\n",
       "        vertical-align: top;\n",
       "    }\n",
       "\n",
       "    .dataframe thead th {\n",
       "        text-align: right;\n",
       "    }\n",
       "</style>\n",
       "<table border=\"1\" class=\"dataframe\">\n",
       "  <thead>\n",
       "    <tr style=\"text-align: right;\">\n",
       "      <th></th>\n",
       "      <th>customer_id</th>\n",
       "      <th>dob</th>\n",
       "      <th>state</th>\n",
       "      <th>start_balance</th>\n",
       "      <th>creation_date</th>\n",
       "      <th>age</th>\n",
       "      <th>last_date</th>\n",
       "    </tr>\n",
       "  </thead>\n",
       "  <tbody>\n",
       "    <tr>\n",
       "      <th>0</th>\n",
       "      <td>91</td>\n",
       "      <td>1993-07-01</td>\n",
       "      <td>California</td>\n",
       "      <td>10180.56</td>\n",
       "      <td>2007-01-31</td>\n",
       "      <td>26</td>\n",
       "      <td>2020-06-01</td>\n",
       "    </tr>\n",
       "    <tr>\n",
       "      <th>1</th>\n",
       "      <td>92</td>\n",
       "      <td>1985-12-05</td>\n",
       "      <td>New York</td>\n",
       "      <td>4757.68</td>\n",
       "      <td>2007-01-31</td>\n",
       "      <td>34</td>\n",
       "      <td>2020-06-01</td>\n",
       "    </tr>\n",
       "    <tr>\n",
       "      <th>2</th>\n",
       "      <td>93</td>\n",
       "      <td>1987-11-19</td>\n",
       "      <td>Minnesota</td>\n",
       "      <td>6796.72</td>\n",
       "      <td>2007-01-31</td>\n",
       "      <td>32</td>\n",
       "      <td>2020-06-01</td>\n",
       "    </tr>\n",
       "    <tr>\n",
       "      <th>3</th>\n",
       "      <td>94</td>\n",
       "      <td>1981-03-23</td>\n",
       "      <td>Minnesota</td>\n",
       "      <td>9870.48</td>\n",
       "      <td>2007-01-31</td>\n",
       "      <td>39</td>\n",
       "      <td>2020-06-01</td>\n",
       "    </tr>\n",
       "    <tr>\n",
       "      <th>4</th>\n",
       "      <td>95</td>\n",
       "      <td>1970-04-06</td>\n",
       "      <td>California</td>\n",
       "      <td>12500.72</td>\n",
       "      <td>2007-01-31</td>\n",
       "      <td>50</td>\n",
       "      <td>2020-06-01</td>\n",
       "    </tr>\n",
       "  </tbody>\n",
       "</table>\n",
       "</div>"
      ],
      "text/plain": [
       "   customer_id        dob       state  start_balance creation_date  age  \\\n",
       "0           91 1993-07-01  California       10180.56    2007-01-31   26   \n",
       "1           92 1985-12-05    New York        4757.68    2007-01-31   34   \n",
       "2           93 1987-11-19   Minnesota        6796.72    2007-01-31   32   \n",
       "3           94 1981-03-23   Minnesota        9870.48    2007-01-31   39   \n",
       "4           95 1970-04-06  California       12500.72    2007-01-31   50   \n",
       "\n",
       "   last_date  \n",
       "0 2020-06-01  \n",
       "1 2020-06-01  \n",
       "2 2020-06-01  \n",
       "3 2020-06-01  \n",
       "4 2020-06-01  "
      ]
     },
     "execution_count": 86,
     "metadata": {},
     "output_type": "execute_result"
    }
   ],
   "source": [
    "cust_df.head()"
   ]
  },
  {
   "cell_type": "code",
   "execution_count": 20,
   "metadata": {},
   "outputs": [],
   "source": [
    "# customer demographics - add age column\n",
    "cust_df[\"last_date\"] = datetime.strptime('2020-06-01', \"%Y-%m-%d\")\n",
    "cust_df[\"age\"] = cust_df.apply(lambda row: relativedelta(row['last_date'], row['dob']).years, axis=1)"
   ]
  },
  {
   "attachments": {},
   "cell_type": "markdown",
   "metadata": {},
   "source": [
    "#### Age notes:\n",
    "- Need to be wary of customers that pass away and be sure they aren't included.\n",
    "- Older people in general are less likely to change banks, should be excluded from analysis.\n",
    "- Youngest is 20 at time of end analysis. Are there people who open bank accounts for their teenagers and only deposit infrequently? May want to exclude them as well.\n",
    "- Can I plot the average (relative) age over time?"
   ]
  },
  {
   "cell_type": "code",
   "execution_count": 21,
   "metadata": {},
   "outputs": [
    {
     "data": {
      "text/plain": [
       "count    116015.000000\n",
       "mean         39.185933\n",
       "std          11.209584\n",
       "min          20.000000\n",
       "25%          30.000000\n",
       "50%          38.000000\n",
       "75%          47.000000\n",
       "max          79.000000\n",
       "Name: age, dtype: float64"
      ]
     },
     "execution_count": 21,
     "metadata": {},
     "output_type": "execute_result"
    }
   ],
   "source": [
    "cust_df[\"age\"].describe() # oldest person is 79 and youngest person is 20"
   ]
  },
  {
   "cell_type": "code",
   "execution_count": 22,
   "metadata": {},
   "outputs": [
    {
     "data": {
      "text/plain": [
       "count    1.160120e+05\n",
       "mean     3.238348e+04\n",
       "std      6.564935e+06\n",
       "min      0.000000e+00\n",
       "25%      3.157870e+03\n",
       "50%      6.297440e+03\n",
       "75%      9.511180e+03\n",
       "max      2.000000e+09\n",
       "Name: start_balance, dtype: float64"
      ]
     },
     "execution_count": 22,
     "metadata": {},
     "output_type": "execute_result"
    }
   ],
   "source": [
    "cust_df[\"start_balance\"].describe() # heavily skewed by one outlier\n"
   ]
  },
  {
   "attachments": {},
   "cell_type": "markdown",
   "metadata": {},
   "source": [
    "### Transaction EDA"
   ]
  },
  {
   "cell_type": "code",
   "execution_count": 87,
   "metadata": {},
   "outputs": [
    {
     "data": {
      "text/html": [
       "<div>\n",
       "<style scoped>\n",
       "    .dataframe tbody tr th:only-of-type {\n",
       "        vertical-align: middle;\n",
       "    }\n",
       "\n",
       "    .dataframe tbody tr th {\n",
       "        vertical-align: top;\n",
       "    }\n",
       "\n",
       "    .dataframe thead th {\n",
       "        text-align: right;\n",
       "    }\n",
       "</style>\n",
       "<table border=\"1\" class=\"dataframe\">\n",
       "  <thead>\n",
       "    <tr style=\"text-align: right;\">\n",
       "      <th></th>\n",
       "      <th>customer_id</th>\n",
       "      <th>account_id</th>\n",
       "      <th>date</th>\n",
       "      <th>account_total</th>\n",
       "      <th>deposit</th>\n",
       "      <th>withdrawal</th>\n",
       "      <th>year</th>\n",
       "    </tr>\n",
       "  </thead>\n",
       "  <tbody>\n",
       "    <tr>\n",
       "      <th>0</th>\n",
       "      <td>91</td>\n",
       "      <td>24137947</td>\n",
       "      <td>2007-01-31</td>\n",
       "      <td>773.34</td>\n",
       "      <td>3034.26</td>\n",
       "      <td>-5295.18</td>\n",
       "      <td>2007</td>\n",
       "    </tr>\n",
       "    <tr>\n",
       "      <th>1</th>\n",
       "      <td>91</td>\n",
       "      <td>24137947</td>\n",
       "      <td>2007-02-28</td>\n",
       "      <td>-2260.92</td>\n",
       "      <td>0.00</td>\n",
       "      <td>0.00</td>\n",
       "      <td>2007</td>\n",
       "    </tr>\n",
       "    <tr>\n",
       "      <th>2</th>\n",
       "      <td>91</td>\n",
       "      <td>24137947</td>\n",
       "      <td>2007-03-31</td>\n",
       "      <td>-6782.76</td>\n",
       "      <td>0.00</td>\n",
       "      <td>0.00</td>\n",
       "      <td>2007</td>\n",
       "    </tr>\n",
       "    <tr>\n",
       "      <th>3</th>\n",
       "      <td>92</td>\n",
       "      <td>24137948</td>\n",
       "      <td>2007-01-31</td>\n",
       "      <td>0.00</td>\n",
       "      <td>0.00</td>\n",
       "      <td>0.00</td>\n",
       "      <td>2007</td>\n",
       "    </tr>\n",
       "    <tr>\n",
       "      <th>4</th>\n",
       "      <td>92</td>\n",
       "      <td>24137948</td>\n",
       "      <td>2007-02-28</td>\n",
       "      <td>1164.90</td>\n",
       "      <td>1164.90</td>\n",
       "      <td>0.00</td>\n",
       "      <td>2007</td>\n",
       "    </tr>\n",
       "  </tbody>\n",
       "</table>\n",
       "</div>"
      ],
      "text/plain": [
       "   customer_id  account_id       date  account_total  deposit  withdrawal  \\\n",
       "0           91    24137947 2007-01-31         773.34  3034.26    -5295.18   \n",
       "1           91    24137947 2007-02-28       -2260.92     0.00        0.00   \n",
       "2           91    24137947 2007-03-31       -6782.76     0.00        0.00   \n",
       "3           92    24137948 2007-01-31           0.00     0.00        0.00   \n",
       "4           92    24137948 2007-02-28        1164.90  1164.90        0.00   \n",
       "\n",
       "   year  \n",
       "0  2007  \n",
       "1  2007  \n",
       "2  2007  \n",
       "3  2007  \n",
       "4  2007  "
      ]
     },
     "execution_count": 87,
     "metadata": {},
     "output_type": "execute_result"
    }
   ],
   "source": [
    "grouped_data.head()"
   ]
  },
  {
   "cell_type": "code",
   "execution_count": 89,
   "metadata": {},
   "outputs": [],
   "source": [
    "# plot average account total over time\n",
    "avg_acct_total = grouped_data.groupby('year')[\"account_total\"].mean()"
   ]
  },
  {
   "cell_type": "code",
   "execution_count": 90,
   "metadata": {},
   "outputs": [
    {
     "data": {
      "text/plain": [
       "year\n",
       "2007   -7.904059e+06\n",
       "2008   -1.334524e+07\n",
       "2009   -1.251467e+07\n",
       "2010    7.247292e+03\n",
       "2011   -1.323621e+06\n",
       "Name: account_total, dtype: float64"
      ]
     },
     "execution_count": 90,
     "metadata": {},
     "output_type": "execute_result"
    }
   ],
   "source": [
    "avg_acct_total.head()"
   ]
  },
  {
   "cell_type": "code",
   "execution_count": null,
   "metadata": {},
   "outputs": [],
   "source": [
    "plt.plot()\n",
    "plt.xlabel('Time (Years)')\n",
    "plt.ylabel('Average Value')\n",
    "plt.title('Average Over Time')\n",
    "plt.show()"
   ]
  },
  {
   "attachments": {},
   "cell_type": "markdown",
   "metadata": {},
   "source": [
    "## Feature Engineering"
   ]
  },
  {
   "attachments": {},
   "cell_type": "markdown",
   "metadata": {},
   "source": [
    "#### To-do:\n",
    "1) Join the starting balance to the transactions df.\n",
    "2) Aggregate by month, cust ID\n",
    "3) Create new features\n",
    "4) Create visualizations\n",
    "5) Create feature to be our response"
   ]
  },
  {
   "cell_type": "markdown",
   "metadata": {},
   "source": []
  },
  {
   "attachments": {},
   "cell_type": "markdown",
   "metadata": {},
   "source": [
    "##### Features to add\n",
    "- Monthly start balance\n",
    "  - Have to include the start balance as the first month balance for each customer ID\n",
    "  - Then the next month will be the monthly end balance for each customer ID\n",
    "- Monthly end balance\n",
    "  - Have to add the `amount` column to the monthly start for each customer_ID and month combo\n",
    "  - Then this will be the monthly start balance for each customer\n",
    "\n",
    "- Average withdrawal amount\n",
    "- Average deposit amount\n",
    "- Average monthly start/end balance\n",
    "- Binary variable that indicates whether or not they have $0.00 monthly ending balance\n",
    "  - Avg time to have $0.00 monthly ending balance\n",
    "  - Amount of months in a row having $0.00 ending balance per customer ID\n",
    "- Binary variable that indicates whether number of months having $0.00 is above average\n",
    "  - Can create another feature that indicates \n",
    "- Number of transactions per account (per month?)\n",
    "  - Cust_df\n",
    "  - Avg number of transactions per account per month\n",
    "    - S.d. too\n",
    "-"
   ]
  },
  {
   "attachments": {},
   "cell_type": "markdown",
   "metadata": {},
   "source": [
    "##### Visualizations to make\n",
    "- Histograms for each continuous variable to see distribution\n",
    "- Total number of accounts per year over time\n",
    "- Average deposit/withdrawal amount over time\n",
    "- "
   ]
  },
  {
   "cell_type": "code",
   "execution_count": 23,
   "metadata": {},
   "outputs": [
    {
     "data": {
      "image/png": "[encoded data removed]",
      "text/plain": [
       "<Figure size 640x480 with 1 Axes>"
      ]
     },
     "metadata": {},
     "output_type": "display_data"
    }
   ],
   "source": [
    "# Check start_balance\n",
    "filtered_data = cust_df[cust_df['start_balance'] <= 20000000]\n",
    "\n",
    "plt.hist(filtered_data['start_balance'], bins=100,edgecolor='black')\n",
    "\n",
    "# Add labels and title\n",
    "plt.xlabel('Value')\n",
    "plt.ylabel('Frequency')\n",
    "plt.title('Histogram of Continuous Variable')\n",
    "\n",
    "# Display the plot\n",
    "plt.show()\n"
   ]
  },
  {
   "cell_type": "code",
   "execution_count": 25,
   "metadata": {},
   "outputs": [
    {
     "data": {
      "image/png": "[encoded data removed]",
      "text/plain": [
       "<Figure size 640x480 with 1 Axes>"
      ]
     },
     "metadata": {},
     "output_type": "display_data"
    }
   ],
   "source": [
    "plt.hist(trans_df['amount'], bins=100,edgecolor='black')\n",
    "\n",
    "# Add labels and title\n",
    "plt.xlabel('Value')\n",
    "plt.ylabel('Frequency')\n",
    "plt.title(\"Histogram of 'amount'\")\n",
    "\n",
    "# Display the plot\n",
    "plt.show()"
   ]
  },
  {
   "cell_type": "code",
   "execution_count": 41,
   "metadata": {},
   "outputs": [
    {
     "data": {
      "image/png": "[encoded data removed]",
      "text/plain": [
       "<Figure size 640x480 with 1 Axes>"
      ]
     },
     "metadata": {},
     "output_type": "display_data"
    }
   ],
   "source": [
    "plt.hist(trans_df['deposit'], bins=30,edgecolor='black')\n",
    "\n",
    "# Add labels and title\n",
    "plt.xlabel('Value')\n",
    "plt.ylabel('Frequency')\n",
    "plt.title(\"Histogram of 'deposit'\")\n",
    "\n",
    "# Display the plot\n",
    "plt.show()"
   ]
  },
  {
   "cell_type": "code",
   "execution_count": 42,
   "metadata": {},
   "outputs": [
    {
     "data": {
      "image/png": "[encoded data removed]",
      "text/plain": [
       "<Figure size 640x480 with 1 Axes>"
      ]
     },
     "metadata": {},
     "output_type": "display_data"
    }
   ],
   "source": [
    "plt.hist(trans_df['withdrawal'], bins=30,edgecolor='black')\n",
    "\n",
    "# Add labels and title\n",
    "plt.xlabel('Value')\n",
    "plt.ylabel('Frequency')\n",
    "plt.title(\"Histogram of 'withdrawal'\")\n",
    "\n",
    "# Display the plot\n",
    "plt.show()"
   ]
  },
  {
   "cell_type": "code",
   "execution_count": 39,
   "metadata": {},
   "outputs": [],
   "source": [
    "customer_count = trans_df.groupby('year')['customer_id'].nunique()"
   ]
  },
  {
   "cell_type": "code",
   "execution_count": 49,
   "metadata": {},
   "outputs": [
    {
     "data": {
      "text/plain": [
       "Text(0.5, 1.0, 'Total Number of Active Customers Over Time')"
      ]
     },
     "execution_count": 49,
     "metadata": {},
     "output_type": "execute_result"
    },
    {
     "data": {
      "image/png": "[encoded data removed]",
      "text/plain": [
       "<Figure size 640x480 with 1 Axes>"
      ]
     },
     "metadata": {},
     "output_type": "display_data"
    }
   ],
   "source": [
    "data_to_plot = customer_count.iloc[:-1]\n",
    "data_to_plot.plot()\n",
    "\n",
    "plt.xlabel('Year')\n",
    "plt.ylabel('Total number of Customers')\n",
    "plt.title('Total Number of Active Customers Over Time')"
   ]
  },
  {
   "cell_type": "code",
   "execution_count": 46,
   "metadata": {},
   "outputs": [],
   "source": [
    "avg_dep = trans_df.groupby('year')['deposit'].mean()\n",
    "avg_with = trans_df.groupby('year')['withdrawal'].mean()"
   ]
  },
  {
   "cell_type": "code",
   "execution_count": 48,
   "metadata": {},
   "outputs": [
    {
     "data": {
      "text/plain": [
       "Text(0.5, 1.0, 'Average withdrawal amount over time')"
      ]
     },
     "execution_count": 48,
     "metadata": {},
     "output_type": "execute_result"
    },
    {
     "data": {
      "image/png": "[encoded data removed]",
      "text/plain": [
       "<Figure size 640x480 with 2 Axes>"
      ]
     },
     "metadata": {},
     "output_type": "display_data"
    }
   ],
   "source": [
    "fig, (ax1, ax2) = plt.subplots(1, 2)\n",
    "ax1.plot(avg_dep)\n",
    "ax1.set_title(\"Average deposit amount over time\")\n",
    "\n",
    "ax2.plot(avg_with)\n",
    "ax2.set_title(\"Average withdrawal amount over time\")"
   ]
  }
 ],
 "metadata": {
  "kernelspec": {
   "display_name": "Python 3",
   "language": "python",
   "name": "python3"
  },
  "language_info": {
   "codemirror_mode": {
    "name": "ipython",
    "version": 3
   },
   "file_extension": ".py",
   "mimetype": "text/x-python",
   "name": "python",
   "nbconvert_exporter": "python",
   "pygments_lexer": "ipython3",
   "version": "3.10.8 (tags/v3.10.8:aaaf517, Oct 11 2022, 16:50:30) [MSC v.1933 64 bit (AMD64)]"
  },
  "orig_nbformat": 4,
  "vscode": {
   "interpreter": {
    "hash": "369f2c481f4da34e4445cda3fffd2e751bd1c4d706f27375911949ba6bb62e1c"
   }
  }
 },
 "nbformat": 4,
 "nbformat_minor": 2
}
