{
 "cells": [
  {
   "attachments": {},
   "cell_type": "markdown",
   "metadata": {},
   "source": [
    "# Bank Churn ML"
   ]
  },
  {
   "attachments": {},
   "cell_type": "markdown",
   "metadata": {},
   "source": [
    "Imports"
   ]
  },
  {
   "cell_type": "code",
   "execution_count": null,
   "metadata": {},
   "outputs": [],
   "source": [
    "import numpy as np\n",
    "import pandas as pd\n",
    "import datetime as dt\n",
    "import copy"
   ]
  },
  {
   "attachments": {},
   "cell_type": "markdown",
   "metadata": {},
   "source": [
    "### Load Data"
   ]
  },
  {
   "attachments": {},
   "cell_type": "markdown",
   "metadata": {},
   "source": [
    "- Order of Operations\n",
    "  - Load Customer Dataset\n",
    "  - Perform necessary Customer Dataset cleaning\n",
    "  - Convert Customer Dataset to transactional rows\n",
    "  - Load Transactional Dataset\n",
    "  - Append transactional Customer Dataset to top of Transactional Dataset"
   ]
  },
  {
   "cell_type": "code",
   "execution_count": null,
   "metadata": {},
   "outputs": [],
   "source": [
    "# Load customer dataset\n",
    "c_df_original = pd.read_csv(r\"C:\\bank-churn-data\\customers_tm1_e.csv\")\n",
    "c_df = c_df_original[:1000]\n",
    "c_array = c_df.to_numpy()\n",
    "\n",
    "# Convert customer data to transactional rows\n",
    "c_to_t = pd.DataFrame()\n",
    "c_to_t['date'] = c_df['creation_date']\n",
    "c_to_t['account_id'] = 0\n",
    "c_to_t['customer_id'] = c_df['customer_id']\n",
    "c_to_t['amount'] = c_df['start_balance']\n",
    "c_to_t['transaction_date'] = c_df['creation_date']\n",
    "c_to_t['deposit'] = c_df['start_balance']\n",
    "c_to_t['withdrawal'] = 0\n",
    "\n",
    "# Load transactional dataset\n",
    "t_df_original = pd.read_csv(r\"C:\\bank-churn-data\\transactions_tm1_e.csv\")\n",
    "t_df = t_df_original.iloc[:1000]\n",
    "t_array = t_df.to_numpy()\n",
    "\n"
   ]
  },
  {
   "attachments": {},
   "cell_type": "markdown",
   "metadata": {},
   "source": [
    "### Profiling the Datasets"
   ]
  },
  {
   "cell_type": "code",
   "execution_count": null,
   "metadata": {},
   "outputs": [],
   "source": [
    "# Shows missing values per column of each dataset\n",
    "missing_t_df = t_df_original.isna()\n",
    "missing_c_df = c_df_original.isna()\n",
    "missing_t = missing_t_df.sum(axis=0)\n",
    "missing_c = missing_c_df.sum(axis=0)\n",
    "print(missing_t)\n",
    "print(missing_c)"
   ]
  },
  {
   "cell_type": "code",
   "execution_count": null,
   "metadata": {},
   "outputs": [],
   "source": [
    "# Prints column names and the lake for ease of reference\n",
    "print(t_df.columns,'\\n',t_array[:2],'\\n\\n',c_df.columns,'\\n',c_array[:2])"
   ]
  },
  {
   "cell_type": "code",
   "execution_count": null,
   "metadata": {},
   "outputs": [],
   "source": [
    "# Code I ran to show that each customer_id has only 1 account_id\n",
    "ex_df = t_df.groupby('customer_id')['account_id'].nunique()\n",
    "display(ex_df)\n",
    "display(type(ex_df))\n",
    "display(ex_df.max())"
   ]
  },
  {
   "cell_type": "code",
   "execution_count": null,
   "metadata": {},
   "outputs": [],
   "source": [
    "# Failed Testing\n",
    "practice = t_df.iloc[[2,3,4]]\n",
    "display(practice)\n",
    "\n",
    "t_df['magnitude'] = t_df['amount'].map(abs) + t_df['deposit'].map(abs) + t_df['withdrawal'].map(abs)\n",
    "display(t_df.query('amount != 0'))\n"
   ]
  },
  {
   "attachments": {},
   "cell_type": "markdown",
   "metadata": {},
   "source": [
    "### Transformations"
   ]
  },
  {
   "attachments": {},
   "cell_type": "markdown",
   "metadata": {},
   "source": [
    "Features to add list:\n",
    "- From transactions, groupby(['account_id', month('transaction_date')])\n",
    "  - sum(deposit) in month ~ total deposited\n",
    "  - sum(withdrawal) in month ~ total withdrawn\n",
    "  - sum(amount) in month ~ total delta\n",
    "  - count(deposit != 0) in month ~ total deposits\n",
    "  - count(withdrawal != 0) in month ~ total withdrawals\n",
    "  - count(amount != 0) in month ~ total transactions\n",
    "  - month('transaction_date') - {customer_id:dob} ~ age of customer at given time\n",
    "  - month('transaction_date') - {customer_id:creation_date} ~ age of account at given time\n",
    "  - cumsum(amount) ~ total in account at end of month\n",
    "  - 'transaction_date' - df['transaction_date'].shift(1)~ Period of time between this transaction and next transaction (or with 6/1/2020)\n",
    "  - ? Whether there was a no-amount transaction? Would those be interpreted as just balance checks?\n",
    "\n",
    "- From customers (also have to factor in having multiple accounts):\n",
    "  - initials['customer_id', 'start_balance']\n",
    "  - ~ time since last transaction\n",
    "  - ~ current age\n",
    "  - ~ current age of account\n",
    "  - ~ current account balance\n",
    "  - ~ last transaction amount\n",
    "  - ~ period of time between first and last transaction (+ activity rate)\n",
    "  - ~ total number of withdrawals made (+ ratio over time)\n",
    "  - ~ total number of deposits made (+ ratio over time)\n",
    "  - ~ Number of \n",
    "\n",
    "- ideas\n",
    "  - transactional data must be analyzed in a time-series manner while customer data would be through a more standard logistical model?\n",
    "  - People with many accounts will be more likely to close AN account (1 of them) since they have other accounts usable\n",
    "    - People with only 1 account will be less likely to close their account\n",
    "  - look if a certain quantity of withdrawal (amount, proportion of account) in a given month correlates with churning\n",
    "    - for example, if they withdrawal X% of their account (which may be associated with subsequent inactivity) => churn\n",
    "  - Period of time between this transaction and next transaction (or with 6/1/2020)\n",
    "    - naturally older churned accounts will have a much higher forward inactivity value.\n",
    "    - What's the average of churned and un-churned accounts and how well does one forward inactivity value distinguish between them\n",
    "  - Someone who deposits more than they withdrawal in general probably is not churning over a long enough timespan?\n",
    "    - big withdrawals should be counted for more tho since an account may get filled steadily but being brought down to 0 should be more significant\n",
    "    - So must be combined with info on final account value\n",
    "  - \n",
    "  - \n"
   ]
  },
  {
   "cell_type": "code",
   "execution_count": null,
   "metadata": {},
   "outputs": [],
   "source": [
    "# Adds a month and year date columns and binary columns to check if the transaction\n",
    "# was a deposit, withdrawal, or check_balance (?, a transaction with amount=0) occurred on each line\n",
    "    # The binary column will be used in group summation to find # of deposits and withdrawals per month\n",
    "\n",
    "# deepcopy just to be very safe that these transformation tests don't interfere\n",
    "# with other attempted transformations\n",
    "t_df_time_t = copy.deepcopy(t_df)\n",
    "t_df_time_t['month'] = pd.to_datetime(t_df_time_t.loc[:,'transaction_date']).dt.month\n",
    "t_df_time_t['year'] = pd.to_datetime(t_df_time_t.loc[:,'transaction_date']).dt.year\n",
    "t_df_time_t['deposit_y'] = t_df_time_t['deposit'].apply(lambda x: 1 if abs(x) > 0 else 0)\n",
    "t_df_time_t['withdrawal_y'] = t_df_time_t['withdrawal'].apply(lambda x: 1 if abs(x) > 0 else 0)\n",
    "t_df_time_t['checked_balance'] = t_df_time_t['amount'].apply(lambda x: 1 if abs(x) == 0 else 0)\n",
    "display(t_df_time_t)"
   ]
  },
  {
   "cell_type": "code",
   "execution_count": null,
   "metadata": {},
   "outputs": [],
   "source": [
    "# Group by customer_id, year, month\n",
    "# Creates sum_deposit, sum_withdrawal, sum_amount per month\n",
    "# and count_deposit and count_withdrawal (counts number of each per month)\n",
    "# and binary check if the customer checked their balance\n",
    "# Adds mean of deposits and withdrawals in each month and the running balance at end of month\n",
    "\n",
    "t_df_time_grouped = t_df_time_t.groupby(\n",
    "    [\"customer_id\",\"year\",\"month\"])['amount','deposit','withdrawal',\n",
    "                                    'deposit_y','withdrawal_y','checked_balance'].agg(\n",
    "    sum_deposit = (\"deposit\",\"sum\"),\n",
    "    sum_withdrawal = (\"withdrawal\",\"sum\"),\n",
    "    sum_amount = (\"amount\",\"sum\"),\n",
    "    count_deposit = (\"deposit_y\", \"sum\"),\n",
    "    count_withdrawal = (\"withdrawal_y\", 'sum'),\n",
    "    checked_balance = (\"checked_balance\",'max')\n",
    ")\n",
    "\n",
    "t_df_time_grouped['mean_deposit'] = (\n",
    "    t_df_time_grouped['sum_deposit']/t_df_time_grouped['count_deposit'].apply(lambda x:max(1,x)))\n",
    "t_df_time_grouped['mean_withdrawal'] = (\n",
    "    t_df_time_grouped['sum_withdrawal']/t_df_time_grouped['count_withdrawal'].apply(lambda x:max(1,x)))\n",
    "\n",
    "t_df_time_grouped['running_balance'] = t_df_time_grouped.groupby('customer_id')['sum_amount'].cumsum()\n",
    "display(t_df_time_grouped)\n",
    "\n",
    "## This is a Customer Dataset transformation - There's a simpler method below!\n",
    "#final_c_balances =t_df_time_grouped.groupby('customer_id')['running_balance'].last()\n",
    "\n"
   ]
  },
  {
   "attachments": {},
   "cell_type": "markdown",
   "metadata": {},
   "source": [
    "Create transactional rows based off customer dataset rows (Box below complete)"
   ]
  },
  {
   "attachments": {},
   "cell_type": "markdown",
   "metadata": {},
   "source": [
    "Summary Stats for Customer Dataset"
   ]
  },
  {
   "cell_type": "code",
   "execution_count": null,
   "metadata": {},
   "outputs": [],
   "source": [
    "# REDUNDANT, WILL CREATE USING GROUPBY.SUM ON TRANSACTIONAL TABLE + ACCOUNT CREATION TRANSACTIONS\n",
    "# Code to create user_final_balance feature with final account balance\n",
    "# Extract start_balance series indexed by user_id\n",
    "c_start_balance = c_df.loc[:,'start_balance']\n",
    "c_customer_ids = list(c_df.loc[:,'customer_id'].values)\n",
    "c_start_balance.index = c_customer_ids\n",
    "\n",
    "# Group Transactions by user and sum amount - creates column of transaction deltas\n",
    "t_transaction_sum = t_df.groupby('customer_id')['amount'].aggregate('sum')\n",
    "\n",
    "# Adding transaction deltas to starting balances by customer_id SHOULD give users' final account balances\n",
    "user_final_balances = c_start_balance.add(t_transaction_sum)\n",
    "display(user_final_balances)\n",
    "\n",
    "# Was using to check that start balance + transactional delta = the user_final_balances column\n",
    "print(f\"start+delta:{c_start_balance[91]+t_transaction_sum[91]} = total:{user_final_balances[91]}\")"
   ]
  },
  {
   "cell_type": "code",
   "execution_count": null,
   "metadata": {},
   "outputs": [],
   "source": [
    "# Creating first and last transaction features, diff between the 2 feature\n",
    "# These are to be attached to the Customer dataset\n",
    "\n",
    "t_df['transaction_date'] = t_df['transaction_date'].apply(pd.to_datetime)\n",
    "t_min_max_date = t_df.groupby('customer_id')['transaction_date'].aggregate(['min','max'])\n",
    "display(t_min_max_date)\n"
   ]
  }
 ],
 "metadata": {
  "kernelspec": {
   "display_name": "Python 3",
   "language": "python",
   "name": "python3"
  },
  "language_info": {
   "codemirror_mode": {
    "name": "ipython",
    "version": 3
   },
   "file_extension": ".py",
   "mimetype": "text/x-python",
   "name": "python",
   "nbconvert_exporter": "python",
   "pygments_lexer": "ipython3",
   "version": "3.10.8"
  },
  "orig_nbformat": 4,
  "vscode": {
   "interpreter": {
    "hash": "369f2c481f4da34e4445cda3fffd2e751bd1c4d706f27375911949ba6bb62e1c"
   }
  }
 },
 "nbformat": 4,
 "nbformat_minor": 2
}
