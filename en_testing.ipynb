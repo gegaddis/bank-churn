{
 "cells": [
  {
   "cell_type": "code",
   "execution_count": null,
   "metadata": {},
   "outputs": [],
   "source": [
    "import numpy as np\n",
    "import pandas as pd\n",
    "import matplotlib.pyplot as plt"
   ]
  },
  {
   "cell_type": "code",
   "execution_count": null,
   "metadata": {},
   "outputs": [],
   "source": [
    "# import dataset and load in a dataframe\n",
    "customer_file = r'..\\data\\customers_tm1_e.csv'\n",
    "transaction_file = r'..\\data\\transactions_tm1_e.csv'\n",
    "cust_df = pd.read_csv(customer_file)\n",
    "trans_df = pd.read_csv(transaction_file)"
   ]
  },
  {
   "cell_type": "code",
   "execution_count": null,
   "metadata": {},
   "outputs": [],
   "source": [
    "cust_df.head()"
   ]
  },
  {
   "cell_type": "code",
   "execution_count": null,
   "metadata": {},
   "outputs": [],
   "source": [
    "trans_df.head()"
   ]
  },
  {
   "cell_type": "code",
   "execution_count": null,
   "metadata": {},
   "outputs": [],
   "source": [
    "cust_df.info()"
   ]
  },
  {
   "cell_type": "code",
   "execution_count": null,
   "metadata": {},
   "outputs": [],
   "source": [
    "trans_df.info()"
   ]
  },
  {
   "cell_type": "code",
   "execution_count": null,
   "metadata": {},
   "outputs": [],
   "source": [
    "is_missing = trans_df.isna()\n",
    "\n",
    "missing_per_column = is_missing.sum(axis = 0) \n",
    "print(missing_per_column)              "
   ]
  },
  {
   "cell_type": "code",
   "execution_count": null,
   "metadata": {},
   "outputs": [],
   "source": [
    "# replacing empty start balances with 0, but this should be edited with transaction data if the information is there.\n",
    "cust_df['start_balance'].fillna(0, inplace=True)"
   ]
  },
  {
   "cell_type": "code",
   "execution_count": null,
   "metadata": {},
   "outputs": [],
   "source": [
    "print(f\"Customer columns:\\n{list(cust_df.columns)}\\n\")\n",
    "print(f\"Transactions columns:\\n{list(trans_df.columns)}\")"
   ]
  },
  {
   "cell_type": "code",
   "execution_count": null,
   "metadata": {},
   "outputs": [],
   "source": [
    "# Checking if amount is equal to the sum of deposit and withdrawal\n",
    "trans_df['amount'].equals(trans_df[\"deposit\"] + trans_df[\"withdrawal\"])"
   ]
  },
  {
   "cell_type": "code",
   "execution_count": null,
   "metadata": {},
   "outputs": [],
   "source": [
    "#Since it doesn't match, I am going to copy the table and see if I can find anything interesting about it\n",
    "ttemp_df = trans_df.copy()"
   ]
  },
  {
   "cell_type": "code",
   "execution_count": null,
   "metadata": {},
   "outputs": [],
   "source": [
    "ttemp_df[\"transaction_sum\"] = ttemp_df[\"withdrawal\"] + ttemp_df[\"deposit\"]\n",
    "ttemp_df[\"transaction_diff\"] = ttemp_df[\"amount\"] - ttemp_df[\"transaction_sum\"]\n",
    "filter1 = ttemp_df[ttemp_df[\"transaction_diff\"] != 0]"
   ]
  },
  {
   "cell_type": "code",
   "execution_count": null,
   "metadata": {},
   "outputs": [],
   "source": [
    "# 18 rows have aounts that don't equal the sum of the withdrawal and deposit\n",
    "filter1.count()"
   ]
  },
  {
   "cell_type": "code",
   "execution_count": null,
   "metadata": {},
   "outputs": [],
   "source": [
    "# The rows with a difference between the amount and transaction sum, \n",
    "# Have amounts that are significantly different from the transaction sum\n",
    "display(filter1[['customer_id', 'transaction_date', 'amount', 'transaction_sum', 'transaction_diff']])"
   ]
  },
  {
   "cell_type": "code",
   "execution_count": null,
   "metadata": {},
   "outputs": [],
   "source": [
    "# Option 1 is to adjust amount so that it matches the transaction sum\n",
    "ttemp_df[\"amount\"] = np.where(ttemp_df[\"transaction_diff\"] != 0, ttemp_df[\"transaction_sum\"], ttemp_df[\"amount\"])"
   ]
  },
  {
   "cell_type": "code",
   "execution_count": null,
   "metadata": {},
   "outputs": [],
   "source": [
    "ttemp_df[\"transaction_diff\"] = ttemp_df[\"amount\"] - ttemp_df[\"transaction_sum\"]\n",
    "filter1 = ttemp_df[ttemp_df[\"transaction_diff\"] != 0]\n",
    "filter1.count()"
   ]
  },
  {
   "cell_type": "code",
   "execution_count": null,
   "metadata": {},
   "outputs": [],
   "source": [
    "# The other option would be be to change the withdrawal and deposits to match"
   ]
  },
  {
   "cell_type": "code",
   "execution_count": null,
   "metadata": {},
   "outputs": [],
   "source": [
    "#Adding an account_total column, by grouping by customer_id and sorting by transaction_date\n",
    "trans_df['account_total'] = trans_df.sort_values(['customer_id', 'transaction_date'], ascending=True).groupby(['customer_id', 'account_id'])['amount'].cumsum()"
   ]
  },
  {
   "cell_type": "code",
   "execution_count": null,
   "metadata": {},
   "outputs": [],
   "source": [
    "#Casting to date type\n",
    "trans_df['date'] = pd.to_datetime(trans_df['date'])\n",
    "trans_df['transaction_date'] = pd.to_datetime(trans_df['transaction_date'])"
   ]
  },
  {
   "cell_type": "code",
   "execution_count": null,
   "metadata": {},
   "outputs": [],
   "source": [
    "month_trans = trans_df.groupby(['customer_id', trans_df.transaction_date.dt.to_period(\"m\")])[\"amount\"].sum()"
   ]
  },
  {
   "cell_type": "code",
   "execution_count": null,
   "metadata": {},
   "outputs": [],
   "source": [
    "merge_df = pd.merge(trans_df[['account_id', 'customer_id', 'transaction_date', 'amount', 'account_total']], cust_df, on = 'customer_id', how = 'left')"
   ]
  },
  {
   "cell_type": "code",
   "execution_count": null,
   "metadata": {},
   "outputs": [],
   "source": [
    "display(merge_df.head())\n"
   ]
  },
  {
   "cell_type": "code",
   "execution_count": null,
   "metadata": {},
   "outputs": [],
   "source": [
    "sum_df = merge_df[['amount', 'start_balance']].sum(axis=1)"
   ]
  },
  {
   "cell_type": "code",
   "execution_count": null,
   "metadata": {},
   "outputs": [],
   "source": [
    "# creating temp table that is grouped by month\n",
    "# temp_df = trans_df.groupby(['customer_id', 'account_id',\n",
    "#                            trans_df.transaction_date.dt.to_period(\"M\")], as_index = False).agg({'amount': sum, 'deposit': sum, 'withdrawal': sum})\n",
    "\n",
    "# Use temp table below\n",
    "temp_df = trans_df.groupby(['customer_id', 'account_id',\n",
    "                            pd.Grouper(key = 'transaction_date', freq = \"M\")], \n",
    "                            as_index= False).agg({'amount': sum, \n",
    "                                                  'deposit': sum, \n",
    "                                                  'withdrawal': sum})"
   ]
  },
  {
   "cell_type": "code",
   "execution_count": null,
   "metadata": {},
   "outputs": [],
   "source": [
    "print(temp_df)"
   ]
  },
  {
   "cell_type": "code",
   "execution_count": null,
   "metadata": {},
   "outputs": [],
   "source": [
    "temp_df.info()"
   ]
  },
  {
   "cell_type": "code",
   "execution_count": null,
   "metadata": {},
   "outputs": [],
   "source": [
    "# Merging data to look at each customer by month\n",
    "tmer_df = pd.merge(cust_df, temp_df, on = 'customer_id', how = 'left')"
   ]
  },
  {
   "cell_type": "code",
   "execution_count": null,
   "metadata": {},
   "outputs": [],
   "source": [
    "tmer_df['transaction_total'] = tmer_df.sort_values(['customer_id', 'transaction_date'], ascending=True).groupby(['customer_id', 'account_id'])['amount'].cumsum()"
   ]
  },
  {
   "cell_type": "code",
   "execution_count": null,
   "metadata": {},
   "outputs": [],
   "source": [
    "tmer_df['account_total'] = tmer_df['transaction_total'] + tmer_df['start_balance']"
   ]
  },
  {
   "cell_type": "code",
   "execution_count": null,
   "metadata": {},
   "outputs": [],
   "source": [
    "tmer_df['account_total']"
   ]
  },
  {
   "cell_type": "code",
   "execution_count": null,
   "metadata": {},
   "outputs": [],
   "source": [
    "# Creating a copy of the temp merge df to clean up a bit\n",
    "monthly_look_df = tmer_df.copy()"
   ]
  },
  {
   "cell_type": "code",
   "execution_count": null,
   "metadata": {},
   "outputs": [],
   "source": [
    "monthly_look_df.info()"
   ]
  },
  {
   "cell_type": "code",
   "execution_count": null,
   "metadata": {},
   "outputs": [],
   "source": [
    "# Cleaning up this temp table, so it just tells us about the account balance and transactions\n",
    "monthly_look_df.drop(columns= ['dob', 'state', 'withdrawal', 'deposit'], inplace= True)\n",
    "monthly_look_df[\"transaction_date\"] = monthly_look_df.transaction_date.dt.to_period(\"M\")\n",
    "monthly_look_df = monthly_look_df.rename(columns={'transaction_date': \"transaction_month\", \"amount\": \"transaction_amount\"})"
   ]
  },
  {
   "cell_type": "code",
   "execution_count": null,
   "metadata": {},
   "outputs": [],
   "source": [
    "monthly_look_df.head()"
   ]
  }
 ],
 "metadata": {
  "kernelspec": {
   "display_name": "Python 3",
   "language": "python",
   "name": "python3"
  },
  "language_info": {
   "codemirror_mode": {
    "name": "ipython",
    "version": 3
   },
   "file_extension": ".py",
   "mimetype": "text/x-python",
   "name": "python",
   "nbconvert_exporter": "python",
   "pygments_lexer": "ipython3",
   "version": "3.10.8 (tags/v3.10.8:aaaf517, Oct 11 2022, 16:50:30) [MSC v.1933 64 bit (AMD64)]"
  },
  "orig_nbformat": 4,
  "vscode": {
   "interpreter": {
    "hash": "369f2c481f4da34e4445cda3fffd2e751bd1c4d706f27375911949ba6bb62e1c"
   }
  }
 },
 "nbformat": 4,
 "nbformat_minor": 2
}
