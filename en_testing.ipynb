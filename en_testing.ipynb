{
 "cells": [
  {
   "cell_type": "code",
   "execution_count": 3,
   "metadata": {},
   "outputs": [],
   "source": [
    "import numpy as np\n",
    "import pandas as pd\n",
    "import matplotlib.pyplot as plt"
   ]
  },
  {
   "cell_type": "code",
   "execution_count": 133,
   "metadata": {},
   "outputs": [],
   "source": [
    "# import dataset and load in a dataframe\n",
    "customer_file = r'..\\data\\customers_tm1_e.csv'\n",
    "transaction_file = r'..\\data\\transactions_tm1_e.csv'\n",
    "cust_df = pd.read_csv(customer_file)\n",
    "trans_df = pd.read_csv(transaction_file)"
   ]
  },
  {
   "cell_type": "code",
   "execution_count": 5,
   "metadata": {},
   "outputs": [
    {
     "data": {
      "text/html": [
       "<div>\n",
       "<style scoped>\n",
       "    .dataframe tbody tr th:only-of-type {\n",
       "        vertical-align: middle;\n",
       "    }\n",
       "\n",
       "    .dataframe tbody tr th {\n",
       "        vertical-align: top;\n",
       "    }\n",
       "\n",
       "    .dataframe thead th {\n",
       "        text-align: right;\n",
       "    }\n",
       "</style>\n",
       "<table border=\"1\" class=\"dataframe\">\n",
       "  <thead>\n",
       "    <tr style=\"text-align: right;\">\n",
       "      <th></th>\n",
       "      <th>customer_id</th>\n",
       "      <th>dob</th>\n",
       "      <th>state</th>\n",
       "      <th>start_balance</th>\n",
       "      <th>creation_date</th>\n",
       "    </tr>\n",
       "  </thead>\n",
       "  <tbody>\n",
       "    <tr>\n",
       "      <th>0</th>\n",
       "      <td>91</td>\n",
       "      <td>1993-07-01</td>\n",
       "      <td>California</td>\n",
       "      <td>10180.56</td>\n",
       "      <td>2007-01-31</td>\n",
       "    </tr>\n",
       "    <tr>\n",
       "      <th>1</th>\n",
       "      <td>92</td>\n",
       "      <td>1985-12-05</td>\n",
       "      <td>New York</td>\n",
       "      <td>4757.68</td>\n",
       "      <td>2007-01-31</td>\n",
       "    </tr>\n",
       "    <tr>\n",
       "      <th>2</th>\n",
       "      <td>93</td>\n",
       "      <td>1987-11-19</td>\n",
       "      <td>Minnesota</td>\n",
       "      <td>6796.72</td>\n",
       "      <td>2007-01-31</td>\n",
       "    </tr>\n",
       "    <tr>\n",
       "      <th>3</th>\n",
       "      <td>94</td>\n",
       "      <td>1981-03-23</td>\n",
       "      <td>Minnesota</td>\n",
       "      <td>9870.48</td>\n",
       "      <td>2007-01-31</td>\n",
       "    </tr>\n",
       "    <tr>\n",
       "      <th>4</th>\n",
       "      <td>95</td>\n",
       "      <td>1970-04-06</td>\n",
       "      <td>California</td>\n",
       "      <td>12500.72</td>\n",
       "      <td>2007-01-31</td>\n",
       "    </tr>\n",
       "  </tbody>\n",
       "</table>\n",
       "</div>"
      ],
      "text/plain": [
       "   customer_id         dob       state  start_balance creation_date\n",
       "0           91  1993-07-01  California       10180.56    2007-01-31\n",
       "1           92  1985-12-05    New York        4757.68    2007-01-31\n",
       "2           93  1987-11-19   Minnesota        6796.72    2007-01-31\n",
       "3           94  1981-03-23   Minnesota        9870.48    2007-01-31\n",
       "4           95  1970-04-06  California       12500.72    2007-01-31"
      ]
     },
     "execution_count": 5,
     "metadata": {},
     "output_type": "execute_result"
    }
   ],
   "source": [
    "cust_df.head()"
   ]
  },
  {
   "cell_type": "code",
   "execution_count": 32,
   "metadata": {},
   "outputs": [
    {
     "data": {
      "text/html": [
       "<div>\n",
       "<style scoped>\n",
       "    .dataframe tbody tr th:only-of-type {\n",
       "        vertical-align: middle;\n",
       "    }\n",
       "\n",
       "    .dataframe tbody tr th {\n",
       "        vertical-align: top;\n",
       "    }\n",
       "\n",
       "    .dataframe thead th {\n",
       "        text-align: right;\n",
       "    }\n",
       "</style>\n",
       "<table border=\"1\" class=\"dataframe\">\n",
       "  <thead>\n",
       "    <tr style=\"text-align: right;\">\n",
       "      <th></th>\n",
       "      <th>date</th>\n",
       "      <th>account_id</th>\n",
       "      <th>customer_id</th>\n",
       "      <th>amount</th>\n",
       "      <th>transaction_date</th>\n",
       "      <th>deposit</th>\n",
       "      <th>withdrawal</th>\n",
       "      <th>account_total</th>\n",
       "    </tr>\n",
       "  </thead>\n",
       "  <tbody>\n",
       "    <tr>\n",
       "      <th>0</th>\n",
       "      <td>2007-01-31</td>\n",
       "      <td>24137947</td>\n",
       "      <td>91</td>\n",
       "      <td>3034.26</td>\n",
       "      <td>2007-01-31</td>\n",
       "      <td>3034.26</td>\n",
       "      <td>0.00</td>\n",
       "      <td>-2260.92</td>\n",
       "    </tr>\n",
       "    <tr>\n",
       "      <th>1</th>\n",
       "      <td>2007-01-31</td>\n",
       "      <td>24137947</td>\n",
       "      <td>91</td>\n",
       "      <td>-5295.18</td>\n",
       "      <td>2007-01-16</td>\n",
       "      <td>0.00</td>\n",
       "      <td>-5295.18</td>\n",
       "      <td>-5295.18</td>\n",
       "    </tr>\n",
       "    <tr>\n",
       "      <th>2</th>\n",
       "      <td>2007-02-28</td>\n",
       "      <td>24137947</td>\n",
       "      <td>91</td>\n",
       "      <td>0.00</td>\n",
       "      <td>2007-02-28</td>\n",
       "      <td>0.00</td>\n",
       "      <td>0.00</td>\n",
       "      <td>-2260.92</td>\n",
       "    </tr>\n",
       "    <tr>\n",
       "      <th>3</th>\n",
       "      <td>2007-03-31</td>\n",
       "      <td>24137947</td>\n",
       "      <td>91</td>\n",
       "      <td>-0.00</td>\n",
       "      <td>2007-03-30</td>\n",
       "      <td>0.00</td>\n",
       "      <td>-0.00</td>\n",
       "      <td>-2260.92</td>\n",
       "    </tr>\n",
       "    <tr>\n",
       "      <th>4</th>\n",
       "      <td>2007-03-31</td>\n",
       "      <td>24137947</td>\n",
       "      <td>91</td>\n",
       "      <td>-0.00</td>\n",
       "      <td>2007-03-11</td>\n",
       "      <td>0.00</td>\n",
       "      <td>-0.00</td>\n",
       "      <td>-2260.92</td>\n",
       "    </tr>\n",
       "  </tbody>\n",
       "</table>\n",
       "</div>"
      ],
      "text/plain": [
       "        date  account_id  customer_id   amount transaction_date  deposit  \\\n",
       "0 2007-01-31    24137947           91  3034.26       2007-01-31  3034.26   \n",
       "1 2007-01-31    24137947           91 -5295.18       2007-01-16     0.00   \n",
       "2 2007-02-28    24137947           91     0.00       2007-02-28     0.00   \n",
       "3 2007-03-31    24137947           91    -0.00       2007-03-30     0.00   \n",
       "4 2007-03-31    24137947           91    -0.00       2007-03-11     0.00   \n",
       "\n",
       "   withdrawal  account_total  \n",
       "0        0.00       -2260.92  \n",
       "1    -5295.18       -5295.18  \n",
       "2        0.00       -2260.92  \n",
       "3       -0.00       -2260.92  \n",
       "4       -0.00       -2260.92  "
      ]
     },
     "execution_count": 32,
     "metadata": {},
     "output_type": "execute_result"
    }
   ],
   "source": [
    "trans_df.head()"
   ]
  },
  {
   "cell_type": "code",
   "execution_count": 135,
   "metadata": {},
   "outputs": [
    {
     "name": "stdout",
     "output_type": "stream",
     "text": [
      "<class 'pandas.core.frame.DataFrame'>\n",
      "RangeIndex: 116016 entries, 0 to 116015\n",
      "Data columns (total 5 columns):\n",
      " #   Column         Non-Null Count   Dtype  \n",
      "---  ------         --------------   -----  \n",
      " 0   customer_id    116016 non-null  int64  \n",
      " 1   dob            116016 non-null  object \n",
      " 2   state          116016 non-null  object \n",
      " 3   start_balance  116013 non-null  float64\n",
      " 4   creation_date  116016 non-null  object \n",
      "dtypes: float64(1), int64(1), object(3)\n",
      "memory usage: 4.4+ MB\n"
     ]
    }
   ],
   "source": [
    "cust_df.info()"
   ]
  },
  {
   "cell_type": "code",
   "execution_count": 134,
   "metadata": {},
   "outputs": [
    {
     "name": "stdout",
     "output_type": "stream",
     "text": [
      "<class 'pandas.core.frame.DataFrame'>\n",
      "RangeIndex: 4977972 entries, 0 to 4977971\n",
      "Data columns (total 7 columns):\n",
      " #   Column            Dtype  \n",
      "---  ------            -----  \n",
      " 0   date              object \n",
      " 1   account_id        int64  \n",
      " 2   customer_id       int64  \n",
      " 3   amount            float64\n",
      " 4   transaction_date  object \n",
      " 5   deposit           float64\n",
      " 6   withdrawal        float64\n",
      "dtypes: float64(3), int64(2), object(2)\n",
      "memory usage: 265.9+ MB\n"
     ]
    }
   ],
   "source": [
    "trans_df.info()"
   ]
  },
  {
   "cell_type": "code",
   "execution_count": 136,
   "metadata": {},
   "outputs": [
    {
     "name": "stdout",
     "output_type": "stream",
     "text": [
      "date                0\n",
      "account_id          0\n",
      "customer_id         0\n",
      "amount              0\n",
      "transaction_date    0\n",
      "deposit             0\n",
      "withdrawal          0\n",
      "dtype: int64\n"
     ]
    }
   ],
   "source": [
    "is_missing = trans_df.isna()\n",
    "\n",
    "missing_per_column = is_missing.sum(axis = 0) \n",
    "print(missing_per_column)              "
   ]
  },
  {
   "attachments": {},
   "cell_type": "markdown",
   "metadata": {},
   "source": [
    "##### Replacing the Na in starting balance with 0"
   ]
  },
  {
   "cell_type": "code",
   "execution_count": 137,
   "metadata": {},
   "outputs": [],
   "source": [
    "# replacing empty start balances with 0, but this should be edited with transaction data if the information is there.\n",
    "cust_df['start_balance'].fillna(0, inplace=True)"
   ]
  },
  {
   "cell_type": "code",
   "execution_count": 138,
   "metadata": {},
   "outputs": [
    {
     "name": "stdout",
     "output_type": "stream",
     "text": [
      "Customer columns:\n",
      "['customer_id', 'dob', 'state', 'start_balance', 'creation_date']\n",
      "\n",
      "Transactions columns:\n",
      "['date', 'account_id', 'customer_id', 'amount', 'transaction_date', 'deposit', 'withdrawal']\n"
     ]
    }
   ],
   "source": [
    "print(f\"Customer columns:\\n{list(cust_df.columns)}\\n\")\n",
    "print(f\"Transactions columns:\\n{list(trans_df.columns)}\")"
   ]
  },
  {
   "attachments": {},
   "cell_type": "markdown",
   "metadata": {},
   "source": [
    "##### Checking if amount is equal to the sum of deposit and withdrawal"
   ]
  },
  {
   "cell_type": "code",
   "execution_count": 139,
   "metadata": {},
   "outputs": [
    {
     "data": {
      "text/plain": [
       "False"
      ]
     },
     "execution_count": 139,
     "metadata": {},
     "output_type": "execute_result"
    }
   ],
   "source": [
    "trans_df['amount'].equals(trans_df[\"deposit\"] + trans_df[\"withdrawal\"])"
   ]
  },
  {
   "cell_type": "code",
   "execution_count": 171,
   "metadata": {},
   "outputs": [],
   "source": [
    "#Since it doesn't match, I am going to copy the table and see if I can find anything interesting about it\n",
    "ttemp_df = trans_df.copy()"
   ]
  },
  {
   "cell_type": "code",
   "execution_count": 172,
   "metadata": {},
   "outputs": [],
   "source": [
    "ttemp_df[\"transaction_sum\"] = ttemp_df[\"withdrawal\"] + ttemp_df[\"deposit\"]\n",
    "ttemp_df[\"transaction_diff\"] = ttemp_df[\"amount\"] - ttemp_df[\"transaction_sum\"]\n",
    "filter1 = ttemp_df[ttemp_df[\"transaction_diff\"] != 0]"
   ]
  },
  {
   "cell_type": "code",
   "execution_count": 173,
   "metadata": {},
   "outputs": [
    {
     "data": {
      "text/plain": [
       "date                18\n",
       "account_id          18\n",
       "customer_id         18\n",
       "amount              18\n",
       "transaction_date    18\n",
       "deposit             18\n",
       "withdrawal          18\n",
       "transaction_sum     18\n",
       "transaction_diff    18\n",
       "dtype: int64"
      ]
     },
     "execution_count": 173,
     "metadata": {},
     "output_type": "execute_result"
    }
   ],
   "source": [
    "# 18 rows have aounts that don't equal the sum of the withdrawal and deposit\n",
    "filter1.count()"
   ]
  },
  {
   "cell_type": "code",
   "execution_count": 174,
   "metadata": {},
   "outputs": [
    {
     "data": {
      "text/html": [
       "<div>\n",
       "<style scoped>\n",
       "    .dataframe tbody tr th:only-of-type {\n",
       "        vertical-align: middle;\n",
       "    }\n",
       "\n",
       "    .dataframe tbody tr th {\n",
       "        vertical-align: top;\n",
       "    }\n",
       "\n",
       "    .dataframe thead th {\n",
       "        text-align: right;\n",
       "    }\n",
       "</style>\n",
       "<table border=\"1\" class=\"dataframe\">\n",
       "  <thead>\n",
       "    <tr style=\"text-align: right;\">\n",
       "      <th></th>\n",
       "      <th>customer_id</th>\n",
       "      <th>transaction_date</th>\n",
       "      <th>amount</th>\n",
       "      <th>transaction_sum</th>\n",
       "      <th>transaction_diff</th>\n",
       "    </tr>\n",
       "  </thead>\n",
       "  <tbody>\n",
       "    <tr>\n",
       "      <th>556196</th>\n",
       "      <td>9822</td>\n",
       "      <td>2007-08-31</td>\n",
       "      <td>-1.000000e+10</td>\n",
       "      <td>1703.45</td>\n",
       "      <td>-1.000000e+10</td>\n",
       "    </tr>\n",
       "    <tr>\n",
       "      <th>556197</th>\n",
       "      <td>9822</td>\n",
       "      <td>2007-08-12</td>\n",
       "      <td>-1.000000e+10</td>\n",
       "      <td>-73.91</td>\n",
       "      <td>-1.000000e+10</td>\n",
       "    </tr>\n",
       "    <tr>\n",
       "      <th>556198</th>\n",
       "      <td>9822</td>\n",
       "      <td>2007-08-27</td>\n",
       "      <td>-1.000000e+10</td>\n",
       "      <td>-898.84</td>\n",
       "      <td>-9.999999e+09</td>\n",
       "    </tr>\n",
       "    <tr>\n",
       "      <th>556199</th>\n",
       "      <td>9822</td>\n",
       "      <td>2007-08-29</td>\n",
       "      <td>-1.000000e+10</td>\n",
       "      <td>-102.68</td>\n",
       "      <td>-1.000000e+10</td>\n",
       "    </tr>\n",
       "    <tr>\n",
       "      <th>556200</th>\n",
       "      <td>9822</td>\n",
       "      <td>2007-08-10</td>\n",
       "      <td>-1.000000e+10</td>\n",
       "      <td>-291.17</td>\n",
       "      <td>-1.000000e+10</td>\n",
       "    </tr>\n",
       "    <tr>\n",
       "      <th>556201</th>\n",
       "      <td>9822</td>\n",
       "      <td>2007-08-17</td>\n",
       "      <td>-1.000000e+10</td>\n",
       "      <td>-463.53</td>\n",
       "      <td>-1.000000e+10</td>\n",
       "    </tr>\n",
       "    <tr>\n",
       "      <th>556202</th>\n",
       "      <td>9822</td>\n",
       "      <td>2007-08-12</td>\n",
       "      <td>-1.000000e+10</td>\n",
       "      <td>-749.91</td>\n",
       "      <td>-9.999999e+09</td>\n",
       "    </tr>\n",
       "    <tr>\n",
       "      <th>1419211</th>\n",
       "      <td>30441</td>\n",
       "      <td>2011-10-31</td>\n",
       "      <td>-1.000000e+10</td>\n",
       "      <td>1577.41</td>\n",
       "      <td>-1.000000e+10</td>\n",
       "    </tr>\n",
       "    <tr>\n",
       "      <th>1419212</th>\n",
       "      <td>30441</td>\n",
       "      <td>2011-10-24</td>\n",
       "      <td>-1.000000e+10</td>\n",
       "      <td>-1005.71</td>\n",
       "      <td>-9.999999e+09</td>\n",
       "    </tr>\n",
       "    <tr>\n",
       "      <th>1419213</th>\n",
       "      <td>30441</td>\n",
       "      <td>2011-10-04</td>\n",
       "      <td>-1.000000e+10</td>\n",
       "      <td>-685.87</td>\n",
       "      <td>-9.999999e+09</td>\n",
       "    </tr>\n",
       "    <tr>\n",
       "      <th>1419214</th>\n",
       "      <td>30441</td>\n",
       "      <td>2011-10-20</td>\n",
       "      <td>-1.000000e+10</td>\n",
       "      <td>-250.35</td>\n",
       "      <td>-1.000000e+10</td>\n",
       "    </tr>\n",
       "    <tr>\n",
       "      <th>3491873</th>\n",
       "      <td>77685</td>\n",
       "      <td>2018-07-31</td>\n",
       "      <td>2.934292e+09</td>\n",
       "      <td>214.95</td>\n",
       "      <td>2.934292e+09</td>\n",
       "    </tr>\n",
       "    <tr>\n",
       "      <th>3491874</th>\n",
       "      <td>77685</td>\n",
       "      <td>2018-07-15</td>\n",
       "      <td>2.934292e+09</td>\n",
       "      <td>-13.76</td>\n",
       "      <td>2.934292e+09</td>\n",
       "    </tr>\n",
       "    <tr>\n",
       "      <th>3491875</th>\n",
       "      <td>77685</td>\n",
       "      <td>2018-07-28</td>\n",
       "      <td>2.934292e+09</td>\n",
       "      <td>-145.06</td>\n",
       "      <td>2.934292e+09</td>\n",
       "    </tr>\n",
       "    <tr>\n",
       "      <th>3491876</th>\n",
       "      <td>77685</td>\n",
       "      <td>2018-07-31</td>\n",
       "      <td>2.934292e+09</td>\n",
       "      <td>-185.35</td>\n",
       "      <td>2.934292e+09</td>\n",
       "    </tr>\n",
       "    <tr>\n",
       "      <th>3491877</th>\n",
       "      <td>77685</td>\n",
       "      <td>2018-07-31</td>\n",
       "      <td>2.934292e+09</td>\n",
       "      <td>-111.30</td>\n",
       "      <td>2.934292e+09</td>\n",
       "    </tr>\n",
       "    <tr>\n",
       "      <th>3491878</th>\n",
       "      <td>77685</td>\n",
       "      <td>2018-07-02</td>\n",
       "      <td>2.934292e+09</td>\n",
       "      <td>-10.92</td>\n",
       "      <td>2.934292e+09</td>\n",
       "    </tr>\n",
       "    <tr>\n",
       "      <th>3743186</th>\n",
       "      <td>82271</td>\n",
       "      <td>2019-05-31</td>\n",
       "      <td>2.934292e+09</td>\n",
       "      <td>2579.60</td>\n",
       "      <td>2.934290e+09</td>\n",
       "    </tr>\n",
       "  </tbody>\n",
       "</table>\n",
       "</div>"
      ],
      "text/plain": [
       "         customer_id transaction_date        amount  transaction_sum  \\\n",
       "556196          9822       2007-08-31 -1.000000e+10          1703.45   \n",
       "556197          9822       2007-08-12 -1.000000e+10           -73.91   \n",
       "556198          9822       2007-08-27 -1.000000e+10          -898.84   \n",
       "556199          9822       2007-08-29 -1.000000e+10          -102.68   \n",
       "556200          9822       2007-08-10 -1.000000e+10          -291.17   \n",
       "556201          9822       2007-08-17 -1.000000e+10          -463.53   \n",
       "556202          9822       2007-08-12 -1.000000e+10          -749.91   \n",
       "1419211        30441       2011-10-31 -1.000000e+10          1577.41   \n",
       "1419212        30441       2011-10-24 -1.000000e+10         -1005.71   \n",
       "1419213        30441       2011-10-04 -1.000000e+10          -685.87   \n",
       "1419214        30441       2011-10-20 -1.000000e+10          -250.35   \n",
       "3491873        77685       2018-07-31  2.934292e+09           214.95   \n",
       "3491874        77685       2018-07-15  2.934292e+09           -13.76   \n",
       "3491875        77685       2018-07-28  2.934292e+09          -145.06   \n",
       "3491876        77685       2018-07-31  2.934292e+09          -185.35   \n",
       "3491877        77685       2018-07-31  2.934292e+09          -111.30   \n",
       "3491878        77685       2018-07-02  2.934292e+09           -10.92   \n",
       "3743186        82271       2019-05-31  2.934292e+09          2579.60   \n",
       "\n",
       "         transaction_diff  \n",
       "556196      -1.000000e+10  \n",
       "556197      -1.000000e+10  \n",
       "556198      -9.999999e+09  \n",
       "556199      -1.000000e+10  \n",
       "556200      -1.000000e+10  \n",
       "556201      -1.000000e+10  \n",
       "556202      -9.999999e+09  \n",
       "1419211     -1.000000e+10  \n",
       "1419212     -9.999999e+09  \n",
       "1419213     -9.999999e+09  \n",
       "1419214     -1.000000e+10  \n",
       "3491873      2.934292e+09  \n",
       "3491874      2.934292e+09  \n",
       "3491875      2.934292e+09  \n",
       "3491876      2.934292e+09  \n",
       "3491877      2.934292e+09  \n",
       "3491878      2.934292e+09  \n",
       "3743186      2.934290e+09  "
      ]
     },
     "metadata": {},
     "output_type": "display_data"
    }
   ],
   "source": [
    "# The rows with a difference between the amount and transaction sum, \n",
    "# Have amounts that are significantly different from the transaction sum\n",
    "display(filter1[['customer_id', 'transaction_date', 'amount', 'transaction_sum', 'transaction_diff']])"
   ]
  },
  {
   "cell_type": "code",
   "execution_count": 175,
   "metadata": {},
   "outputs": [],
   "source": [
    "# Option 1 is to adjust amount so that it matches the transaction sum\n",
    "ttemp_df[\"amount\"] = np.where(ttemp_df[\"transaction_diff\"] != 0, ttemp_df[\"transaction_sum\"], ttemp_df[\"amount\"])"
   ]
  },
  {
   "cell_type": "code",
   "execution_count": 177,
   "metadata": {},
   "outputs": [
    {
     "data": {
      "text/plain": [
       "date                0\n",
       "account_id          0\n",
       "customer_id         0\n",
       "amount              0\n",
       "transaction_date    0\n",
       "deposit             0\n",
       "withdrawal          0\n",
       "transaction_sum     0\n",
       "transaction_diff    0\n",
       "dtype: int64"
      ]
     },
     "execution_count": 177,
     "metadata": {},
     "output_type": "execute_result"
    }
   ],
   "source": [
    "ttemp_df[\"transaction_diff\"] = ttemp_df[\"amount\"] - ttemp_df[\"transaction_sum\"]\n",
    "filter1 = ttemp_df[ttemp_df[\"transaction_diff\"] != 0]\n",
    "filter1.count()"
   ]
  },
  {
   "cell_type": "code",
   "execution_count": null,
   "metadata": {},
   "outputs": [],
   "source": [
    "# The other option would be be to change the withdrawal and deposits to match"
   ]
  },
  {
   "attachments": {},
   "cell_type": "markdown",
   "metadata": {},
   "source": [
    "Fixing the amount\n",
    "\n",
    "making it equal the sum of withdrawal and deposit"
   ]
  },
  {
   "cell_type": "code",
   "execution_count": 178,
   "metadata": {},
   "outputs": [],
   "source": [
    "trans_df[\"amount\"] = np.where(trans_df[\"amount\"] != trans_df[\"withdrawal\"] + trans_df[\"deposit\"], trans_df[\"withdrawal\"] + trans_df[\"deposit\"], trans_df[\"amount\"])"
   ]
  },
  {
   "cell_type": "code",
   "execution_count": 179,
   "metadata": {},
   "outputs": [
    {
     "data": {
      "text/plain": [
       "True"
      ]
     },
     "execution_count": 179,
     "metadata": {},
     "output_type": "execute_result"
    }
   ],
   "source": [
    "trans_df['amount'].equals(trans_df[\"deposit\"] + trans_df[\"withdrawal\"])\n"
   ]
  },
  {
   "attachments": {},
   "cell_type": "markdown",
   "metadata": {},
   "source": [
    "#### Adding an account_total column: \n",
    "\n",
    "By grouping by customer_id and sorting by transaction_date"
   ]
  },
  {
   "cell_type": "code",
   "execution_count": 181,
   "metadata": {},
   "outputs": [],
   "source": [
    "trans_df['account_total'] = trans_df.sort_values(['customer_id', 'transaction_date'], ascending=True).groupby(['customer_id', 'account_id'])['amount'].cumsum()"
   ]
  },
  {
   "attachments": {},
   "cell_type": "markdown",
   "metadata": {},
   "source": [
    "#### Casting to date type"
   ]
  },
  {
   "cell_type": "code",
   "execution_count": 182,
   "metadata": {},
   "outputs": [],
   "source": [
    "trans_df['date'] = pd.to_datetime(trans_df['date'])\n",
    "trans_df['transaction_date'] = pd.to_datetime(trans_df['transaction_date'])"
   ]
  },
  {
   "attachments": {},
   "cell_type": "markdown",
   "metadata": {},
   "source": [
    "#### Testing Merge options"
   ]
  },
  {
   "cell_type": "code",
   "execution_count": 183,
   "metadata": {},
   "outputs": [],
   "source": [
    "month_trans = trans_df.groupby(['customer_id', trans_df.transaction_date.dt.to_period(\"m\")])[\"amount\"].sum()"
   ]
  },
  {
   "cell_type": "code",
   "execution_count": 184,
   "metadata": {},
   "outputs": [],
   "source": [
    "merge_df = pd.merge(trans_df[['account_id', 'customer_id', 'transaction_date', 'amount', 'account_total']], cust_df, on = 'customer_id', how = 'left')"
   ]
  },
  {
   "cell_type": "code",
   "execution_count": 185,
   "metadata": {},
   "outputs": [
    {
     "data": {
      "text/html": [
       "<div>\n",
       "<style scoped>\n",
       "    .dataframe tbody tr th:only-of-type {\n",
       "        vertical-align: middle;\n",
       "    }\n",
       "\n",
       "    .dataframe tbody tr th {\n",
       "        vertical-align: top;\n",
       "    }\n",
       "\n",
       "    .dataframe thead th {\n",
       "        text-align: right;\n",
       "    }\n",
       "</style>\n",
       "<table border=\"1\" class=\"dataframe\">\n",
       "  <thead>\n",
       "    <tr style=\"text-align: right;\">\n",
       "      <th></th>\n",
       "      <th>account_id</th>\n",
       "      <th>customer_id</th>\n",
       "      <th>transaction_date</th>\n",
       "      <th>amount</th>\n",
       "      <th>account_total</th>\n",
       "      <th>dob</th>\n",
       "      <th>state</th>\n",
       "      <th>start_balance</th>\n",
       "      <th>creation_date</th>\n",
       "    </tr>\n",
       "  </thead>\n",
       "  <tbody>\n",
       "    <tr>\n",
       "      <th>0</th>\n",
       "      <td>24137947</td>\n",
       "      <td>91</td>\n",
       "      <td>2007-01-31</td>\n",
       "      <td>3034.26</td>\n",
       "      <td>-2260.92</td>\n",
       "      <td>1993-07-01</td>\n",
       "      <td>California</td>\n",
       "      <td>10180.56</td>\n",
       "      <td>2007-01-31</td>\n",
       "    </tr>\n",
       "    <tr>\n",
       "      <th>1</th>\n",
       "      <td>24137947</td>\n",
       "      <td>91</td>\n",
       "      <td>2007-01-16</td>\n",
       "      <td>-5295.18</td>\n",
       "      <td>-5295.18</td>\n",
       "      <td>1993-07-01</td>\n",
       "      <td>California</td>\n",
       "      <td>10180.56</td>\n",
       "      <td>2007-01-31</td>\n",
       "    </tr>\n",
       "    <tr>\n",
       "      <th>2</th>\n",
       "      <td>24137947</td>\n",
       "      <td>91</td>\n",
       "      <td>2007-02-28</td>\n",
       "      <td>0.00</td>\n",
       "      <td>-2260.92</td>\n",
       "      <td>1993-07-01</td>\n",
       "      <td>California</td>\n",
       "      <td>10180.56</td>\n",
       "      <td>2007-01-31</td>\n",
       "    </tr>\n",
       "    <tr>\n",
       "      <th>3</th>\n",
       "      <td>24137947</td>\n",
       "      <td>91</td>\n",
       "      <td>2007-03-30</td>\n",
       "      <td>-0.00</td>\n",
       "      <td>-2260.92</td>\n",
       "      <td>1993-07-01</td>\n",
       "      <td>California</td>\n",
       "      <td>10180.56</td>\n",
       "      <td>2007-01-31</td>\n",
       "    </tr>\n",
       "    <tr>\n",
       "      <th>4</th>\n",
       "      <td>24137947</td>\n",
       "      <td>91</td>\n",
       "      <td>2007-03-11</td>\n",
       "      <td>-0.00</td>\n",
       "      <td>-2260.92</td>\n",
       "      <td>1993-07-01</td>\n",
       "      <td>California</td>\n",
       "      <td>10180.56</td>\n",
       "      <td>2007-01-31</td>\n",
       "    </tr>\n",
       "  </tbody>\n",
       "</table>\n",
       "</div>"
      ],
      "text/plain": [
       "   account_id  customer_id transaction_date   amount  account_total  \\\n",
       "0    24137947           91       2007-01-31  3034.26       -2260.92   \n",
       "1    24137947           91       2007-01-16 -5295.18       -5295.18   \n",
       "2    24137947           91       2007-02-28     0.00       -2260.92   \n",
       "3    24137947           91       2007-03-30    -0.00       -2260.92   \n",
       "4    24137947           91       2007-03-11    -0.00       -2260.92   \n",
       "\n",
       "          dob       state  start_balance creation_date  \n",
       "0  1993-07-01  California       10180.56    2007-01-31  \n",
       "1  1993-07-01  California       10180.56    2007-01-31  \n",
       "2  1993-07-01  California       10180.56    2007-01-31  \n",
       "3  1993-07-01  California       10180.56    2007-01-31  \n",
       "4  1993-07-01  California       10180.56    2007-01-31  "
      ]
     },
     "metadata": {},
     "output_type": "display_data"
    }
   ],
   "source": [
    "display(merge_df.head())\n"
   ]
  },
  {
   "cell_type": "code",
   "execution_count": 186,
   "metadata": {},
   "outputs": [],
   "source": [
    "sum_df = merge_df[['amount', 'start_balance']].sum(axis=1)"
   ]
  },
  {
   "attachments": {},
   "cell_type": "markdown",
   "metadata": {},
   "source": [
    "#### Creating temp table that is grouped by month"
   ]
  },
  {
   "cell_type": "code",
   "execution_count": 187,
   "metadata": {},
   "outputs": [],
   "source": [
    "# temp_df = trans_df.groupby(['customer_id', 'account_id',\n",
    "#                            trans_df.transaction_date.dt.to_period(\"M\")], as_index = False).agg({'amount': sum, 'deposit': sum, 'withdrawal': sum})\n",
    "\n",
    "# Use temp table below\n",
    "temp_df = trans_df.groupby(['customer_id', 'account_id',\n",
    "                            pd.Grouper(key = 'transaction_date', freq = \"M\")], \n",
    "                            as_index= False).agg({'amount': sum, \n",
    "                                                  'deposit': sum, \n",
    "                                                  'withdrawal': sum})"
   ]
  },
  {
   "cell_type": "code",
   "execution_count": 188,
   "metadata": {},
   "outputs": [
    {
     "name": "stdout",
     "output_type": "stream",
     "text": [
      "         customer_id  account_id transaction_date   amount  deposit  \\\n",
      "0                 91    24137947       2007-01-31 -2260.92  3034.26   \n",
      "1                 91    24137947       2007-02-28     0.00     0.00   \n",
      "2                 91    24137947       2007-03-31     0.00     0.00   \n",
      "3                 92    24137948       2007-01-31     0.00     0.00   \n",
      "4                 92    24137948       2007-02-28  1164.90  1164.90   \n",
      "...              ...         ...              ...      ...      ...   \n",
      "2129116       116102    24253958       2020-05-31  -350.95   872.99   \n",
      "2129117       116103    24253959       2020-05-31 -1003.22  3354.40   \n",
      "2129118       116104    24253960       2020-05-31 -1102.10  2900.20   \n",
      "2129119       116105    24253961       2020-05-31  2246.93  2246.93   \n",
      "2129120       116106    24253962       2020-05-31    56.99    56.99   \n",
      "\n",
      "         withdrawal  \n",
      "0          -5295.18  \n",
      "1              0.00  \n",
      "2              0.00  \n",
      "3              0.00  \n",
      "4              0.00  \n",
      "...             ...  \n",
      "2129116    -1223.94  \n",
      "2129117    -4357.62  \n",
      "2129118    -4002.30  \n",
      "2129119        0.00  \n",
      "2129120        0.00  \n",
      "\n",
      "[2129121 rows x 6 columns]\n"
     ]
    }
   ],
   "source": [
    "print(temp_df)"
   ]
  },
  {
   "cell_type": "code",
   "execution_count": 189,
   "metadata": {},
   "outputs": [
    {
     "name": "stdout",
     "output_type": "stream",
     "text": [
      "<class 'pandas.core.frame.DataFrame'>\n",
      "RangeIndex: 2129121 entries, 0 to 2129120\n",
      "Data columns (total 6 columns):\n",
      " #   Column            Dtype         \n",
      "---  ------            -----         \n",
      " 0   customer_id       int64         \n",
      " 1   account_id        int64         \n",
      " 2   transaction_date  datetime64[ns]\n",
      " 3   amount            float64       \n",
      " 4   deposit           float64       \n",
      " 5   withdrawal        float64       \n",
      "dtypes: datetime64[ns](1), float64(3), int64(2)\n",
      "memory usage: 97.5 MB\n"
     ]
    }
   ],
   "source": [
    "temp_df.info()"
   ]
  },
  {
   "attachments": {},
   "cell_type": "markdown",
   "metadata": {},
   "source": [
    "#### Merging data to look at each customer by month"
   ]
  },
  {
   "cell_type": "code",
   "execution_count": 190,
   "metadata": {},
   "outputs": [],
   "source": [
    "tmer_df = pd.merge(cust_df, temp_df, on = 'customer_id', how = 'left')"
   ]
  },
  {
   "cell_type": "code",
   "execution_count": 191,
   "metadata": {},
   "outputs": [],
   "source": [
    "tmer_df['transaction_total'] = tmer_df.sort_values(['customer_id', 'transaction_date'], ascending=True).groupby(['customer_id', 'account_id'])['amount'].cumsum()"
   ]
  },
  {
   "cell_type": "code",
   "execution_count": 192,
   "metadata": {},
   "outputs": [],
   "source": [
    "tmer_df['account_total'] = tmer_df['transaction_total'] + tmer_df['start_balance']"
   ]
  },
  {
   "cell_type": "code",
   "execution_count": 193,
   "metadata": {},
   "outputs": [
    {
     "data": {
      "text/plain": [
       "0           7919.64\n",
       "1           7919.64\n",
       "2           7919.64\n",
       "3           4757.68\n",
       "4           5922.58\n",
       "             ...   \n",
       "2129116     2760.01\n",
       "2129117    11060.70\n",
       "2129118     9909.26\n",
       "2129119    11108.01\n",
       "2129120      258.31\n",
       "Name: account_total, Length: 2129121, dtype: float64"
      ]
     },
     "execution_count": 193,
     "metadata": {},
     "output_type": "execute_result"
    }
   ],
   "source": [
    "tmer_df['account_total']"
   ]
  },
  {
   "attachments": {},
   "cell_type": "markdown",
   "metadata": {},
   "source": [
    "##### Creating a copy of the temp merge df to clean up a bit"
   ]
  },
  {
   "cell_type": "code",
   "execution_count": 194,
   "metadata": {},
   "outputs": [],
   "source": [
    "monthly_look_df = tmer_df.copy()"
   ]
  },
  {
   "cell_type": "code",
   "execution_count": 195,
   "metadata": {},
   "outputs": [
    {
     "name": "stdout",
     "output_type": "stream",
     "text": [
      "<class 'pandas.core.frame.DataFrame'>\n",
      "RangeIndex: 2129121 entries, 0 to 2129120\n",
      "Data columns (total 12 columns):\n",
      " #   Column             Dtype         \n",
      "---  ------             -----         \n",
      " 0   customer_id        int64         \n",
      " 1   dob                object        \n",
      " 2   state              object        \n",
      " 3   start_balance      float64       \n",
      " 4   creation_date      object        \n",
      " 5   account_id         int64         \n",
      " 6   transaction_date   datetime64[ns]\n",
      " 7   amount             float64       \n",
      " 8   deposit            float64       \n",
      " 9   withdrawal         float64       \n",
      " 10  transaction_total  float64       \n",
      " 11  account_total      float64       \n",
      "dtypes: datetime64[ns](1), float64(6), int64(2), object(3)\n",
      "memory usage: 194.9+ MB\n"
     ]
    }
   ],
   "source": [
    "monthly_look_df.info()"
   ]
  },
  {
   "attachments": {},
   "cell_type": "markdown",
   "metadata": {},
   "source": [
    "##### Cleaning up this temp table \n",
    "\n",
    "so it just tells us about the account balance and transactions"
   ]
  },
  {
   "cell_type": "code",
   "execution_count": 196,
   "metadata": {},
   "outputs": [],
   "source": [
    "monthly_look_df.drop(columns= ['dob', 'state', 'withdrawal', 'deposit'], inplace= True)\n",
    "monthly_look_df[\"transaction_date\"] = monthly_look_df.transaction_date.dt.to_period(\"M\")\n",
    "monthly_look_df = monthly_look_df.rename(columns={'transaction_date': \"transaction_month\", \"amount\": \"transaction_amount\"})"
   ]
  },
  {
   "cell_type": "code",
   "execution_count": 197,
   "metadata": {},
   "outputs": [
    {
     "data": {
      "text/html": [
       "<div>\n",
       "<style scoped>\n",
       "    .dataframe tbody tr th:only-of-type {\n",
       "        vertical-align: middle;\n",
       "    }\n",
       "\n",
       "    .dataframe tbody tr th {\n",
       "        vertical-align: top;\n",
       "    }\n",
       "\n",
       "    .dataframe thead th {\n",
       "        text-align: right;\n",
       "    }\n",
       "</style>\n",
       "<table border=\"1\" class=\"dataframe\">\n",
       "  <thead>\n",
       "    <tr style=\"text-align: right;\">\n",
       "      <th></th>\n",
       "      <th>customer_id</th>\n",
       "      <th>start_balance</th>\n",
       "      <th>creation_date</th>\n",
       "      <th>account_id</th>\n",
       "      <th>transaction_month</th>\n",
       "      <th>transaction_amount</th>\n",
       "      <th>transaction_total</th>\n",
       "      <th>account_total</th>\n",
       "    </tr>\n",
       "  </thead>\n",
       "  <tbody>\n",
       "    <tr>\n",
       "      <th>0</th>\n",
       "      <td>91</td>\n",
       "      <td>10180.56</td>\n",
       "      <td>2007-01-31</td>\n",
       "      <td>24137947</td>\n",
       "      <td>2007-01</td>\n",
       "      <td>-2260.92</td>\n",
       "      <td>-2260.92</td>\n",
       "      <td>7919.64</td>\n",
       "    </tr>\n",
       "    <tr>\n",
       "      <th>1</th>\n",
       "      <td>91</td>\n",
       "      <td>10180.56</td>\n",
       "      <td>2007-01-31</td>\n",
       "      <td>24137947</td>\n",
       "      <td>2007-02</td>\n",
       "      <td>0.00</td>\n",
       "      <td>-2260.92</td>\n",
       "      <td>7919.64</td>\n",
       "    </tr>\n",
       "    <tr>\n",
       "      <th>2</th>\n",
       "      <td>91</td>\n",
       "      <td>10180.56</td>\n",
       "      <td>2007-01-31</td>\n",
       "      <td>24137947</td>\n",
       "      <td>2007-03</td>\n",
       "      <td>0.00</td>\n",
       "      <td>-2260.92</td>\n",
       "      <td>7919.64</td>\n",
       "    </tr>\n",
       "    <tr>\n",
       "      <th>3</th>\n",
       "      <td>92</td>\n",
       "      <td>4757.68</td>\n",
       "      <td>2007-01-31</td>\n",
       "      <td>24137948</td>\n",
       "      <td>2007-01</td>\n",
       "      <td>0.00</td>\n",
       "      <td>0.00</td>\n",
       "      <td>4757.68</td>\n",
       "    </tr>\n",
       "    <tr>\n",
       "      <th>4</th>\n",
       "      <td>92</td>\n",
       "      <td>4757.68</td>\n",
       "      <td>2007-01-31</td>\n",
       "      <td>24137948</td>\n",
       "      <td>2007-02</td>\n",
       "      <td>1164.90</td>\n",
       "      <td>1164.90</td>\n",
       "      <td>5922.58</td>\n",
       "    </tr>\n",
       "  </tbody>\n",
       "</table>\n",
       "</div>"
      ],
      "text/plain": [
       "   customer_id  start_balance creation_date  account_id transaction_month  \\\n",
       "0           91       10180.56    2007-01-31    24137947           2007-01   \n",
       "1           91       10180.56    2007-01-31    24137947           2007-02   \n",
       "2           91       10180.56    2007-01-31    24137947           2007-03   \n",
       "3           92        4757.68    2007-01-31    24137948           2007-01   \n",
       "4           92        4757.68    2007-01-31    24137948           2007-02   \n",
       "\n",
       "   transaction_amount  transaction_total  account_total  \n",
       "0            -2260.92           -2260.92        7919.64  \n",
       "1                0.00           -2260.92        7919.64  \n",
       "2                0.00           -2260.92        7919.64  \n",
       "3                0.00               0.00        4757.68  \n",
       "4             1164.90            1164.90        5922.58  "
      ]
     },
     "execution_count": 197,
     "metadata": {},
     "output_type": "execute_result"
    }
   ],
   "source": [
    "monthly_look_df.head()"
   ]
  }
 ],
 "metadata": {
  "kernelspec": {
   "display_name": "ml_project",
   "language": "python",
   "name": "python3"
  },
  "language_info": {
   "codemirror_mode": {
    "name": "ipython",
    "version": 3
   },
   "file_extension": ".py",
   "mimetype": "text/x-python",
   "name": "python",
   "nbconvert_exporter": "python",
   "pygments_lexer": "ipython3",
   "version": "3.10.8"
  },
  "orig_nbformat": 4
 },
 "nbformat": 4,
 "nbformat_minor": 2
}
