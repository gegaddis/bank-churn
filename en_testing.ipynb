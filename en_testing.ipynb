{
 "cells": [
  {
   "cell_type": "code",
   "execution_count": 143,
   "metadata": {},
   "outputs": [],
   "source": [
    "import numpy as np\n",
    "import pandas as pd\n",
    "import matplotlib.pyplot as plt"
   ]
  },
  {
   "cell_type": "code",
   "execution_count": 144,
   "metadata": {},
   "outputs": [],
   "source": [
    "# import dataset and load in a dataframe\n",
    "customer_file = r'..\\data\\customers_tm1_e.csv'\n",
    "transaction_file = r'..\\data\\transactions_tm1_e.csv'\n",
    "cust_df = pd.read_csv(customer_file)\n",
    "trans_df = pd.read_csv(transaction_file)"
   ]
  },
  {
   "cell_type": "code",
   "execution_count": 145,
   "metadata": {},
   "outputs": [
    {
     "data": {
      "text/html": [
       "<div>\n",
       "<style scoped>\n",
       "    .dataframe tbody tr th:only-of-type {\n",
       "        vertical-align: middle;\n",
       "    }\n",
       "\n",
       "    .dataframe tbody tr th {\n",
       "        vertical-align: top;\n",
       "    }\n",
       "\n",
       "    .dataframe thead th {\n",
       "        text-align: right;\n",
       "    }\n",
       "</style>\n",
       "<table border=\"1\" class=\"dataframe\">\n",
       "  <thead>\n",
       "    <tr style=\"text-align: right;\">\n",
       "      <th></th>\n",
       "      <th>customer_id</th>\n",
       "      <th>dob</th>\n",
       "      <th>state</th>\n",
       "      <th>start_balance</th>\n",
       "      <th>creation_date</th>\n",
       "    </tr>\n",
       "  </thead>\n",
       "  <tbody>\n",
       "    <tr>\n",
       "      <th>0</th>\n",
       "      <td>91</td>\n",
       "      <td>1993-07-01</td>\n",
       "      <td>California</td>\n",
       "      <td>10180.56</td>\n",
       "      <td>2007-01-31</td>\n",
       "    </tr>\n",
       "    <tr>\n",
       "      <th>1</th>\n",
       "      <td>92</td>\n",
       "      <td>1985-12-05</td>\n",
       "      <td>New York</td>\n",
       "      <td>4757.68</td>\n",
       "      <td>2007-01-31</td>\n",
       "    </tr>\n",
       "    <tr>\n",
       "      <th>2</th>\n",
       "      <td>93</td>\n",
       "      <td>1987-11-19</td>\n",
       "      <td>Minnesota</td>\n",
       "      <td>6796.72</td>\n",
       "      <td>2007-01-31</td>\n",
       "    </tr>\n",
       "    <tr>\n",
       "      <th>3</th>\n",
       "      <td>94</td>\n",
       "      <td>1981-03-23</td>\n",
       "      <td>Minnesota</td>\n",
       "      <td>9870.48</td>\n",
       "      <td>2007-01-31</td>\n",
       "    </tr>\n",
       "    <tr>\n",
       "      <th>4</th>\n",
       "      <td>95</td>\n",
       "      <td>1970-04-06</td>\n",
       "      <td>California</td>\n",
       "      <td>12500.72</td>\n",
       "      <td>2007-01-31</td>\n",
       "    </tr>\n",
       "  </tbody>\n",
       "</table>\n",
       "</div>"
      ],
      "text/plain": [
       "   customer_id         dob       state  start_balance creation_date\n",
       "0           91  1993-07-01  California       10180.56    2007-01-31\n",
       "1           92  1985-12-05    New York        4757.68    2007-01-31\n",
       "2           93  1987-11-19   Minnesota        6796.72    2007-01-31\n",
       "3           94  1981-03-23   Minnesota        9870.48    2007-01-31\n",
       "4           95  1970-04-06  California       12500.72    2007-01-31"
      ]
     },
     "execution_count": 145,
     "metadata": {},
     "output_type": "execute_result"
    }
   ],
   "source": [
    "cust_df.head()"
   ]
  },
  {
   "cell_type": "code",
   "execution_count": 146,
   "metadata": {},
   "outputs": [
    {
     "data": {
      "text/html": [
       "<div>\n",
       "<style scoped>\n",
       "    .dataframe tbody tr th:only-of-type {\n",
       "        vertical-align: middle;\n",
       "    }\n",
       "\n",
       "    .dataframe tbody tr th {\n",
       "        vertical-align: top;\n",
       "    }\n",
       "\n",
       "    .dataframe thead th {\n",
       "        text-align: right;\n",
       "    }\n",
       "</style>\n",
       "<table border=\"1\" class=\"dataframe\">\n",
       "  <thead>\n",
       "    <tr style=\"text-align: right;\">\n",
       "      <th></th>\n",
       "      <th>date</th>\n",
       "      <th>account_id</th>\n",
       "      <th>customer_id</th>\n",
       "      <th>amount</th>\n",
       "      <th>transaction_date</th>\n",
       "      <th>deposit</th>\n",
       "      <th>withdrawal</th>\n",
       "    </tr>\n",
       "  </thead>\n",
       "  <tbody>\n",
       "    <tr>\n",
       "      <th>0</th>\n",
       "      <td>2007-01-31</td>\n",
       "      <td>24137947</td>\n",
       "      <td>91</td>\n",
       "      <td>3034.26</td>\n",
       "      <td>2007-01-31</td>\n",
       "      <td>3034.26</td>\n",
       "      <td>0.00</td>\n",
       "    </tr>\n",
       "    <tr>\n",
       "      <th>1</th>\n",
       "      <td>2007-01-31</td>\n",
       "      <td>24137947</td>\n",
       "      <td>91</td>\n",
       "      <td>-5295.18</td>\n",
       "      <td>2007-01-16</td>\n",
       "      <td>0.00</td>\n",
       "      <td>-5295.18</td>\n",
       "    </tr>\n",
       "    <tr>\n",
       "      <th>2</th>\n",
       "      <td>2007-02-28</td>\n",
       "      <td>24137947</td>\n",
       "      <td>91</td>\n",
       "      <td>0.00</td>\n",
       "      <td>2007-02-28</td>\n",
       "      <td>0.00</td>\n",
       "      <td>0.00</td>\n",
       "    </tr>\n",
       "    <tr>\n",
       "      <th>3</th>\n",
       "      <td>2007-03-31</td>\n",
       "      <td>24137947</td>\n",
       "      <td>91</td>\n",
       "      <td>-0.00</td>\n",
       "      <td>2007-03-30</td>\n",
       "      <td>0.00</td>\n",
       "      <td>-0.00</td>\n",
       "    </tr>\n",
       "    <tr>\n",
       "      <th>4</th>\n",
       "      <td>2007-03-31</td>\n",
       "      <td>24137947</td>\n",
       "      <td>91</td>\n",
       "      <td>-0.00</td>\n",
       "      <td>2007-03-11</td>\n",
       "      <td>0.00</td>\n",
       "      <td>-0.00</td>\n",
       "    </tr>\n",
       "  </tbody>\n",
       "</table>\n",
       "</div>"
      ],
      "text/plain": [
       "         date  account_id  customer_id   amount transaction_date  deposit  \\\n",
       "0  2007-01-31    24137947           91  3034.26       2007-01-31  3034.26   \n",
       "1  2007-01-31    24137947           91 -5295.18       2007-01-16     0.00   \n",
       "2  2007-02-28    24137947           91     0.00       2007-02-28     0.00   \n",
       "3  2007-03-31    24137947           91    -0.00       2007-03-30     0.00   \n",
       "4  2007-03-31    24137947           91    -0.00       2007-03-11     0.00   \n",
       "\n",
       "   withdrawal  \n",
       "0        0.00  \n",
       "1    -5295.18  \n",
       "2        0.00  \n",
       "3       -0.00  \n",
       "4       -0.00  "
      ]
     },
     "execution_count": 146,
     "metadata": {},
     "output_type": "execute_result"
    }
   ],
   "source": [
    "trans_df.head()"
   ]
  },
  {
   "cell_type": "code",
   "execution_count": 147,
   "metadata": {},
   "outputs": [
    {
     "name": "stdout",
     "output_type": "stream",
     "text": [
      "<class 'pandas.core.frame.DataFrame'>\n",
      "RangeIndex: 116016 entries, 0 to 116015\n",
      "Data columns (total 5 columns):\n",
      " #   Column         Non-Null Count   Dtype  \n",
      "---  ------         --------------   -----  \n",
      " 0   customer_id    116016 non-null  int64  \n",
      " 1   dob            116016 non-null  object \n",
      " 2   state          116016 non-null  object \n",
      " 3   start_balance  116013 non-null  float64\n",
      " 4   creation_date  116016 non-null  object \n",
      "dtypes: float64(1), int64(1), object(3)\n",
      "memory usage: 4.4+ MB\n"
     ]
    }
   ],
   "source": [
    "cust_df.info()"
   ]
  },
  {
   "cell_type": "code",
   "execution_count": 148,
   "metadata": {},
   "outputs": [
    {
     "name": "stdout",
     "output_type": "stream",
     "text": [
      "<class 'pandas.core.frame.DataFrame'>\n",
      "RangeIndex: 4977972 entries, 0 to 4977971\n",
      "Data columns (total 7 columns):\n",
      " #   Column            Dtype  \n",
      "---  ------            -----  \n",
      " 0   date              object \n",
      " 1   account_id        int64  \n",
      " 2   customer_id       int64  \n",
      " 3   amount            float64\n",
      " 4   transaction_date  object \n",
      " 5   deposit           float64\n",
      " 6   withdrawal        float64\n",
      "dtypes: float64(3), int64(2), object(2)\n",
      "memory usage: 265.9+ MB\n"
     ]
    }
   ],
   "source": [
    "trans_df.info()"
   ]
  },
  {
   "cell_type": "code",
   "execution_count": 149,
   "metadata": {},
   "outputs": [
    {
     "name": "stdout",
     "output_type": "stream",
     "text": [
      "date                0\n",
      "account_id          0\n",
      "customer_id         0\n",
      "amount              0\n",
      "transaction_date    0\n",
      "deposit             0\n",
      "withdrawal          0\n",
      "dtype: int64\n"
     ]
    }
   ],
   "source": [
    "is_missing = trans_df.isna()\n",
    "\n",
    "missing_per_column = is_missing.sum(axis = 0) \n",
    "print(missing_per_column)              "
   ]
  },
  {
   "attachments": {},
   "cell_type": "markdown",
   "metadata": {},
   "source": [
    "##### Replacing the Na in starting balance with 0"
   ]
  },
  {
   "cell_type": "code",
   "execution_count": 150,
   "metadata": {},
   "outputs": [],
   "source": [
    "# replacing empty start balances with 0, but this should be edited with transaction data if the information is there.\n",
    "cust_df['start_balance'].fillna(0, inplace=True)"
   ]
  },
  {
   "cell_type": "code",
   "execution_count": 151,
   "metadata": {},
   "outputs": [
    {
     "name": "stdout",
     "output_type": "stream",
     "text": [
      "Customer columns:\n",
      "['customer_id', 'dob', 'state', 'start_balance', 'creation_date']\n",
      "\n",
      "Transactions columns:\n",
      "['date', 'account_id', 'customer_id', 'amount', 'transaction_date', 'deposit', 'withdrawal']\n"
     ]
    }
   ],
   "source": [
    "print(f\"Customer columns:\\n{list(cust_df.columns)}\\n\")\n",
    "print(f\"Transactions columns:\\n{list(trans_df.columns)}\")"
   ]
  },
  {
   "cell_type": "markdown",
   "metadata": {},
   "source": [
    "#### Casting to date type"
   ]
  },
  {
   "cell_type": "code",
   "execution_count": 152,
   "metadata": {},
   "outputs": [],
   "source": [
    "trans_df['date'] = pd.to_datetime(trans_df['date'])\n",
    "trans_df['transaction_date'] = pd.to_datetime(trans_df['transaction_date'])\n",
    "cust_df['creation_date'] = pd.to_datetime(cust_df['creation_date'])"
   ]
  },
  {
   "attachments": {},
   "cell_type": "markdown",
   "metadata": {},
   "source": [
    "##### Checking if amount is equal to the sum of deposit and withdrawal"
   ]
  },
  {
   "cell_type": "code",
   "execution_count": 153,
   "metadata": {},
   "outputs": [
    {
     "data": {
      "text/plain": [
       "False"
      ]
     },
     "execution_count": 153,
     "metadata": {},
     "output_type": "execute_result"
    }
   ],
   "source": [
    "trans_df['amount'].equals(trans_df[\"deposit\"] + trans_df[\"withdrawal\"])"
   ]
  },
  {
   "cell_type": "code",
   "execution_count": 154,
   "metadata": {},
   "outputs": [],
   "source": [
    "#Since it doesn't match, I am going to copy the table and see if I can find anything interesting about it\n",
    "ttemp_df = trans_df.copy()"
   ]
  },
  {
   "cell_type": "code",
   "execution_count": 155,
   "metadata": {},
   "outputs": [],
   "source": [
    "ttemp_df[\"transaction_sum\"] = ttemp_df[\"withdrawal\"] + ttemp_df[\"deposit\"]\n",
    "ttemp_df[\"transaction_diff\"] = ttemp_df[\"amount\"] - ttemp_df[\"transaction_sum\"]\n",
    "filter1 = ttemp_df[ttemp_df[\"transaction_diff\"] != 0]"
   ]
  },
  {
   "cell_type": "code",
   "execution_count": 156,
   "metadata": {},
   "outputs": [
    {
     "data": {
      "text/plain": [
       "date                18\n",
       "account_id          18\n",
       "customer_id         18\n",
       "amount              18\n",
       "transaction_date    18\n",
       "deposit             18\n",
       "withdrawal          18\n",
       "transaction_sum     18\n",
       "transaction_diff    18\n",
       "dtype: int64"
      ]
     },
     "execution_count": 156,
     "metadata": {},
     "output_type": "execute_result"
    }
   ],
   "source": [
    "# 18 rows have aounts that don't equal the sum of the withdrawal and deposit\n",
    "filter1.count()"
   ]
  },
  {
   "cell_type": "code",
   "execution_count": 157,
   "metadata": {},
   "outputs": [
    {
     "data": {
      "text/html": [
       "<div>\n",
       "<style scoped>\n",
       "    .dataframe tbody tr th:only-of-type {\n",
       "        vertical-align: middle;\n",
       "    }\n",
       "\n",
       "    .dataframe tbody tr th {\n",
       "        vertical-align: top;\n",
       "    }\n",
       "\n",
       "    .dataframe thead th {\n",
       "        text-align: right;\n",
       "    }\n",
       "</style>\n",
       "<table border=\"1\" class=\"dataframe\">\n",
       "  <thead>\n",
       "    <tr style=\"text-align: right;\">\n",
       "      <th></th>\n",
       "      <th>customer_id</th>\n",
       "      <th>transaction_date</th>\n",
       "      <th>amount</th>\n",
       "      <th>transaction_sum</th>\n",
       "      <th>transaction_diff</th>\n",
       "    </tr>\n",
       "  </thead>\n",
       "  <tbody>\n",
       "    <tr>\n",
       "      <th>556196</th>\n",
       "      <td>9822</td>\n",
       "      <td>2007-08-31</td>\n",
       "      <td>-1.000000e+10</td>\n",
       "      <td>1703.45</td>\n",
       "      <td>-1.000000e+10</td>\n",
       "    </tr>\n",
       "    <tr>\n",
       "      <th>556197</th>\n",
       "      <td>9822</td>\n",
       "      <td>2007-08-12</td>\n",
       "      <td>-1.000000e+10</td>\n",
       "      <td>-73.91</td>\n",
       "      <td>-1.000000e+10</td>\n",
       "    </tr>\n",
       "    <tr>\n",
       "      <th>556198</th>\n",
       "      <td>9822</td>\n",
       "      <td>2007-08-27</td>\n",
       "      <td>-1.000000e+10</td>\n",
       "      <td>-898.84</td>\n",
       "      <td>-9.999999e+09</td>\n",
       "    </tr>\n",
       "    <tr>\n",
       "      <th>556199</th>\n",
       "      <td>9822</td>\n",
       "      <td>2007-08-29</td>\n",
       "      <td>-1.000000e+10</td>\n",
       "      <td>-102.68</td>\n",
       "      <td>-1.000000e+10</td>\n",
       "    </tr>\n",
       "    <tr>\n",
       "      <th>556200</th>\n",
       "      <td>9822</td>\n",
       "      <td>2007-08-10</td>\n",
       "      <td>-1.000000e+10</td>\n",
       "      <td>-291.17</td>\n",
       "      <td>-1.000000e+10</td>\n",
       "    </tr>\n",
       "    <tr>\n",
       "      <th>556201</th>\n",
       "      <td>9822</td>\n",
       "      <td>2007-08-17</td>\n",
       "      <td>-1.000000e+10</td>\n",
       "      <td>-463.53</td>\n",
       "      <td>-1.000000e+10</td>\n",
       "    </tr>\n",
       "    <tr>\n",
       "      <th>556202</th>\n",
       "      <td>9822</td>\n",
       "      <td>2007-08-12</td>\n",
       "      <td>-1.000000e+10</td>\n",
       "      <td>-749.91</td>\n",
       "      <td>-9.999999e+09</td>\n",
       "    </tr>\n",
       "    <tr>\n",
       "      <th>1419211</th>\n",
       "      <td>30441</td>\n",
       "      <td>2011-10-31</td>\n",
       "      <td>-1.000000e+10</td>\n",
       "      <td>1577.41</td>\n",
       "      <td>-1.000000e+10</td>\n",
       "    </tr>\n",
       "    <tr>\n",
       "      <th>1419212</th>\n",
       "      <td>30441</td>\n",
       "      <td>2011-10-24</td>\n",
       "      <td>-1.000000e+10</td>\n",
       "      <td>-1005.71</td>\n",
       "      <td>-9.999999e+09</td>\n",
       "    </tr>\n",
       "    <tr>\n",
       "      <th>1419213</th>\n",
       "      <td>30441</td>\n",
       "      <td>2011-10-04</td>\n",
       "      <td>-1.000000e+10</td>\n",
       "      <td>-685.87</td>\n",
       "      <td>-9.999999e+09</td>\n",
       "    </tr>\n",
       "    <tr>\n",
       "      <th>1419214</th>\n",
       "      <td>30441</td>\n",
       "      <td>2011-10-20</td>\n",
       "      <td>-1.000000e+10</td>\n",
       "      <td>-250.35</td>\n",
       "      <td>-1.000000e+10</td>\n",
       "    </tr>\n",
       "    <tr>\n",
       "      <th>3491873</th>\n",
       "      <td>77685</td>\n",
       "      <td>2018-07-31</td>\n",
       "      <td>2.934292e+09</td>\n",
       "      <td>214.95</td>\n",
       "      <td>2.934292e+09</td>\n",
       "    </tr>\n",
       "    <tr>\n",
       "      <th>3491874</th>\n",
       "      <td>77685</td>\n",
       "      <td>2018-07-15</td>\n",
       "      <td>2.934292e+09</td>\n",
       "      <td>-13.76</td>\n",
       "      <td>2.934292e+09</td>\n",
       "    </tr>\n",
       "    <tr>\n",
       "      <th>3491875</th>\n",
       "      <td>77685</td>\n",
       "      <td>2018-07-28</td>\n",
       "      <td>2.934292e+09</td>\n",
       "      <td>-145.06</td>\n",
       "      <td>2.934292e+09</td>\n",
       "    </tr>\n",
       "    <tr>\n",
       "      <th>3491876</th>\n",
       "      <td>77685</td>\n",
       "      <td>2018-07-31</td>\n",
       "      <td>2.934292e+09</td>\n",
       "      <td>-185.35</td>\n",
       "      <td>2.934292e+09</td>\n",
       "    </tr>\n",
       "    <tr>\n",
       "      <th>3491877</th>\n",
       "      <td>77685</td>\n",
       "      <td>2018-07-31</td>\n",
       "      <td>2.934292e+09</td>\n",
       "      <td>-111.30</td>\n",
       "      <td>2.934292e+09</td>\n",
       "    </tr>\n",
       "    <tr>\n",
       "      <th>3491878</th>\n",
       "      <td>77685</td>\n",
       "      <td>2018-07-02</td>\n",
       "      <td>2.934292e+09</td>\n",
       "      <td>-10.92</td>\n",
       "      <td>2.934292e+09</td>\n",
       "    </tr>\n",
       "    <tr>\n",
       "      <th>3743186</th>\n",
       "      <td>82271</td>\n",
       "      <td>2019-05-31</td>\n",
       "      <td>2.934292e+09</td>\n",
       "      <td>2579.60</td>\n",
       "      <td>2.934290e+09</td>\n",
       "    </tr>\n",
       "  </tbody>\n",
       "</table>\n",
       "</div>"
      ],
      "text/plain": [
       "         customer_id transaction_date        amount  transaction_sum  \\\n",
       "556196          9822       2007-08-31 -1.000000e+10          1703.45   \n",
       "556197          9822       2007-08-12 -1.000000e+10           -73.91   \n",
       "556198          9822       2007-08-27 -1.000000e+10          -898.84   \n",
       "556199          9822       2007-08-29 -1.000000e+10          -102.68   \n",
       "556200          9822       2007-08-10 -1.000000e+10          -291.17   \n",
       "556201          9822       2007-08-17 -1.000000e+10          -463.53   \n",
       "556202          9822       2007-08-12 -1.000000e+10          -749.91   \n",
       "1419211        30441       2011-10-31 -1.000000e+10          1577.41   \n",
       "1419212        30441       2011-10-24 -1.000000e+10         -1005.71   \n",
       "1419213        30441       2011-10-04 -1.000000e+10          -685.87   \n",
       "1419214        30441       2011-10-20 -1.000000e+10          -250.35   \n",
       "3491873        77685       2018-07-31  2.934292e+09           214.95   \n",
       "3491874        77685       2018-07-15  2.934292e+09           -13.76   \n",
       "3491875        77685       2018-07-28  2.934292e+09          -145.06   \n",
       "3491876        77685       2018-07-31  2.934292e+09          -185.35   \n",
       "3491877        77685       2018-07-31  2.934292e+09          -111.30   \n",
       "3491878        77685       2018-07-02  2.934292e+09           -10.92   \n",
       "3743186        82271       2019-05-31  2.934292e+09          2579.60   \n",
       "\n",
       "         transaction_diff  \n",
       "556196      -1.000000e+10  \n",
       "556197      -1.000000e+10  \n",
       "556198      -9.999999e+09  \n",
       "556199      -1.000000e+10  \n",
       "556200      -1.000000e+10  \n",
       "556201      -1.000000e+10  \n",
       "556202      -9.999999e+09  \n",
       "1419211     -1.000000e+10  \n",
       "1419212     -9.999999e+09  \n",
       "1419213     -9.999999e+09  \n",
       "1419214     -1.000000e+10  \n",
       "3491873      2.934292e+09  \n",
       "3491874      2.934292e+09  \n",
       "3491875      2.934292e+09  \n",
       "3491876      2.934292e+09  \n",
       "3491877      2.934292e+09  \n",
       "3491878      2.934292e+09  \n",
       "3743186      2.934290e+09  "
      ]
     },
     "metadata": {},
     "output_type": "display_data"
    }
   ],
   "source": [
    "# The rows with a difference between the amount and transaction sum, \n",
    "# Have amounts that are significantly different from the transaction sum\n",
    "display(filter1[['customer_id', 'transaction_date', 'amount', 'transaction_sum', 'transaction_diff']])"
   ]
  },
  {
   "cell_type": "code",
   "execution_count": 158,
   "metadata": {},
   "outputs": [],
   "source": [
    "# Option 1 is to adjust amount so that it matches the transaction sum\n",
    "ttemp_df[\"amount\"] = np.where(ttemp_df[\"transaction_diff\"] != 0, ttemp_df[\"transaction_sum\"], ttemp_df[\"amount\"])"
   ]
  },
  {
   "cell_type": "code",
   "execution_count": 159,
   "metadata": {},
   "outputs": [
    {
     "data": {
      "text/plain": [
       "date                0\n",
       "account_id          0\n",
       "customer_id         0\n",
       "amount              0\n",
       "transaction_date    0\n",
       "deposit             0\n",
       "withdrawal          0\n",
       "transaction_sum     0\n",
       "transaction_diff    0\n",
       "dtype: int64"
      ]
     },
     "execution_count": 159,
     "metadata": {},
     "output_type": "execute_result"
    }
   ],
   "source": [
    "ttemp_df[\"transaction_diff\"] = ttemp_df[\"amount\"] - ttemp_df[\"transaction_sum\"]\n",
    "filter1 = ttemp_df[ttemp_df[\"transaction_diff\"] != 0]\n",
    "filter1.count()"
   ]
  },
  {
   "cell_type": "code",
   "execution_count": 160,
   "metadata": {},
   "outputs": [],
   "source": [
    "# The other option would be be to change the withdrawal and deposits to match amount"
   ]
  },
  {
   "attachments": {},
   "cell_type": "markdown",
   "metadata": {},
   "source": [
    "Fixing the amount\n",
    "\n",
    "making it equal the sum of withdrawal and deposit"
   ]
  },
  {
   "cell_type": "code",
   "execution_count": 161,
   "metadata": {},
   "outputs": [],
   "source": [
    "trans_df[\"amount\"] = np.where(trans_df[\"amount\"] != trans_df[\"withdrawal\"] + trans_df[\"deposit\"], trans_df[\"withdrawal\"] + trans_df[\"deposit\"], trans_df[\"amount\"])"
   ]
  },
  {
   "cell_type": "code",
   "execution_count": 162,
   "metadata": {},
   "outputs": [
    {
     "data": {
      "text/plain": [
       "True"
      ]
     },
     "execution_count": 162,
     "metadata": {},
     "output_type": "execute_result"
    }
   ],
   "source": [
    "trans_df['amount'].equals(trans_df[\"deposit\"] + trans_df[\"withdrawal\"])\n"
   ]
  },
  {
   "attachments": {},
   "cell_type": "markdown",
   "metadata": {},
   "source": [
    "#### Adding a rolling count of transactions for each customer"
   ]
  },
  {
   "cell_type": "code",
   "execution_count": 163,
   "metadata": {},
   "outputs": [],
   "source": [
    "trans_df['transaction_number'] = trans_df.sort_values(['customer_id', 'transaction_date'], ascending=True).groupby(['customer_id', 'account_id']).cumcount()+1\n"
   ]
  },
  {
   "attachments": {},
   "cell_type": "markdown",
   "metadata": {},
   "source": [
    "## Looking at cust_df\n",
    "\n",
    "#### Checking start_balance"
   ]
  },
  {
   "cell_type": "code",
   "execution_count": 164,
   "metadata": {},
   "outputs": [
    {
     "data": {
      "text/plain": [
       "customer_id      5\n",
       "dob              5\n",
       "state            5\n",
       "start_balance    5\n",
       "creation_date    5\n",
       "dtype: int64"
      ]
     },
     "execution_count": 164,
     "metadata": {},
     "output_type": "execute_result"
    }
   ],
   "source": [
    "filter2 = cust_df[cust_df[\"start_balance\"] <= 0]\n",
    "filter2.count()"
   ]
  },
  {
   "cell_type": "code",
   "execution_count": 165,
   "metadata": {},
   "outputs": [
    {
     "data": {
      "text/html": [
       "<div>\n",
       "<style scoped>\n",
       "    .dataframe tbody tr th:only-of-type {\n",
       "        vertical-align: middle;\n",
       "    }\n",
       "\n",
       "    .dataframe tbody tr th {\n",
       "        vertical-align: top;\n",
       "    }\n",
       "\n",
       "    .dataframe thead th {\n",
       "        text-align: right;\n",
       "    }\n",
       "</style>\n",
       "<table border=\"1\" class=\"dataframe\">\n",
       "  <thead>\n",
       "    <tr style=\"text-align: right;\">\n",
       "      <th></th>\n",
       "      <th>customer_id</th>\n",
       "      <th>start_balance</th>\n",
       "      <th>creation_date</th>\n",
       "    </tr>\n",
       "  </thead>\n",
       "  <tbody>\n",
       "    <tr>\n",
       "      <th>21243</th>\n",
       "      <td>21334</td>\n",
       "      <td>0.000000e+00</td>\n",
       "      <td>2010-01-31</td>\n",
       "    </tr>\n",
       "    <tr>\n",
       "      <th>37823</th>\n",
       "      <td>37914</td>\n",
       "      <td>0.000000e+00</td>\n",
       "      <td>2011-10-31</td>\n",
       "    </tr>\n",
       "    <tr>\n",
       "      <th>42613</th>\n",
       "      <td>42704</td>\n",
       "      <td>-1.000000e+10</td>\n",
       "      <td>2012-04-30</td>\n",
       "    </tr>\n",
       "    <tr>\n",
       "      <th>45891</th>\n",
       "      <td>45982</td>\n",
       "      <td>0.000000e+00</td>\n",
       "      <td>2012-08-31</td>\n",
       "    </tr>\n",
       "    <tr>\n",
       "      <th>95939</th>\n",
       "      <td>96030</td>\n",
       "      <td>0.000000e+00</td>\n",
       "      <td>2017-10-31</td>\n",
       "    </tr>\n",
       "  </tbody>\n",
       "</table>\n",
       "</div>"
      ],
      "text/plain": [
       "       customer_id  start_balance creation_date\n",
       "21243        21334   0.000000e+00    2010-01-31\n",
       "37823        37914   0.000000e+00    2011-10-31\n",
       "42613        42704  -1.000000e+10    2012-04-30\n",
       "45891        45982   0.000000e+00    2012-08-31\n",
       "95939        96030   0.000000e+00    2017-10-31"
      ]
     },
     "metadata": {},
     "output_type": "display_data"
    }
   ],
   "source": [
    "display(filter2[[\"customer_id\", \"start_balance\", \"creation_date\"]])"
   ]
  },
  {
   "cell_type": "code",
   "execution_count": 166,
   "metadata": {},
   "outputs": [],
   "source": [
    "state_dict = {'Alabama': 'AL', 'Alaska': 'AK', 'Arizona': 'AZ', 'Arkansas': 'AR', \n",
    "              'California': 'CA', 'Colorado': 'CO', 'Connecticut': 'CT', 'Delaware': 'DE', \n",
    "              'District Of Columbia': 'DC', 'Florida': 'FL', 'Georgia': 'GA', 'Hawaii': 'HI', \n",
    "              'Idaho': 'ID', 'Illinois': 'IL', 'Indiana': 'IN', 'Iowa': 'IA', 'Kansas': 'KS', \n",
    "              'Kentucky': 'KY', 'Louisiana': 'LA', 'Maine': 'ME', 'Maryland': 'MD', \n",
    "              'Massachusetts': 'MA', 'Michigan': 'MI', 'Minnesota': 'MN', 'Mississippi': 'MS', \n",
    "              'Missouri': 'MO', 'Montana': 'MT', 'Nebraska': 'NE', 'Nevada': 'NV', \n",
    "              'New Hampshire': 'NH', 'New Jersey': 'NJ', 'New Mexico': 'NM', 'New York': 'NY', \n",
    "              'North Carolina': 'NC', 'North Dakota': 'ND', 'Ohio': 'OH', 'Oklahoma': 'OK', \n",
    "              'Oregon': 'OR', 'Pennsylvania': 'PA', 'Rhode Island': 'RI', 'South Carolina': 'SC', \n",
    "              'South Dakota': 'SD', 'Tennessee': 'TN', 'Texas': 'TX', 'Utah': 'UT', 'Vermont': 'VT', \n",
    "              'Virginia': 'VA', 'Washington': 'WA', 'West Virginia': 'WV', 'Wisconsin': 'WI', \n",
    "              'Wyoming':'WY'}\n",
    "\n",
    "for key, value in state_dict.items():\n",
    "    cust_df[\"state\"].replace(value, key, inplace= True)"
   ]
  },
  {
   "cell_type": "code",
   "execution_count": 167,
   "metadata": {},
   "outputs": [
    {
     "data": {
      "text/plain": [
       "state\n",
       "-999                        3\n",
       "Alabama                  1765\n",
       "Alaska                    242\n",
       "Arizona                  2576\n",
       "Arkansas                 1005\n",
       "Australia                   3\n",
       "CALIFORNIA                  3\n",
       "California              14289\n",
       "Colorado                 2093\n",
       "Connecticut              1284\n",
       "Delaware                  369\n",
       "District of Columbia      241\n",
       "Florida                  7592\n",
       "Georgia                  3808\n",
       "Hawaii                    534\n",
       "Idaho                     658\n",
       "Illinois                 4630\n",
       "Indiana                  2292\n",
       "Iowa                     1097\n",
       "Kansas                   1094\n",
       "Kentucky                 1591\n",
       "Louisiana                1660\n",
       "MASS                        3\n",
       "Maine                     501\n",
       "Maryland                 2157\n",
       "Massachusetts            2451\n",
       "Michigan                 3555\n",
       "Minnesota                2017\n",
       "Missouri                 2226\n",
       "Montana                   398\n",
       "Nebraska                  695\n",
       "Nevada                   1037\n",
       "New Hampshire             473\n",
       "New Jersey               3101\n",
       "New Mexico                698\n",
       "New York                 6949\n",
       "North Carolina           3836\n",
       "North Dakota              248\n",
       "Ohio                     4090\n",
       "Oklahoma                 1394\n",
       "Oregon                   1461\n",
       "Pennsylvania             4575\n",
       "Rhode Island              393\n",
       "South Carolina           1801\n",
       "South Dakota              303\n",
       "Tennessee                2414\n",
       "Texas                   10229\n",
       "UNK                         3\n",
       "Utah                     1211\n",
       "Vermont                   215\n",
       "Virginia                 3183\n",
       "Washington               2645\n",
       "West Virginia             629\n",
       "Wisconsin                2103\n",
       "Wyoming                   193\n",
       "Name: customer_id, dtype: int64"
      ]
     },
     "execution_count": 167,
     "metadata": {},
     "output_type": "execute_result"
    }
   ],
   "source": [
    "cust_df.groupby([\"state\"])[\"customer_id\"].count()"
   ]
  },
  {
   "cell_type": "code",
   "execution_count": 168,
   "metadata": {},
   "outputs": [],
   "source": [
    "cust_df[\"state\"] = cust_df[\"state\"].str.title()\n",
    "cust_df[\"state\"].replace('Mass', 'Massachusetts', inplace= True)"
   ]
  },
  {
   "cell_type": "code",
   "execution_count": 169,
   "metadata": {},
   "outputs": [
    {
     "name": "stdout",
     "output_type": "stream",
     "text": [
      "        customer_id         dob      state  start_balance creation_date\n",
      "6921           7012  1992-02-17       -999       13340.92    2007-01-31\n",
      "7877           7968  1997-05-04  Australia        9079.12    2007-01-31\n",
      "37619         37710  1980-11-07  Australia        6341.96    2011-10-31\n",
      "38804         38895  1969-03-25       -999        6235.20    2011-12-31\n",
      "67699         67790  1998-06-12       -999        4862.36    2014-06-30\n",
      "70608         70699  1987-04-07  Australia        4843.12    2014-10-31\n",
      "82457         82548  1973-12-17        Unk       11648.96    2015-11-30\n",
      "93005         93096  1975-04-30        Unk        6375.24    2017-05-31\n",
      "104520       104611  1980-11-26        Unk        7073.92    2018-12-31\n",
      "\n",
      "\t Number of customers not in USA: 9\n"
     ]
    }
   ],
   "source": [
    "filter3 = cust_df[~cust_df[\"state\"].isin(state_dict)]\n",
    "print(filter3)\n",
    "print(f'\\n\\t Number of customers not in USA: {len(filter3)}')"
   ]
  },
  {
   "cell_type": "code",
   "execution_count": 170,
   "metadata": {},
   "outputs": [],
   "source": [
    "l1 = list(filter3[\"state\"])\n",
    "for item in l1:\n",
    "    cust_df[\"state\"].replace(item, np.nan, inplace= True)"
   ]
  },
  {
   "attachments": {},
   "cell_type": "markdown",
   "metadata": {},
   "source": [
    "#### Checking dob"
   ]
  },
  {
   "cell_type": "code",
   "execution_count": 171,
   "metadata": {},
   "outputs": [
    {
     "data": {
      "text/plain": [
       "customer_id      0\n",
       "dob              0\n",
       "state            0\n",
       "start_balance    0\n",
       "creation_date    0\n",
       "dtype: int64"
      ]
     },
     "execution_count": 171,
     "metadata": {},
     "output_type": "execute_result"
    }
   ],
   "source": [
    "filter4 = cust_df[cust_df[\"dob\"] <= '1940-01-01']\n",
    "filter4.count()"
   ]
  },
  {
   "attachments": {},
   "cell_type": "markdown",
   "metadata": {},
   "source": [
    "### looking at adding start balance to trans_df"
   ]
  },
  {
   "cell_type": "code",
   "execution_count": 172,
   "metadata": {},
   "outputs": [],
   "source": [
    "in_dict = dict(zip(trans_df.customer_id, trans_df.account_id))"
   ]
  },
  {
   "cell_type": "code",
   "execution_count": 173,
   "metadata": {},
   "outputs": [],
   "source": [
    "tempcust_df = cust_df.copy()"
   ]
  },
  {
   "cell_type": "code",
   "execution_count": 174,
   "metadata": {},
   "outputs": [],
   "source": [
    "tempcust_df['account_id'] = tempcust_df['customer_id']\n",
    "for key, value in in_dict.items():\n",
    "    tempcust_df[\"account_id\"].replace(key, value, inplace= True)"
   ]
  },
  {
   "cell_type": "code",
   "execution_count": 175,
   "metadata": {},
   "outputs": [
    {
     "data": {
      "text/html": [
       "<div>\n",
       "<style scoped>\n",
       "    .dataframe tbody tr th:only-of-type {\n",
       "        vertical-align: middle;\n",
       "    }\n",
       "\n",
       "    .dataframe tbody tr th {\n",
       "        vertical-align: top;\n",
       "    }\n",
       "\n",
       "    .dataframe thead th {\n",
       "        text-align: right;\n",
       "    }\n",
       "</style>\n",
       "<table border=\"1\" class=\"dataframe\">\n",
       "  <thead>\n",
       "    <tr style=\"text-align: right;\">\n",
       "      <th></th>\n",
       "      <th>customer_id</th>\n",
       "      <th>dob</th>\n",
       "      <th>state</th>\n",
       "      <th>start_balance</th>\n",
       "      <th>creation_date</th>\n",
       "      <th>account_id</th>\n",
       "    </tr>\n",
       "  </thead>\n",
       "  <tbody>\n",
       "    <tr>\n",
       "      <th>0</th>\n",
       "      <td>91</td>\n",
       "      <td>1993-07-01</td>\n",
       "      <td>California</td>\n",
       "      <td>10180.56</td>\n",
       "      <td>2007-01-31</td>\n",
       "      <td>24137947</td>\n",
       "    </tr>\n",
       "    <tr>\n",
       "      <th>1</th>\n",
       "      <td>92</td>\n",
       "      <td>1985-12-05</td>\n",
       "      <td>New York</td>\n",
       "      <td>4757.68</td>\n",
       "      <td>2007-01-31</td>\n",
       "      <td>24137948</td>\n",
       "    </tr>\n",
       "    <tr>\n",
       "      <th>2</th>\n",
       "      <td>93</td>\n",
       "      <td>1987-11-19</td>\n",
       "      <td>Minnesota</td>\n",
       "      <td>6796.72</td>\n",
       "      <td>2007-01-31</td>\n",
       "      <td>24137949</td>\n",
       "    </tr>\n",
       "    <tr>\n",
       "      <th>3</th>\n",
       "      <td>94</td>\n",
       "      <td>1981-03-23</td>\n",
       "      <td>Minnesota</td>\n",
       "      <td>9870.48</td>\n",
       "      <td>2007-01-31</td>\n",
       "      <td>24137950</td>\n",
       "    </tr>\n",
       "    <tr>\n",
       "      <th>4</th>\n",
       "      <td>95</td>\n",
       "      <td>1970-04-06</td>\n",
       "      <td>California</td>\n",
       "      <td>12500.72</td>\n",
       "      <td>2007-01-31</td>\n",
       "      <td>24137951</td>\n",
       "    </tr>\n",
       "  </tbody>\n",
       "</table>\n",
       "</div>"
      ],
      "text/plain": [
       "   customer_id         dob       state  start_balance creation_date  \\\n",
       "0           91  1993-07-01  California       10180.56    2007-01-31   \n",
       "1           92  1985-12-05    New York        4757.68    2007-01-31   \n",
       "2           93  1987-11-19   Minnesota        6796.72    2007-01-31   \n",
       "3           94  1981-03-23   Minnesota        9870.48    2007-01-31   \n",
       "4           95  1970-04-06  California       12500.72    2007-01-31   \n",
       "\n",
       "   account_id  \n",
       "0    24137947  \n",
       "1    24137948  \n",
       "2    24137949  \n",
       "3    24137950  \n",
       "4    24137951  "
      ]
     },
     "execution_count": 175,
     "metadata": {},
     "output_type": "execute_result"
    }
   ],
   "source": [
    "tempcust_df.head()"
   ]
  },
  {
   "cell_type": "code",
   "execution_count": 176,
   "metadata": {},
   "outputs": [],
   "source": [
    "#Transactions columns:\n",
    "#['date', 'account_id', 'customer_id', 'amount', 'transaction_date', 'deposit', 'withdrawal', 'account_total', 'transaction_number']\n",
    "tempcust_df[\"date\"] = pd.to_datetime(tempcust_df[\"creation_date\"])\n",
    "tempcust_df[\"deposit\"] = 0\n",
    "tempcust_df[\"withdrawal\"] = 0\n",
    "tempcust_df[\"transaction_number\"] = 0\n",
    "\n",
    "tempcust_df.rename(columns= {'start_balance': 'amount', 'creation_date': 'transaction_date'}, inplace=True)\n",
    "tempcust_df = tempcust_df.drop(['dob', 'state'], axis=1)\n"
   ]
  },
  {
   "cell_type": "code",
   "execution_count": 177,
   "metadata": {},
   "outputs": [],
   "source": [
    "df3 = pd.concat([trans_df, tempcust_df], ignore_index= True)"
   ]
  },
  {
   "cell_type": "code",
   "execution_count": 178,
   "metadata": {},
   "outputs": [],
   "source": [
    "trans_df = df3.sort_values(by=['customer_id', 'transaction_number'], ascending=True).reset_index(drop=True)"
   ]
  },
  {
   "cell_type": "markdown",
   "metadata": {},
   "source": [
    "#### Adding an account_total column: \n",
    "\n",
    "By grouping by customer_id and sorting by transaction_number"
   ]
  },
  {
   "cell_type": "code",
   "execution_count": 179,
   "metadata": {},
   "outputs": [],
   "source": [
    "trans_df['account_total'] = trans_df.sort_values(['customer_id', 'transaction_number'], ascending=True).groupby(['customer_id', 'account_id'])['amount'].cumsum()"
   ]
  },
  {
   "cell_type": "code",
   "execution_count": 197,
   "metadata": {},
   "outputs": [
    {
     "data": {
      "text/html": [
       "<div>\n",
       "<style scoped>\n",
       "    .dataframe tbody tr th:only-of-type {\n",
       "        vertical-align: middle;\n",
       "    }\n",
       "\n",
       "    .dataframe tbody tr th {\n",
       "        vertical-align: top;\n",
       "    }\n",
       "\n",
       "    .dataframe thead th {\n",
       "        text-align: right;\n",
       "    }\n",
       "</style>\n",
       "<table border=\"1\" class=\"dataframe\">\n",
       "  <thead>\n",
       "    <tr style=\"text-align: right;\">\n",
       "      <th></th>\n",
       "      <th>date</th>\n",
       "      <th>account_id</th>\n",
       "      <th>customer_id</th>\n",
       "      <th>amount</th>\n",
       "      <th>transaction_date</th>\n",
       "      <th>deposit</th>\n",
       "      <th>withdrawal</th>\n",
       "      <th>transaction_number</th>\n",
       "      <th>account_total</th>\n",
       "    </tr>\n",
       "  </thead>\n",
       "  <tbody>\n",
       "    <tr>\n",
       "      <th>0</th>\n",
       "      <td>2007-01-31</td>\n",
       "      <td>24137947</td>\n",
       "      <td>91</td>\n",
       "      <td>10180.56</td>\n",
       "      <td>2007-01-31</td>\n",
       "      <td>0.00</td>\n",
       "      <td>0.00</td>\n",
       "      <td>0</td>\n",
       "      <td>10180.56</td>\n",
       "    </tr>\n",
       "    <tr>\n",
       "      <th>1</th>\n",
       "      <td>2007-01-31</td>\n",
       "      <td>24137947</td>\n",
       "      <td>91</td>\n",
       "      <td>-5295.18</td>\n",
       "      <td>2007-01-16</td>\n",
       "      <td>0.00</td>\n",
       "      <td>-5295.18</td>\n",
       "      <td>1</td>\n",
       "      <td>4885.38</td>\n",
       "    </tr>\n",
       "    <tr>\n",
       "      <th>2</th>\n",
       "      <td>2007-01-31</td>\n",
       "      <td>24137947</td>\n",
       "      <td>91</td>\n",
       "      <td>3034.26</td>\n",
       "      <td>2007-01-31</td>\n",
       "      <td>3034.26</td>\n",
       "      <td>0.00</td>\n",
       "      <td>2</td>\n",
       "      <td>7919.64</td>\n",
       "    </tr>\n",
       "    <tr>\n",
       "      <th>3</th>\n",
       "      <td>2007-02-28</td>\n",
       "      <td>24137947</td>\n",
       "      <td>91</td>\n",
       "      <td>0.00</td>\n",
       "      <td>2007-02-28</td>\n",
       "      <td>0.00</td>\n",
       "      <td>0.00</td>\n",
       "      <td>3</td>\n",
       "      <td>7919.64</td>\n",
       "    </tr>\n",
       "    <tr>\n",
       "      <th>4</th>\n",
       "      <td>2007-03-31</td>\n",
       "      <td>24137947</td>\n",
       "      <td>91</td>\n",
       "      <td>-0.00</td>\n",
       "      <td>2007-03-11</td>\n",
       "      <td>0.00</td>\n",
       "      <td>-0.00</td>\n",
       "      <td>4</td>\n",
       "      <td>7919.64</td>\n",
       "    </tr>\n",
       "    <tr>\n",
       "      <th>...</th>\n",
       "      <td>...</td>\n",
       "      <td>...</td>\n",
       "      <td>...</td>\n",
       "      <td>...</td>\n",
       "      <td>...</td>\n",
       "      <td>...</td>\n",
       "      <td>...</td>\n",
       "      <td>...</td>\n",
       "      <td>...</td>\n",
       "    </tr>\n",
       "    <tr>\n",
       "      <th>5093983</th>\n",
       "      <td>2020-05-31</td>\n",
       "      <td>24253960</td>\n",
       "      <td>116104</td>\n",
       "      <td>2900.20</td>\n",
       "      <td>2020-05-31</td>\n",
       "      <td>2900.20</td>\n",
       "      <td>0.00</td>\n",
       "      <td>2</td>\n",
       "      <td>9909.26</td>\n",
       "    </tr>\n",
       "    <tr>\n",
       "      <th>5093984</th>\n",
       "      <td>2020-05-31</td>\n",
       "      <td>24253961</td>\n",
       "      <td>116105</td>\n",
       "      <td>8861.08</td>\n",
       "      <td>2020-05-31</td>\n",
       "      <td>0.00</td>\n",
       "      <td>0.00</td>\n",
       "      <td>0</td>\n",
       "      <td>8861.08</td>\n",
       "    </tr>\n",
       "    <tr>\n",
       "      <th>5093985</th>\n",
       "      <td>2020-05-31</td>\n",
       "      <td>24253961</td>\n",
       "      <td>116105</td>\n",
       "      <td>2246.93</td>\n",
       "      <td>2020-05-31</td>\n",
       "      <td>2246.93</td>\n",
       "      <td>0.00</td>\n",
       "      <td>1</td>\n",
       "      <td>11108.01</td>\n",
       "    </tr>\n",
       "    <tr>\n",
       "      <th>5093986</th>\n",
       "      <td>2020-05-31</td>\n",
       "      <td>24253962</td>\n",
       "      <td>116106</td>\n",
       "      <td>201.32</td>\n",
       "      <td>2020-05-31</td>\n",
       "      <td>0.00</td>\n",
       "      <td>0.00</td>\n",
       "      <td>0</td>\n",
       "      <td>201.32</td>\n",
       "    </tr>\n",
       "    <tr>\n",
       "      <th>5093987</th>\n",
       "      <td>2020-05-31</td>\n",
       "      <td>24253962</td>\n",
       "      <td>116106</td>\n",
       "      <td>56.99</td>\n",
       "      <td>2020-05-31</td>\n",
       "      <td>56.99</td>\n",
       "      <td>0.00</td>\n",
       "      <td>1</td>\n",
       "      <td>258.31</td>\n",
       "    </tr>\n",
       "  </tbody>\n",
       "</table>\n",
       "<p>5093988 rows × 9 columns</p>\n",
       "</div>"
      ],
      "text/plain": [
       "              date  account_id  customer_id    amount transaction_date  \\\n",
       "0       2007-01-31    24137947           91  10180.56       2007-01-31   \n",
       "1       2007-01-31    24137947           91  -5295.18       2007-01-16   \n",
       "2       2007-01-31    24137947           91   3034.26       2007-01-31   \n",
       "3       2007-02-28    24137947           91      0.00       2007-02-28   \n",
       "4       2007-03-31    24137947           91     -0.00       2007-03-11   \n",
       "...            ...         ...          ...       ...              ...   \n",
       "5093983 2020-05-31    24253960       116104   2900.20       2020-05-31   \n",
       "5093984 2020-05-31    24253961       116105   8861.08       2020-05-31   \n",
       "5093985 2020-05-31    24253961       116105   2246.93       2020-05-31   \n",
       "5093986 2020-05-31    24253962       116106    201.32       2020-05-31   \n",
       "5093987 2020-05-31    24253962       116106     56.99       2020-05-31   \n",
       "\n",
       "         deposit  withdrawal  transaction_number  account_total  \n",
       "0           0.00        0.00                   0       10180.56  \n",
       "1           0.00    -5295.18                   1        4885.38  \n",
       "2        3034.26        0.00                   2        7919.64  \n",
       "3           0.00        0.00                   3        7919.64  \n",
       "4           0.00       -0.00                   4        7919.64  \n",
       "...          ...         ...                 ...            ...  \n",
       "5093983  2900.20        0.00                   2        9909.26  \n",
       "5093984     0.00        0.00                   0        8861.08  \n",
       "5093985  2246.93        0.00                   1       11108.01  \n",
       "5093986     0.00        0.00                   0         201.32  \n",
       "5093987    56.99        0.00                   1         258.31  \n",
       "\n",
       "[5093988 rows x 9 columns]"
      ]
     },
     "metadata": {},
     "output_type": "display_data"
    }
   ],
   "source": [
    "display(trans_df)"
   ]
  },
  {
   "attachments": {},
   "cell_type": "markdown",
   "metadata": {},
   "source": [
    "## Testing Merge options"
   ]
  },
  {
   "cell_type": "code",
   "execution_count": 180,
   "metadata": {},
   "outputs": [],
   "source": [
    "month_trans = trans_df.groupby(['customer_id', trans_df.date.dt.to_period(\"m\")])[\"amount\"].sum()"
   ]
  },
  {
   "cell_type": "code",
   "execution_count": 181,
   "metadata": {},
   "outputs": [],
   "source": [
    "merge_df = pd.merge(trans_df[['account_id', 'customer_id', 'date', 'amount', 'account_total']], cust_df, on = 'customer_id', how = 'left')"
   ]
  },
  {
   "cell_type": "code",
   "execution_count": 182,
   "metadata": {},
   "outputs": [
    {
     "data": {
      "text/html": [
       "<div>\n",
       "<style scoped>\n",
       "    .dataframe tbody tr th:only-of-type {\n",
       "        vertical-align: middle;\n",
       "    }\n",
       "\n",
       "    .dataframe tbody tr th {\n",
       "        vertical-align: top;\n",
       "    }\n",
       "\n",
       "    .dataframe thead th {\n",
       "        text-align: right;\n",
       "    }\n",
       "</style>\n",
       "<table border=\"1\" class=\"dataframe\">\n",
       "  <thead>\n",
       "    <tr style=\"text-align: right;\">\n",
       "      <th></th>\n",
       "      <th>account_id</th>\n",
       "      <th>customer_id</th>\n",
       "      <th>date</th>\n",
       "      <th>amount</th>\n",
       "      <th>account_total</th>\n",
       "      <th>dob</th>\n",
       "      <th>state</th>\n",
       "      <th>start_balance</th>\n",
       "      <th>creation_date</th>\n",
       "    </tr>\n",
       "  </thead>\n",
       "  <tbody>\n",
       "    <tr>\n",
       "      <th>0</th>\n",
       "      <td>24137947</td>\n",
       "      <td>91</td>\n",
       "      <td>2007-01-31</td>\n",
       "      <td>10180.56</td>\n",
       "      <td>10180.56</td>\n",
       "      <td>1993-07-01</td>\n",
       "      <td>California</td>\n",
       "      <td>10180.56</td>\n",
       "      <td>2007-01-31</td>\n",
       "    </tr>\n",
       "    <tr>\n",
       "      <th>1</th>\n",
       "      <td>24137947</td>\n",
       "      <td>91</td>\n",
       "      <td>2007-01-31</td>\n",
       "      <td>-5295.18</td>\n",
       "      <td>4885.38</td>\n",
       "      <td>1993-07-01</td>\n",
       "      <td>California</td>\n",
       "      <td>10180.56</td>\n",
       "      <td>2007-01-31</td>\n",
       "    </tr>\n",
       "    <tr>\n",
       "      <th>2</th>\n",
       "      <td>24137947</td>\n",
       "      <td>91</td>\n",
       "      <td>2007-01-31</td>\n",
       "      <td>3034.26</td>\n",
       "      <td>7919.64</td>\n",
       "      <td>1993-07-01</td>\n",
       "      <td>California</td>\n",
       "      <td>10180.56</td>\n",
       "      <td>2007-01-31</td>\n",
       "    </tr>\n",
       "    <tr>\n",
       "      <th>3</th>\n",
       "      <td>24137947</td>\n",
       "      <td>91</td>\n",
       "      <td>2007-02-28</td>\n",
       "      <td>0.00</td>\n",
       "      <td>7919.64</td>\n",
       "      <td>1993-07-01</td>\n",
       "      <td>California</td>\n",
       "      <td>10180.56</td>\n",
       "      <td>2007-01-31</td>\n",
       "    </tr>\n",
       "    <tr>\n",
       "      <th>4</th>\n",
       "      <td>24137947</td>\n",
       "      <td>91</td>\n",
       "      <td>2007-03-31</td>\n",
       "      <td>-0.00</td>\n",
       "      <td>7919.64</td>\n",
       "      <td>1993-07-01</td>\n",
       "      <td>California</td>\n",
       "      <td>10180.56</td>\n",
       "      <td>2007-01-31</td>\n",
       "    </tr>\n",
       "  </tbody>\n",
       "</table>\n",
       "</div>"
      ],
      "text/plain": [
       "   account_id  customer_id       date    amount  account_total         dob  \\\n",
       "0    24137947           91 2007-01-31  10180.56       10180.56  1993-07-01   \n",
       "1    24137947           91 2007-01-31  -5295.18        4885.38  1993-07-01   \n",
       "2    24137947           91 2007-01-31   3034.26        7919.64  1993-07-01   \n",
       "3    24137947           91 2007-02-28      0.00        7919.64  1993-07-01   \n",
       "4    24137947           91 2007-03-31     -0.00        7919.64  1993-07-01   \n",
       "\n",
       "        state  start_balance creation_date  \n",
       "0  California       10180.56    2007-01-31  \n",
       "1  California       10180.56    2007-01-31  \n",
       "2  California       10180.56    2007-01-31  \n",
       "3  California       10180.56    2007-01-31  \n",
       "4  California       10180.56    2007-01-31  "
      ]
     },
     "metadata": {},
     "output_type": "display_data"
    }
   ],
   "source": [
    "display(merge_df.head())\n"
   ]
  },
  {
   "cell_type": "code",
   "execution_count": 183,
   "metadata": {},
   "outputs": [],
   "source": [
    "sum_df = merge_df[['amount', 'start_balance']].sum(axis=1)"
   ]
  },
  {
   "attachments": {},
   "cell_type": "markdown",
   "metadata": {},
   "source": [
    "#### Creating temp table that is grouped by month"
   ]
  },
  {
   "cell_type": "code",
   "execution_count": 184,
   "metadata": {},
   "outputs": [],
   "source": [
    "# temp_df = trans_df.groupby(['customer_id', 'account_id',\n",
    "#                            trans_df.transaction_date.dt.to_period(\"M\")], as_index = False).agg({'amount': sum, 'deposit': sum, 'withdrawal': sum})\n",
    "\n",
    "# Use temp table below\n",
    "temp_df = trans_df.groupby(['customer_id', 'account_id',\n",
    "                            pd.Grouper(key = 'transaction_date', freq = \"M\")], \n",
    "                            as_index= False).agg({'amount': sum, \n",
    "                                                  'deposit': sum, \n",
    "                                                  'withdrawal': sum})"
   ]
  },
  {
   "cell_type": "code",
   "execution_count": 185,
   "metadata": {},
   "outputs": [
    {
     "name": "stdout",
     "output_type": "stream",
     "text": [
      "         customer_id  account_id transaction_date    amount  deposit  \\\n",
      "0                 91    24137947       2007-01-31   7919.64  3034.26   \n",
      "1                 91    24137947       2007-02-28      0.00     0.00   \n",
      "2                 91    24137947       2007-03-31      0.00     0.00   \n",
      "3                 92    24137948       2007-01-31   4757.68     0.00   \n",
      "4                 92    24137948       2007-02-28   1164.90  1164.90   \n",
      "...              ...         ...              ...       ...      ...   \n",
      "2129116       116102    24253958       2020-05-31   2760.01   872.99   \n",
      "2129117       116103    24253959       2020-05-31  11060.70  3354.40   \n",
      "2129118       116104    24253960       2020-05-31   9909.26  2900.20   \n",
      "2129119       116105    24253961       2020-05-31  11108.01  2246.93   \n",
      "2129120       116106    24253962       2020-05-31    258.31    56.99   \n",
      "\n",
      "         withdrawal  \n",
      "0          -5295.18  \n",
      "1              0.00  \n",
      "2              0.00  \n",
      "3              0.00  \n",
      "4              0.00  \n",
      "...             ...  \n",
      "2129116    -1223.94  \n",
      "2129117    -4357.62  \n",
      "2129118    -4002.30  \n",
      "2129119        0.00  \n",
      "2129120        0.00  \n",
      "\n",
      "[2129121 rows x 6 columns]\n"
     ]
    }
   ],
   "source": [
    "print(temp_df)"
   ]
  },
  {
   "cell_type": "code",
   "execution_count": 186,
   "metadata": {},
   "outputs": [
    {
     "name": "stdout",
     "output_type": "stream",
     "text": [
      "<class 'pandas.core.frame.DataFrame'>\n",
      "RangeIndex: 2129121 entries, 0 to 2129120\n",
      "Data columns (total 6 columns):\n",
      " #   Column            Dtype         \n",
      "---  ------            -----         \n",
      " 0   customer_id       int64         \n",
      " 1   account_id        int64         \n",
      " 2   transaction_date  datetime64[ns]\n",
      " 3   amount            float64       \n",
      " 4   deposit           float64       \n",
      " 5   withdrawal        float64       \n",
      "dtypes: datetime64[ns](1), float64(3), int64(2)\n",
      "memory usage: 97.5 MB\n"
     ]
    }
   ],
   "source": [
    "temp_df.info()"
   ]
  },
  {
   "attachments": {},
   "cell_type": "markdown",
   "metadata": {},
   "source": [
    "#### Merging data to look at each customer by month"
   ]
  },
  {
   "cell_type": "code",
   "execution_count": 187,
   "metadata": {},
   "outputs": [],
   "source": [
    "tmer_df = pd.merge(cust_df, temp_df, on = 'customer_id', how = 'left')"
   ]
  },
  {
   "cell_type": "code",
   "execution_count": 188,
   "metadata": {},
   "outputs": [],
   "source": [
    "tmer_df['transaction_total'] = tmer_df.sort_values(['customer_id', 'transaction_date'], ascending=True).groupby(['customer_id', 'account_id'])['amount'].cumsum()"
   ]
  },
  {
   "cell_type": "code",
   "execution_count": 189,
   "metadata": {},
   "outputs": [],
   "source": [
    "tmer_df['account_total'] = tmer_df['transaction_total'] + tmer_df['start_balance']"
   ]
  },
  {
   "cell_type": "code",
   "execution_count": 190,
   "metadata": {},
   "outputs": [
    {
     "data": {
      "text/plain": [
       "0          18100.20\n",
       "1          18100.20\n",
       "2          18100.20\n",
       "3           9515.36\n",
       "4          10680.26\n",
       "             ...   \n",
       "2129116     5870.97\n",
       "2129117    23124.62\n",
       "2129118    20920.62\n",
       "2129119    19969.09\n",
       "2129120      459.63\n",
       "Name: account_total, Length: 2129121, dtype: float64"
      ]
     },
     "execution_count": 190,
     "metadata": {},
     "output_type": "execute_result"
    }
   ],
   "source": [
    "tmer_df['account_total']"
   ]
  },
  {
   "attachments": {},
   "cell_type": "markdown",
   "metadata": {},
   "source": [
    "##### Creating a copy of the temp merge df to clean up a bit"
   ]
  },
  {
   "cell_type": "code",
   "execution_count": 191,
   "metadata": {},
   "outputs": [],
   "source": [
    "monthly_look_df = tmer_df.copy()"
   ]
  },
  {
   "cell_type": "code",
   "execution_count": 192,
   "metadata": {},
   "outputs": [
    {
     "name": "stdout",
     "output_type": "stream",
     "text": [
      "<class 'pandas.core.frame.DataFrame'>\n",
      "RangeIndex: 2129121 entries, 0 to 2129120\n",
      "Data columns (total 12 columns):\n",
      " #   Column             Dtype         \n",
      "---  ------             -----         \n",
      " 0   customer_id        int64         \n",
      " 1   dob                object        \n",
      " 2   state              object        \n",
      " 3   start_balance      float64       \n",
      " 4   creation_date      datetime64[ns]\n",
      " 5   account_id         int64         \n",
      " 6   transaction_date   datetime64[ns]\n",
      " 7   amount             float64       \n",
      " 8   deposit            float64       \n",
      " 9   withdrawal         float64       \n",
      " 10  transaction_total  float64       \n",
      " 11  account_total      float64       \n",
      "dtypes: datetime64[ns](2), float64(6), int64(2), object(2)\n",
      "memory usage: 194.9+ MB\n"
     ]
    }
   ],
   "source": [
    "monthly_look_df.info()"
   ]
  },
  {
   "attachments": {},
   "cell_type": "markdown",
   "metadata": {},
   "source": [
    "##### Cleaning up this temp table \n",
    "\n",
    "so it just tells us about the account balance and transactions"
   ]
  },
  {
   "cell_type": "code",
   "execution_count": 193,
   "metadata": {},
   "outputs": [],
   "source": [
    "monthly_look_df.drop(columns= ['dob', 'state', 'withdrawal', 'deposit'], inplace= True)\n",
    "monthly_look_df[\"transaction_date\"] = monthly_look_df.transaction_date.dt.to_period(\"M\")\n",
    "monthly_look_df = monthly_look_df.rename(columns={'transaction_date': \"transaction_month\", \"amount\": \"transaction_amount\"})"
   ]
  },
  {
   "cell_type": "code",
   "execution_count": 194,
   "metadata": {},
   "outputs": [
    {
     "data": {
      "text/html": [
       "<div>\n",
       "<style scoped>\n",
       "    .dataframe tbody tr th:only-of-type {\n",
       "        vertical-align: middle;\n",
       "    }\n",
       "\n",
       "    .dataframe tbody tr th {\n",
       "        vertical-align: top;\n",
       "    }\n",
       "\n",
       "    .dataframe thead th {\n",
       "        text-align: right;\n",
       "    }\n",
       "</style>\n",
       "<table border=\"1\" class=\"dataframe\">\n",
       "  <thead>\n",
       "    <tr style=\"text-align: right;\">\n",
       "      <th></th>\n",
       "      <th>customer_id</th>\n",
       "      <th>start_balance</th>\n",
       "      <th>creation_date</th>\n",
       "      <th>account_id</th>\n",
       "      <th>transaction_month</th>\n",
       "      <th>transaction_amount</th>\n",
       "      <th>transaction_total</th>\n",
       "      <th>account_total</th>\n",
       "    </tr>\n",
       "  </thead>\n",
       "  <tbody>\n",
       "    <tr>\n",
       "      <th>0</th>\n",
       "      <td>91</td>\n",
       "      <td>10180.56</td>\n",
       "      <td>2007-01-31</td>\n",
       "      <td>24137947</td>\n",
       "      <td>2007-01</td>\n",
       "      <td>7919.64</td>\n",
       "      <td>7919.64</td>\n",
       "      <td>18100.20</td>\n",
       "    </tr>\n",
       "    <tr>\n",
       "      <th>1</th>\n",
       "      <td>91</td>\n",
       "      <td>10180.56</td>\n",
       "      <td>2007-01-31</td>\n",
       "      <td>24137947</td>\n",
       "      <td>2007-02</td>\n",
       "      <td>0.00</td>\n",
       "      <td>7919.64</td>\n",
       "      <td>18100.20</td>\n",
       "    </tr>\n",
       "    <tr>\n",
       "      <th>2</th>\n",
       "      <td>91</td>\n",
       "      <td>10180.56</td>\n",
       "      <td>2007-01-31</td>\n",
       "      <td>24137947</td>\n",
       "      <td>2007-03</td>\n",
       "      <td>0.00</td>\n",
       "      <td>7919.64</td>\n",
       "      <td>18100.20</td>\n",
       "    </tr>\n",
       "    <tr>\n",
       "      <th>3</th>\n",
       "      <td>92</td>\n",
       "      <td>4757.68</td>\n",
       "      <td>2007-01-31</td>\n",
       "      <td>24137948</td>\n",
       "      <td>2007-01</td>\n",
       "      <td>4757.68</td>\n",
       "      <td>4757.68</td>\n",
       "      <td>9515.36</td>\n",
       "    </tr>\n",
       "    <tr>\n",
       "      <th>4</th>\n",
       "      <td>92</td>\n",
       "      <td>4757.68</td>\n",
       "      <td>2007-01-31</td>\n",
       "      <td>24137948</td>\n",
       "      <td>2007-02</td>\n",
       "      <td>1164.90</td>\n",
       "      <td>5922.58</td>\n",
       "      <td>10680.26</td>\n",
       "    </tr>\n",
       "  </tbody>\n",
       "</table>\n",
       "</div>"
      ],
      "text/plain": [
       "   customer_id  start_balance creation_date  account_id transaction_month  \\\n",
       "0           91       10180.56    2007-01-31    24137947           2007-01   \n",
       "1           91       10180.56    2007-01-31    24137947           2007-02   \n",
       "2           91       10180.56    2007-01-31    24137947           2007-03   \n",
       "3           92        4757.68    2007-01-31    24137948           2007-01   \n",
       "4           92        4757.68    2007-01-31    24137948           2007-02   \n",
       "\n",
       "   transaction_amount  transaction_total  account_total  \n",
       "0             7919.64            7919.64       18100.20  \n",
       "1                0.00            7919.64       18100.20  \n",
       "2                0.00            7919.64       18100.20  \n",
       "3             4757.68            4757.68        9515.36  \n",
       "4             1164.90            5922.58       10680.26  "
      ]
     },
     "execution_count": 194,
     "metadata": {},
     "output_type": "execute_result"
    }
   ],
   "source": [
    "monthly_look_df.head()"
   ]
  }
 ],
 "metadata": {
  "kernelspec": {
   "display_name": "ml_project",
   "language": "python",
   "name": "python3"
  },
  "language_info": {
   "codemirror_mode": {
    "name": "ipython",
    "version": 3
   },
   "file_extension": ".py",
   "mimetype": "text/x-python",
   "name": "python",
   "nbconvert_exporter": "python",
   "pygments_lexer": "ipython3",
   "version": "3.10.8"
  },
  "orig_nbformat": 4
 },
 "nbformat": 4,
 "nbformat_minor": 2
}
