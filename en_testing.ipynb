{
 "cells": [
  {
   "cell_type": "code",
   "execution_count": 40,
   "metadata": {},
   "outputs": [],
   "source": [
    "import numpy as np\n",
    "import pandas as pd\n",
    "import matplotlib.pyplot as plt"
   ]
  },
  {
   "cell_type": "code",
   "execution_count": 54,
   "metadata": {},
   "outputs": [],
   "source": [
    "# import dataset and load in a dataframe\n",
    "customer_file = r'data\\customers_tm1_e.csv'\n",
    "transaction_file = r'data\\transactions_tm1_e.csv'\n",
    "cust_df = pd.read_csv(customer_file)\n",
    "trans_df = pd.read_csv(transaction_file)"
   ]
  },
  {
   "cell_type": "code",
   "execution_count": 42,
   "metadata": {},
   "outputs": [
    {
     "data": {
      "text/html": [
       "<div>\n",
       "<style scoped>\n",
       "    .dataframe tbody tr th:only-of-type {\n",
       "        vertical-align: middle;\n",
       "    }\n",
       "\n",
       "    .dataframe tbody tr th {\n",
       "        vertical-align: top;\n",
       "    }\n",
       "\n",
       "    .dataframe thead th {\n",
       "        text-align: right;\n",
       "    }\n",
       "</style>\n",
       "<table border=\"1\" class=\"dataframe\">\n",
       "  <thead>\n",
       "    <tr style=\"text-align: right;\">\n",
       "      <th></th>\n",
       "      <th>customer_id</th>\n",
       "      <th>dob</th>\n",
       "      <th>state</th>\n",
       "      <th>start_balance</th>\n",
       "      <th>creation_date</th>\n",
       "    </tr>\n",
       "  </thead>\n",
       "  <tbody>\n",
       "    <tr>\n",
       "      <th>0</th>\n",
       "      <td>91</td>\n",
       "      <td>1993-07-01</td>\n",
       "      <td>California</td>\n",
       "      <td>10180.56</td>\n",
       "      <td>2007-01-31</td>\n",
       "    </tr>\n",
       "    <tr>\n",
       "      <th>1</th>\n",
       "      <td>92</td>\n",
       "      <td>1985-12-05</td>\n",
       "      <td>New York</td>\n",
       "      <td>4757.68</td>\n",
       "      <td>2007-01-31</td>\n",
       "    </tr>\n",
       "    <tr>\n",
       "      <th>2</th>\n",
       "      <td>93</td>\n",
       "      <td>1987-11-19</td>\n",
       "      <td>Minnesota</td>\n",
       "      <td>6796.72</td>\n",
       "      <td>2007-01-31</td>\n",
       "    </tr>\n",
       "    <tr>\n",
       "      <th>3</th>\n",
       "      <td>94</td>\n",
       "      <td>1981-03-23</td>\n",
       "      <td>Minnesota</td>\n",
       "      <td>9870.48</td>\n",
       "      <td>2007-01-31</td>\n",
       "    </tr>\n",
       "    <tr>\n",
       "      <th>4</th>\n",
       "      <td>95</td>\n",
       "      <td>1970-04-06</td>\n",
       "      <td>California</td>\n",
       "      <td>12500.72</td>\n",
       "      <td>2007-01-31</td>\n",
       "    </tr>\n",
       "  </tbody>\n",
       "</table>\n",
       "</div>"
      ],
      "text/plain": [
       "   customer_id         dob       state  start_balance creation_date\n",
       "0           91  1993-07-01  California       10180.56    2007-01-31\n",
       "1           92  1985-12-05    New York        4757.68    2007-01-31\n",
       "2           93  1987-11-19   Minnesota        6796.72    2007-01-31\n",
       "3           94  1981-03-23   Minnesota        9870.48    2007-01-31\n",
       "4           95  1970-04-06  California       12500.72    2007-01-31"
      ]
     },
     "execution_count": 42,
     "metadata": {},
     "output_type": "execute_result"
    }
   ],
   "source": [
    "cust_df.head()"
   ]
  },
  {
   "cell_type": "code",
   "execution_count": 89,
   "metadata": {},
   "outputs": [
    {
     "data": {
      "text/html": [
       "<div>\n",
       "<style scoped>\n",
       "    .dataframe tbody tr th:only-of-type {\n",
       "        vertical-align: middle;\n",
       "    }\n",
       "\n",
       "    .dataframe tbody tr th {\n",
       "        vertical-align: top;\n",
       "    }\n",
       "\n",
       "    .dataframe thead th {\n",
       "        text-align: right;\n",
       "    }\n",
       "</style>\n",
       "<table border=\"1\" class=\"dataframe\">\n",
       "  <thead>\n",
       "    <tr style=\"text-align: right;\">\n",
       "      <th></th>\n",
       "      <th>date</th>\n",
       "      <th>account_id</th>\n",
       "      <th>customer_id</th>\n",
       "      <th>amount</th>\n",
       "      <th>transaction_date</th>\n",
       "      <th>deposit</th>\n",
       "      <th>withdrawal</th>\n",
       "      <th>account_total</th>\n",
       "    </tr>\n",
       "  </thead>\n",
       "  <tbody>\n",
       "    <tr>\n",
       "      <th>0</th>\n",
       "      <td>2007-01-31</td>\n",
       "      <td>24137947</td>\n",
       "      <td>91</td>\n",
       "      <td>3034.26</td>\n",
       "      <td>2007-01-31</td>\n",
       "      <td>3034.26</td>\n",
       "      <td>0.00</td>\n",
       "      <td>-2260.92</td>\n",
       "    </tr>\n",
       "    <tr>\n",
       "      <th>1</th>\n",
       "      <td>2007-01-31</td>\n",
       "      <td>24137947</td>\n",
       "      <td>91</td>\n",
       "      <td>-5295.18</td>\n",
       "      <td>2007-01-16</td>\n",
       "      <td>0.00</td>\n",
       "      <td>-5295.18</td>\n",
       "      <td>-5295.18</td>\n",
       "    </tr>\n",
       "    <tr>\n",
       "      <th>2</th>\n",
       "      <td>2007-02-28</td>\n",
       "      <td>24137947</td>\n",
       "      <td>91</td>\n",
       "      <td>0.00</td>\n",
       "      <td>2007-02-28</td>\n",
       "      <td>0.00</td>\n",
       "      <td>0.00</td>\n",
       "      <td>-2260.92</td>\n",
       "    </tr>\n",
       "    <tr>\n",
       "      <th>3</th>\n",
       "      <td>2007-03-31</td>\n",
       "      <td>24137947</td>\n",
       "      <td>91</td>\n",
       "      <td>-0.00</td>\n",
       "      <td>2007-03-30</td>\n",
       "      <td>0.00</td>\n",
       "      <td>-0.00</td>\n",
       "      <td>-2260.92</td>\n",
       "    </tr>\n",
       "    <tr>\n",
       "      <th>4</th>\n",
       "      <td>2007-03-31</td>\n",
       "      <td>24137947</td>\n",
       "      <td>91</td>\n",
       "      <td>-0.00</td>\n",
       "      <td>2007-03-11</td>\n",
       "      <td>0.00</td>\n",
       "      <td>-0.00</td>\n",
       "      <td>-2260.92</td>\n",
       "    </tr>\n",
       "  </tbody>\n",
       "</table>\n",
       "</div>"
      ],
      "text/plain": [
       "        date  account_id  customer_id   amount transaction_date  deposit  \\\n",
       "0 2007-01-31    24137947           91  3034.26       2007-01-31  3034.26   \n",
       "1 2007-01-31    24137947           91 -5295.18       2007-01-16     0.00   \n",
       "2 2007-02-28    24137947           91     0.00       2007-02-28     0.00   \n",
       "3 2007-03-31    24137947           91    -0.00       2007-03-30     0.00   \n",
       "4 2007-03-31    24137947           91    -0.00       2007-03-11     0.00   \n",
       "\n",
       "   withdrawal  account_total  \n",
       "0        0.00       -2260.92  \n",
       "1    -5295.18       -5295.18  \n",
       "2        0.00       -2260.92  \n",
       "3       -0.00       -2260.92  \n",
       "4       -0.00       -2260.92  "
      ]
     },
     "execution_count": 89,
     "metadata": {},
     "output_type": "execute_result"
    }
   ],
   "source": [
    "trans_df.head()"
   ]
  },
  {
   "cell_type": "code",
   "execution_count": 49,
   "metadata": {},
   "outputs": [
    {
     "name": "stdout",
     "output_type": "stream",
     "text": [
      "<class 'pandas.core.frame.DataFrame'>\n",
      "RangeIndex: 116016 entries, 0 to 116015\n",
      "Data columns (total 5 columns):\n",
      " #   Column         Non-Null Count   Dtype  \n",
      "---  ------         --------------   -----  \n",
      " 0   customer_id    116016 non-null  int64  \n",
      " 1   dob            116016 non-null  object \n",
      " 2   state          116016 non-null  object \n",
      " 3   start_balance  116016 non-null  float64\n",
      " 4   creation_date  116016 non-null  object \n",
      "dtypes: float64(1), int64(1), object(3)\n",
      "memory usage: 4.4+ MB\n"
     ]
    }
   ],
   "source": [
    "cust_df.info()"
   ]
  },
  {
   "cell_type": "code",
   "execution_count": 101,
   "metadata": {},
   "outputs": [
    {
     "name": "stdout",
     "output_type": "stream",
     "text": [
      "<class 'pandas.core.frame.DataFrame'>\n",
      "RangeIndex: 4977972 entries, 0 to 4977971\n",
      "Data columns (total 8 columns):\n",
      " #   Column            Dtype         \n",
      "---  ------            -----         \n",
      " 0   date              datetime64[ns]\n",
      " 1   account_id        int64         \n",
      " 2   customer_id       int64         \n",
      " 3   amount            float64       \n",
      " 4   transaction_date  datetime64[ns]\n",
      " 5   deposit           float64       \n",
      " 6   withdrawal        float64       \n",
      " 7   account_total     float64       \n",
      "dtypes: datetime64[ns](2), float64(4), int64(2)\n",
      "memory usage: 303.8 MB\n"
     ]
    }
   ],
   "source": [
    "trans_df.info()"
   ]
  },
  {
   "cell_type": "code",
   "execution_count": 46,
   "metadata": {},
   "outputs": [
    {
     "name": "stdout",
     "output_type": "stream",
     "text": [
      "date                0\n",
      "account_id          0\n",
      "customer_id         0\n",
      "amount              0\n",
      "transaction_date    0\n",
      "deposit             0\n",
      "withdrawal          0\n",
      "dtype: int64\n"
     ]
    }
   ],
   "source": [
    "is_missing = trans_df.isna()\n",
    "\n",
    "missing_per_column = is_missing.sum(axis = 0) \n",
    "print(missing_per_column)              "
   ]
  },
  {
   "cell_type": "code",
   "execution_count": 57,
   "metadata": {},
   "outputs": [],
   "source": [
    "# replacing empty start balances with 0, but this should be edited with transaction data if the information is there.\n",
    "cust_df['start_balance'].fillna(0, inplace=True)"
   ]
  },
  {
   "cell_type": "code",
   "execution_count": 50,
   "metadata": {},
   "outputs": [
    {
     "name": "stdout",
     "output_type": "stream",
     "text": [
      "Customer columns:\n",
      "['customer_id', 'dob', 'state', 'start_balance', 'creation_date']\n",
      "\n",
      "Transactions columns:\n",
      "['date', 'account_id', 'customer_id', 'amount', 'transaction_date', 'deposit', 'withdrawal']\n"
     ]
    }
   ],
   "source": [
    "print(f\"Customer columns:\\n{list(cust_df.columns)}\\n\")\n",
    "print(f\"Transactions columns:\\n{list(trans_df.columns)}\")"
   ]
  },
  {
   "cell_type": "code",
   "execution_count": 80,
   "metadata": {},
   "outputs": [],
   "source": [
    "#Adding an account_total column, by grouping by customer_id and sorting by transaction_date\n",
    "trans_df['account_total'] = trans_df.sort_values(['customer_id', 'transaction_date'], ascending=True).groupby(['customer_id', 'account_id'])['amount'].cumsum()"
   ]
  },
  {
   "cell_type": "code",
   "execution_count": 87,
   "metadata": {},
   "outputs": [],
   "source": [
    "trans_df['date'] = pd.to_datetime(trans_df['date'])\n",
    "trans_df['transaction_date'] = pd.to_datetime(trans_df['transaction_date'])"
   ]
  },
  {
   "cell_type": "code",
   "execution_count": 97,
   "metadata": {},
   "outputs": [],
   "source": [
    "month_trans = trans_df.groupby(['customer_id', trans_df.transaction_date.dt.month])[\"amount\"].sum()"
   ]
  },
  {
   "cell_type": "code",
   "execution_count": 98,
   "metadata": {},
   "outputs": [
    {
     "name": "stdout",
     "output_type": "stream",
     "text": [
      "customer_id  transaction_date\n",
      "91           1                  -2260.92\n",
      "             2                      0.00\n",
      "             3                      0.00\n",
      "92           1                      0.00\n",
      "             2                   1164.90\n",
      "                                  ...   \n",
      "116102       5                   -350.95\n",
      "116103       5                  -1003.22\n",
      "116104       5                  -1102.10\n",
      "116105       5                   2246.93\n",
      "116106       5                     56.99\n",
      "Name: amount, Length: 1059635, dtype: float64\n"
     ]
    }
   ],
   "source": [
    "print(month_trans)"
   ]
  },
  {
   "cell_type": "code",
   "execution_count": null,
   "metadata": {},
   "outputs": [],
   "source": [
    "merge_"
   ]
  }
 ],
 "metadata": {
  "kernelspec": {
   "display_name": "ml_project",
   "language": "python",
   "name": "python3"
  },
  "language_info": {
   "codemirror_mode": {
    "name": "ipython",
    "version": 3
   },
   "file_extension": ".py",
   "mimetype": "text/x-python",
   "name": "python",
   "nbconvert_exporter": "python",
   "pygments_lexer": "ipython3",
   "version": "3.10.8"
  },
  "orig_nbformat": 4
 },
 "nbformat": 4,
 "nbformat_minor": 2
}
