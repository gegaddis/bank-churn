{
 "cells": [
  {
   "cell_type": "code",
   "execution_count": 3,
   "metadata": {},
   "outputs": [],
   "source": [
    "import numpy as np\n",
    "import pandas as pd\n",
    "import matplotlib.pyplot as plt"
   ]
  },
  {
   "cell_type": "code",
   "execution_count": 4,
   "metadata": {},
   "outputs": [],
   "source": [
    "# import dataset and load in a dataframe\n",
    "customer_file = r'..\\data\\customers_tm1_e.csv'\n",
    "transaction_file = r'..\\data\\transactions_tm1_e.csv'\n",
    "cust_df = pd.read_csv(customer_file)\n",
    "trans_df = pd.read_csv(transaction_file)"
   ]
  },
  {
   "cell_type": "code",
   "execution_count": 5,
   "metadata": {},
   "outputs": [
    {
     "data": {
      "text/html": [
       "<div>\n",
       "<style scoped>\n",
       "    .dataframe tbody tr th:only-of-type {\n",
       "        vertical-align: middle;\n",
       "    }\n",
       "\n",
       "    .dataframe tbody tr th {\n",
       "        vertical-align: top;\n",
       "    }\n",
       "\n",
       "    .dataframe thead th {\n",
       "        text-align: right;\n",
       "    }\n",
       "</style>\n",
       "<table border=\"1\" class=\"dataframe\">\n",
       "  <thead>\n",
       "    <tr style=\"text-align: right;\">\n",
       "      <th></th>\n",
       "      <th>customer_id</th>\n",
       "      <th>dob</th>\n",
       "      <th>state</th>\n",
       "      <th>start_balance</th>\n",
       "      <th>creation_date</th>\n",
       "    </tr>\n",
       "  </thead>\n",
       "  <tbody>\n",
       "    <tr>\n",
       "      <th>0</th>\n",
       "      <td>91</td>\n",
       "      <td>1993-07-01</td>\n",
       "      <td>California</td>\n",
       "      <td>10180.56</td>\n",
       "      <td>2007-01-31</td>\n",
       "    </tr>\n",
       "    <tr>\n",
       "      <th>1</th>\n",
       "      <td>92</td>\n",
       "      <td>1985-12-05</td>\n",
       "      <td>New York</td>\n",
       "      <td>4757.68</td>\n",
       "      <td>2007-01-31</td>\n",
       "    </tr>\n",
       "    <tr>\n",
       "      <th>2</th>\n",
       "      <td>93</td>\n",
       "      <td>1987-11-19</td>\n",
       "      <td>Minnesota</td>\n",
       "      <td>6796.72</td>\n",
       "      <td>2007-01-31</td>\n",
       "    </tr>\n",
       "    <tr>\n",
       "      <th>3</th>\n",
       "      <td>94</td>\n",
       "      <td>1981-03-23</td>\n",
       "      <td>Minnesota</td>\n",
       "      <td>9870.48</td>\n",
       "      <td>2007-01-31</td>\n",
       "    </tr>\n",
       "    <tr>\n",
       "      <th>4</th>\n",
       "      <td>95</td>\n",
       "      <td>1970-04-06</td>\n",
       "      <td>California</td>\n",
       "      <td>12500.72</td>\n",
       "      <td>2007-01-31</td>\n",
       "    </tr>\n",
       "  </tbody>\n",
       "</table>\n",
       "</div>"
      ],
      "text/plain": [
       "   customer_id         dob       state  start_balance creation_date\n",
       "0           91  1993-07-01  California       10180.56    2007-01-31\n",
       "1           92  1985-12-05    New York        4757.68    2007-01-31\n",
       "2           93  1987-11-19   Minnesota        6796.72    2007-01-31\n",
       "3           94  1981-03-23   Minnesota        9870.48    2007-01-31\n",
       "4           95  1970-04-06  California       12500.72    2007-01-31"
      ]
     },
     "execution_count": 5,
     "metadata": {},
     "output_type": "execute_result"
    }
   ],
   "source": [
    "cust_df.head()"
   ]
  },
  {
   "cell_type": "code",
   "execution_count": 32,
   "metadata": {},
   "outputs": [
    {
     "data": {
      "text/html": [
       "<div>\n",
       "<style scoped>\n",
       "    .dataframe tbody tr th:only-of-type {\n",
       "        vertical-align: middle;\n",
       "    }\n",
       "\n",
       "    .dataframe tbody tr th {\n",
       "        vertical-align: top;\n",
       "    }\n",
       "\n",
       "    .dataframe thead th {\n",
       "        text-align: right;\n",
       "    }\n",
       "</style>\n",
       "<table border=\"1\" class=\"dataframe\">\n",
       "  <thead>\n",
       "    <tr style=\"text-align: right;\">\n",
       "      <th></th>\n",
       "      <th>date</th>\n",
       "      <th>account_id</th>\n",
       "      <th>customer_id</th>\n",
       "      <th>amount</th>\n",
       "      <th>transaction_date</th>\n",
       "      <th>deposit</th>\n",
       "      <th>withdrawal</th>\n",
       "      <th>account_total</th>\n",
       "    </tr>\n",
       "  </thead>\n",
       "  <tbody>\n",
       "    <tr>\n",
       "      <th>0</th>\n",
       "      <td>2007-01-31</td>\n",
       "      <td>24137947</td>\n",
       "      <td>91</td>\n",
       "      <td>3034.26</td>\n",
       "      <td>2007-01-31</td>\n",
       "      <td>3034.26</td>\n",
       "      <td>0.00</td>\n",
       "      <td>-2260.92</td>\n",
       "    </tr>\n",
       "    <tr>\n",
       "      <th>1</th>\n",
       "      <td>2007-01-31</td>\n",
       "      <td>24137947</td>\n",
       "      <td>91</td>\n",
       "      <td>-5295.18</td>\n",
       "      <td>2007-01-16</td>\n",
       "      <td>0.00</td>\n",
       "      <td>-5295.18</td>\n",
       "      <td>-5295.18</td>\n",
       "    </tr>\n",
       "    <tr>\n",
       "      <th>2</th>\n",
       "      <td>2007-02-28</td>\n",
       "      <td>24137947</td>\n",
       "      <td>91</td>\n",
       "      <td>0.00</td>\n",
       "      <td>2007-02-28</td>\n",
       "      <td>0.00</td>\n",
       "      <td>0.00</td>\n",
       "      <td>-2260.92</td>\n",
       "    </tr>\n",
       "    <tr>\n",
       "      <th>3</th>\n",
       "      <td>2007-03-31</td>\n",
       "      <td>24137947</td>\n",
       "      <td>91</td>\n",
       "      <td>-0.00</td>\n",
       "      <td>2007-03-30</td>\n",
       "      <td>0.00</td>\n",
       "      <td>-0.00</td>\n",
       "      <td>-2260.92</td>\n",
       "    </tr>\n",
       "    <tr>\n",
       "      <th>4</th>\n",
       "      <td>2007-03-31</td>\n",
       "      <td>24137947</td>\n",
       "      <td>91</td>\n",
       "      <td>-0.00</td>\n",
       "      <td>2007-03-11</td>\n",
       "      <td>0.00</td>\n",
       "      <td>-0.00</td>\n",
       "      <td>-2260.92</td>\n",
       "    </tr>\n",
       "  </tbody>\n",
       "</table>\n",
       "</div>"
      ],
      "text/plain": [
       "        date  account_id  customer_id   amount transaction_date  deposit  \\\n",
       "0 2007-01-31    24137947           91  3034.26       2007-01-31  3034.26   \n",
       "1 2007-01-31    24137947           91 -5295.18       2007-01-16     0.00   \n",
       "2 2007-02-28    24137947           91     0.00       2007-02-28     0.00   \n",
       "3 2007-03-31    24137947           91    -0.00       2007-03-30     0.00   \n",
       "4 2007-03-31    24137947           91    -0.00       2007-03-11     0.00   \n",
       "\n",
       "   withdrawal  account_total  \n",
       "0        0.00       -2260.92  \n",
       "1    -5295.18       -5295.18  \n",
       "2        0.00       -2260.92  \n",
       "3       -0.00       -2260.92  \n",
       "4       -0.00       -2260.92  "
      ]
     },
     "execution_count": 32,
     "metadata": {},
     "output_type": "execute_result"
    }
   ],
   "source": [
    "trans_df.head()"
   ]
  },
  {
   "cell_type": "code",
   "execution_count": 12,
   "metadata": {},
   "outputs": [
    {
     "name": "stdout",
     "output_type": "stream",
     "text": [
      "<class 'pandas.core.frame.DataFrame'>\n",
      "RangeIndex: 116016 entries, 0 to 116015\n",
      "Data columns (total 5 columns):\n",
      " #   Column         Non-Null Count   Dtype  \n",
      "---  ------         --------------   -----  \n",
      " 0   customer_id    116016 non-null  int64  \n",
      " 1   dob            116016 non-null  object \n",
      " 2   state          116016 non-null  object \n",
      " 3   start_balance  116016 non-null  float64\n",
      " 4   creation_date  116016 non-null  object \n",
      "dtypes: float64(1), int64(1), object(3)\n",
      "memory usage: 4.4+ MB\n"
     ]
    }
   ],
   "source": [
    "cust_df.info()"
   ]
  },
  {
   "cell_type": "code",
   "execution_count": 16,
   "metadata": {},
   "outputs": [
    {
     "name": "stdout",
     "output_type": "stream",
     "text": [
      "<class 'pandas.core.frame.DataFrame'>\n",
      "RangeIndex: 4977972 entries, 0 to 4977971\n",
      "Data columns (total 8 columns):\n",
      " #   Column            Dtype         \n",
      "---  ------            -----         \n",
      " 0   date              datetime64[ns]\n",
      " 1   account_id        int64         \n",
      " 2   customer_id       int64         \n",
      " 3   amount            float64       \n",
      " 4   transaction_date  datetime64[ns]\n",
      " 5   deposit           float64       \n",
      " 6   withdrawal        float64       \n",
      " 7   account_total     float64       \n",
      "dtypes: datetime64[ns](2), float64(4), int64(2)\n",
      "memory usage: 303.8 MB\n"
     ]
    }
   ],
   "source": [
    "trans_df.info()"
   ]
  },
  {
   "cell_type": "code",
   "execution_count": 9,
   "metadata": {},
   "outputs": [
    {
     "name": "stdout",
     "output_type": "stream",
     "text": [
      "date                0\n",
      "account_id          0\n",
      "customer_id         0\n",
      "amount              0\n",
      "transaction_date    0\n",
      "deposit             0\n",
      "withdrawal          0\n",
      "dtype: int64\n"
     ]
    }
   ],
   "source": [
    "is_missing = trans_df.isna()\n",
    "\n",
    "missing_per_column = is_missing.sum(axis = 0) \n",
    "print(missing_per_column)              "
   ]
  },
  {
   "cell_type": "code",
   "execution_count": 11,
   "metadata": {},
   "outputs": [],
   "source": [
    "# replacing empty start balances with 0, but this should be edited with transaction data if the information is there.\n",
    "cust_df['start_balance'].fillna(0, inplace=True)"
   ]
  },
  {
   "cell_type": "code",
   "execution_count": 33,
   "metadata": {},
   "outputs": [
    {
     "name": "stdout",
     "output_type": "stream",
     "text": [
      "Customer columns:\n",
      "['customer_id', 'dob', 'state', 'start_balance', 'creation_date']\n",
      "\n",
      "Transactions columns:\n",
      "['date', 'account_id', 'customer_id', 'amount', 'transaction_date', 'deposit', 'withdrawal', 'account_total']\n"
     ]
    }
   ],
   "source": [
    "print(f\"Customer columns:\\n{list(cust_df.columns)}\\n\")\n",
    "print(f\"Transactions columns:\\n{list(trans_df.columns)}\")"
   ]
  },
  {
   "cell_type": "code",
   "execution_count": 14,
   "metadata": {},
   "outputs": [],
   "source": [
    "#Adding an account_total column, by grouping by customer_id and sorting by transaction_date\n",
    "trans_df['account_total'] = trans_df.sort_values(['customer_id', 'transaction_date'], ascending=True).groupby(['customer_id', 'account_id'])['amount'].cumsum()"
   ]
  },
  {
   "cell_type": "code",
   "execution_count": 15,
   "metadata": {},
   "outputs": [],
   "source": [
    "#Casting to date type\n",
    "trans_df['date'] = pd.to_datetime(trans_df['date'])\n",
    "trans_df['transaction_date'] = pd.to_datetime(trans_df['transaction_date'])"
   ]
  },
  {
   "cell_type": "code",
   "execution_count": 51,
   "metadata": {},
   "outputs": [],
   "source": [
    "month_trans = trans_df.groupby(['customer_id', trans_df.transaction_date.dt.to_period(\"m\")])[\"amount\"].sum()"
   ]
  },
  {
   "cell_type": "code",
   "execution_count": 52,
   "metadata": {},
   "outputs": [
    {
     "name": "stdout",
     "output_type": "stream",
     "text": [
      "customer_id  transaction_date\n",
      "91           2007-01            -2260.92\n",
      "             2007-02                0.00\n",
      "             2007-03                0.00\n",
      "92           2007-01                0.00\n",
      "             2007-02             1164.90\n",
      "                                  ...   \n",
      "116102       2020-05             -350.95\n",
      "116103       2020-05            -1003.22\n",
      "116104       2020-05            -1102.10\n",
      "116105       2020-05             2246.93\n",
      "116106       2020-05               56.99\n",
      "Name: amount, Length: 2129121, dtype: float64\n"
     ]
    }
   ],
   "source": [
    "print(month_trans)"
   ]
  },
  {
   "cell_type": "code",
   "execution_count": 53,
   "metadata": {},
   "outputs": [],
   "source": [
    "merge_df = pd.merge(trans_df[['account_id', 'customer_id', 'transaction_date', 'amount', 'account_total']], cust_df, on = 'customer_id', how = 'left')"
   ]
  },
  {
   "cell_type": "code",
   "execution_count": 54,
   "metadata": {},
   "outputs": [
    {
     "data": {
      "text/html": [
       "<div>\n",
       "<style scoped>\n",
       "    .dataframe tbody tr th:only-of-type {\n",
       "        vertical-align: middle;\n",
       "    }\n",
       "\n",
       "    .dataframe tbody tr th {\n",
       "        vertical-align: top;\n",
       "    }\n",
       "\n",
       "    .dataframe thead th {\n",
       "        text-align: right;\n",
       "    }\n",
       "</style>\n",
       "<table border=\"1\" class=\"dataframe\">\n",
       "  <thead>\n",
       "    <tr style=\"text-align: right;\">\n",
       "      <th></th>\n",
       "      <th>account_id</th>\n",
       "      <th>customer_id</th>\n",
       "      <th>transaction_date</th>\n",
       "      <th>amount</th>\n",
       "      <th>account_total</th>\n",
       "      <th>dob</th>\n",
       "      <th>state</th>\n",
       "      <th>start_balance</th>\n",
       "      <th>creation_date</th>\n",
       "    </tr>\n",
       "  </thead>\n",
       "  <tbody>\n",
       "    <tr>\n",
       "      <th>0</th>\n",
       "      <td>24137947</td>\n",
       "      <td>91</td>\n",
       "      <td>2007-01-31</td>\n",
       "      <td>3034.26</td>\n",
       "      <td>-2260.92</td>\n",
       "      <td>1993-07-01</td>\n",
       "      <td>California</td>\n",
       "      <td>10180.56</td>\n",
       "      <td>2007-01-31</td>\n",
       "    </tr>\n",
       "    <tr>\n",
       "      <th>1</th>\n",
       "      <td>24137947</td>\n",
       "      <td>91</td>\n",
       "      <td>2007-01-16</td>\n",
       "      <td>-5295.18</td>\n",
       "      <td>-5295.18</td>\n",
       "      <td>1993-07-01</td>\n",
       "      <td>California</td>\n",
       "      <td>10180.56</td>\n",
       "      <td>2007-01-31</td>\n",
       "    </tr>\n",
       "    <tr>\n",
       "      <th>2</th>\n",
       "      <td>24137947</td>\n",
       "      <td>91</td>\n",
       "      <td>2007-02-28</td>\n",
       "      <td>0.00</td>\n",
       "      <td>-2260.92</td>\n",
       "      <td>1993-07-01</td>\n",
       "      <td>California</td>\n",
       "      <td>10180.56</td>\n",
       "      <td>2007-01-31</td>\n",
       "    </tr>\n",
       "    <tr>\n",
       "      <th>3</th>\n",
       "      <td>24137947</td>\n",
       "      <td>91</td>\n",
       "      <td>2007-03-30</td>\n",
       "      <td>-0.00</td>\n",
       "      <td>-2260.92</td>\n",
       "      <td>1993-07-01</td>\n",
       "      <td>California</td>\n",
       "      <td>10180.56</td>\n",
       "      <td>2007-01-31</td>\n",
       "    </tr>\n",
       "    <tr>\n",
       "      <th>4</th>\n",
       "      <td>24137947</td>\n",
       "      <td>91</td>\n",
       "      <td>2007-03-11</td>\n",
       "      <td>-0.00</td>\n",
       "      <td>-2260.92</td>\n",
       "      <td>1993-07-01</td>\n",
       "      <td>California</td>\n",
       "      <td>10180.56</td>\n",
       "      <td>2007-01-31</td>\n",
       "    </tr>\n",
       "  </tbody>\n",
       "</table>\n",
       "</div>"
      ],
      "text/plain": [
       "   account_id  customer_id transaction_date   amount  account_total  \\\n",
       "0    24137947           91       2007-01-31  3034.26       -2260.92   \n",
       "1    24137947           91       2007-01-16 -5295.18       -5295.18   \n",
       "2    24137947           91       2007-02-28     0.00       -2260.92   \n",
       "3    24137947           91       2007-03-30    -0.00       -2260.92   \n",
       "4    24137947           91       2007-03-11    -0.00       -2260.92   \n",
       "\n",
       "          dob       state  start_balance creation_date  \n",
       "0  1993-07-01  California       10180.56    2007-01-31  \n",
       "1  1993-07-01  California       10180.56    2007-01-31  \n",
       "2  1993-07-01  California       10180.56    2007-01-31  \n",
       "3  1993-07-01  California       10180.56    2007-01-31  \n",
       "4  1993-07-01  California       10180.56    2007-01-31  "
      ]
     },
     "metadata": {},
     "output_type": "display_data"
    }
   ],
   "source": [
    "display(merge_df.head())\n"
   ]
  },
  {
   "cell_type": "code",
   "execution_count": 55,
   "metadata": {},
   "outputs": [],
   "source": [
    "sum_df = merge_df[['amount', 'start_balance']].sum(axis=1)"
   ]
  },
  {
   "cell_type": "code",
   "execution_count": 56,
   "metadata": {},
   "outputs": [
    {
     "data": {
      "text/plain": [
       "0    13214.82\n",
       "1     4885.38\n",
       "2    10180.56\n",
       "3    10180.56\n",
       "4    10180.56\n",
       "dtype: float64"
      ]
     },
     "metadata": {},
     "output_type": "display_data"
    }
   ],
   "source": [
    "display(sum_df.head())"
   ]
  },
  {
   "cell_type": "code",
   "execution_count": 75,
   "metadata": {},
   "outputs": [],
   "source": [
    "temp_df = trans_df.groupby(['customer_id', 'account_id',\n",
    "                            trans_df.transaction_date.dt.to_period(\"M\")], as_index = False).agg({'amount': sum, 'deposit': sum, 'withdrawal': sum})"
   ]
  },
  {
   "cell_type": "code",
   "execution_count": 79,
   "metadata": {},
   "outputs": [],
   "source": [
    "temp_df = trans_df.groupby(['customer_id', 'account_id',\n",
    "                            pd.Grouper(key = 'transaction_date', freq = \"M\")], as_index= False).agg({'amount': sum, 'deposit': sum, 'withdrawal': sum})"
   ]
  },
  {
   "cell_type": "code",
   "execution_count": 80,
   "metadata": {},
   "outputs": [
    {
     "name": "stdout",
     "output_type": "stream",
     "text": [
      "         customer_id  account_id transaction_date   amount  deposit  \\\n",
      "0                 91    24137947       2007-01-31 -2260.92  3034.26   \n",
      "1                 91    24137947       2007-02-28     0.00     0.00   \n",
      "2                 91    24137947       2007-03-31     0.00     0.00   \n",
      "3                 92    24137948       2007-01-31     0.00     0.00   \n",
      "4                 92    24137948       2007-02-28  1164.90  1164.90   \n",
      "...              ...         ...              ...      ...      ...   \n",
      "2129116       116102    24253958       2020-05-31  -350.95   872.99   \n",
      "2129117       116103    24253959       2020-05-31 -1003.22  3354.40   \n",
      "2129118       116104    24253960       2020-05-31 -1102.10  2900.20   \n",
      "2129119       116105    24253961       2020-05-31  2246.93  2246.93   \n",
      "2129120       116106    24253962       2020-05-31    56.99    56.99   \n",
      "\n",
      "         withdrawal  \n",
      "0          -5295.18  \n",
      "1              0.00  \n",
      "2              0.00  \n",
      "3              0.00  \n",
      "4              0.00  \n",
      "...             ...  \n",
      "2129116    -1223.94  \n",
      "2129117    -4357.62  \n",
      "2129118    -4002.30  \n",
      "2129119        0.00  \n",
      "2129120        0.00  \n",
      "\n",
      "[2129121 rows x 6 columns]\n"
     ]
    }
   ],
   "source": [
    "print(temp_df)"
   ]
  },
  {
   "cell_type": "code",
   "execution_count": 81,
   "metadata": {},
   "outputs": [
    {
     "name": "stdout",
     "output_type": "stream",
     "text": [
      "<class 'pandas.core.frame.DataFrame'>\n",
      "RangeIndex: 2129121 entries, 0 to 2129120\n",
      "Data columns (total 6 columns):\n",
      " #   Column            Dtype         \n",
      "---  ------            -----         \n",
      " 0   customer_id       int64         \n",
      " 1   account_id        int64         \n",
      " 2   transaction_date  datetime64[ns]\n",
      " 3   amount            float64       \n",
      " 4   deposit           float64       \n",
      " 5   withdrawal        float64       \n",
      "dtypes: datetime64[ns](1), float64(3), int64(2)\n",
      "memory usage: 97.5 MB\n"
     ]
    }
   ],
   "source": [
    "temp_df.info()"
   ]
  },
  {
   "cell_type": "code",
   "execution_count": 84,
   "metadata": {},
   "outputs": [],
   "source": [
    "tmer_df = pd.merge(cust_df, temp_df, on = 'customer_id', how = 'left')"
   ]
  },
  {
   "cell_type": "code",
   "execution_count": 87,
   "metadata": {},
   "outputs": [
    {
     "name": "stdout",
     "output_type": "stream",
     "text": [
      "         customer_id         dob       state  start_balance creation_date  \\\n",
      "0                 91  1993-07-01  California       10180.56    2007-01-31   \n",
      "1                 91  1993-07-01  California       10180.56    2007-01-31   \n",
      "2                 91  1993-07-01  California       10180.56    2007-01-31   \n",
      "3                 92  1985-12-05    New York        4757.68    2007-01-31   \n",
      "4                 92  1985-12-05    New York        4757.68    2007-01-31   \n",
      "...              ...         ...         ...            ...           ...   \n",
      "2129116       116102  1969-03-02     Georgia        3110.96    2020-05-31   \n",
      "2129117       116103  1966-10-25    New York       12063.92    2020-05-31   \n",
      "2129118       116104  1986-04-30    Oklahoma       11011.36    2020-05-31   \n",
      "2129119       116105  1983-08-25  New Mexico        8861.08    2020-05-31   \n",
      "2129120       116106  1963-05-06        Ohio         201.32    2020-05-31   \n",
      "\n",
      "         account_id transaction_date   amount  deposit  withdrawal  \\\n",
      "0          24137947       2007-01-31 -2260.92  3034.26    -5295.18   \n",
      "1          24137947       2007-02-28     0.00     0.00        0.00   \n",
      "2          24137947       2007-03-31     0.00     0.00        0.00   \n",
      "3          24137948       2007-01-31     0.00     0.00        0.00   \n",
      "4          24137948       2007-02-28  1164.90  1164.90        0.00   \n",
      "...             ...              ...      ...      ...         ...   \n",
      "2129116    24253958       2020-05-31  -350.95   872.99    -1223.94   \n",
      "2129117    24253959       2020-05-31 -1003.22  3354.40    -4357.62   \n",
      "2129118    24253960       2020-05-31 -1102.10  2900.20    -4002.30   \n",
      "2129119    24253961       2020-05-31  2246.93  2246.93        0.00   \n",
      "2129120    24253962       2020-05-31    56.99    56.99        0.00   \n",
      "\n",
      "         account_total  \n",
      "0             -2260.92  \n",
      "1             -2260.92  \n",
      "2             -2260.92  \n",
      "3                 0.00  \n",
      "4              1164.90  \n",
      "...                ...  \n",
      "2129116        -350.95  \n",
      "2129117       -1003.22  \n",
      "2129118       -1102.10  \n",
      "2129119        2246.93  \n",
      "2129120          56.99  \n",
      "\n",
      "[2129121 rows x 11 columns]\n"
     ]
    }
   ],
   "source": [
    "print(tmer_df)"
   ]
  },
  {
   "cell_type": "code",
   "execution_count": 92,
   "metadata": {},
   "outputs": [],
   "source": [
    "tmer_df['transaction_total'] = tmer_df.sort_values(['customer_id', 'transaction_date'], ascending=True).groupby(['customer_id', 'account_id'])['amount'].cumsum()"
   ]
  },
  {
   "cell_type": "code",
   "execution_count": 93,
   "metadata": {},
   "outputs": [],
   "source": [
    "tmer_df['account_total'] = tmer_df['transaction_total'] + tmer_df['start_balance']"
   ]
  },
  {
   "cell_type": "code",
   "execution_count": 94,
   "metadata": {},
   "outputs": [
    {
     "data": {
      "text/plain": [
       "0           7919.64\n",
       "1           7919.64\n",
       "2           7919.64\n",
       "3           4757.68\n",
       "4           5922.58\n",
       "             ...   \n",
       "2129116     2760.01\n",
       "2129117    11060.70\n",
       "2129118     9909.26\n",
       "2129119    11108.01\n",
       "2129120      258.31\n",
       "Name: account_total, Length: 2129121, dtype: float64"
      ]
     },
     "execution_count": 94,
     "metadata": {},
     "output_type": "execute_result"
    }
   ],
   "source": [
    "tmer_df['account_total']"
   ]
  },
  {
   "cell_type": "code",
   "execution_count": 108,
   "metadata": {},
   "outputs": [],
   "source": [
    "monthly_look_df = tmer_df.copy()"
   ]
  },
  {
   "cell_type": "code",
   "execution_count": 107,
   "metadata": {},
   "outputs": [
    {
     "name": "stdout",
     "output_type": "stream",
     "text": [
      "<class 'pandas.core.frame.DataFrame'>\n",
      "RangeIndex: 2129121 entries, 0 to 2129120\n",
      "Data columns (total 8 columns):\n",
      " #   Column             Dtype    \n",
      "---  ------             -----    \n",
      " 0   customer_id        int64    \n",
      " 1   start_balance      float64  \n",
      " 2   creation_date      object   \n",
      " 3   account_id         int64    \n",
      " 4   transaction_date   period[M]\n",
      " 5   amount             float64  \n",
      " 6   account_total      float64  \n",
      " 7   transaction_total  float64  \n",
      "dtypes: float64(4), int64(2), object(1), period[M](1)\n",
      "memory usage: 130.0+ MB\n"
     ]
    }
   ],
   "source": [
    "monthly_look_df.info()"
   ]
  },
  {
   "cell_type": "code",
   "execution_count": 109,
   "metadata": {},
   "outputs": [],
   "source": [
    "monthly_look_df.drop(columns= ['dob', 'state', 'withdrawal', 'deposit'], inplace= True)\n",
    "monthly_look_df[\"transaction_date\"] = monthly_look_df.transaction_date.dt.to_period(\"M\")\n",
    "monthly_look_df = monthly_look_df.rename(columns={'transaction_date': \"transaction_month\", \"amount\": \"transaction_amount\"})"
   ]
  },
  {
   "cell_type": "code",
   "execution_count": 110,
   "metadata": {},
   "outputs": [
    {
     "data": {
      "text/html": [
       "<div>\n",
       "<style scoped>\n",
       "    .dataframe tbody tr th:only-of-type {\n",
       "        vertical-align: middle;\n",
       "    }\n",
       "\n",
       "    .dataframe tbody tr th {\n",
       "        vertical-align: top;\n",
       "    }\n",
       "\n",
       "    .dataframe thead th {\n",
       "        text-align: right;\n",
       "    }\n",
       "</style>\n",
       "<table border=\"1\" class=\"dataframe\">\n",
       "  <thead>\n",
       "    <tr style=\"text-align: right;\">\n",
       "      <th></th>\n",
       "      <th>customer_id</th>\n",
       "      <th>start_balance</th>\n",
       "      <th>creation_date</th>\n",
       "      <th>account_id</th>\n",
       "      <th>transaction_month</th>\n",
       "      <th>transaction_amount</th>\n",
       "      <th>account_total</th>\n",
       "      <th>transaction_total</th>\n",
       "    </tr>\n",
       "  </thead>\n",
       "  <tbody>\n",
       "    <tr>\n",
       "      <th>0</th>\n",
       "      <td>91</td>\n",
       "      <td>10180.56</td>\n",
       "      <td>2007-01-31</td>\n",
       "      <td>24137947</td>\n",
       "      <td>2007-01</td>\n",
       "      <td>-2260.92</td>\n",
       "      <td>7919.64</td>\n",
       "      <td>-2260.92</td>\n",
       "    </tr>\n",
       "    <tr>\n",
       "      <th>1</th>\n",
       "      <td>91</td>\n",
       "      <td>10180.56</td>\n",
       "      <td>2007-01-31</td>\n",
       "      <td>24137947</td>\n",
       "      <td>2007-02</td>\n",
       "      <td>0.00</td>\n",
       "      <td>7919.64</td>\n",
       "      <td>-2260.92</td>\n",
       "    </tr>\n",
       "    <tr>\n",
       "      <th>2</th>\n",
       "      <td>91</td>\n",
       "      <td>10180.56</td>\n",
       "      <td>2007-01-31</td>\n",
       "      <td>24137947</td>\n",
       "      <td>2007-03</td>\n",
       "      <td>0.00</td>\n",
       "      <td>7919.64</td>\n",
       "      <td>-2260.92</td>\n",
       "    </tr>\n",
       "    <tr>\n",
       "      <th>3</th>\n",
       "      <td>92</td>\n",
       "      <td>4757.68</td>\n",
       "      <td>2007-01-31</td>\n",
       "      <td>24137948</td>\n",
       "      <td>2007-01</td>\n",
       "      <td>0.00</td>\n",
       "      <td>4757.68</td>\n",
       "      <td>0.00</td>\n",
       "    </tr>\n",
       "    <tr>\n",
       "      <th>4</th>\n",
       "      <td>92</td>\n",
       "      <td>4757.68</td>\n",
       "      <td>2007-01-31</td>\n",
       "      <td>24137948</td>\n",
       "      <td>2007-02</td>\n",
       "      <td>1164.90</td>\n",
       "      <td>5922.58</td>\n",
       "      <td>1164.90</td>\n",
       "    </tr>\n",
       "  </tbody>\n",
       "</table>\n",
       "</div>"
      ],
      "text/plain": [
       "   customer_id  start_balance creation_date  account_id transaction_month  \\\n",
       "0           91       10180.56    2007-01-31    24137947           2007-01   \n",
       "1           91       10180.56    2007-01-31    24137947           2007-02   \n",
       "2           91       10180.56    2007-01-31    24137947           2007-03   \n",
       "3           92        4757.68    2007-01-31    24137948           2007-01   \n",
       "4           92        4757.68    2007-01-31    24137948           2007-02   \n",
       "\n",
       "   transaction_amount  account_total  transaction_total  \n",
       "0            -2260.92        7919.64           -2260.92  \n",
       "1                0.00        7919.64           -2260.92  \n",
       "2                0.00        7919.64           -2260.92  \n",
       "3                0.00        4757.68               0.00  \n",
       "4             1164.90        5922.58            1164.90  "
      ]
     },
     "execution_count": 110,
     "metadata": {},
     "output_type": "execute_result"
    }
   ],
   "source": [
    "monthly_look_df.head()"
   ]
  }
 ],
 "metadata": {
  "kernelspec": {
   "display_name": "ml_project",
   "language": "python",
   "name": "python3"
  },
  "language_info": {
   "codemirror_mode": {
    "name": "ipython",
    "version": 3
   },
   "file_extension": ".py",
   "mimetype": "text/x-python",
   "name": "python",
   "nbconvert_exporter": "python",
   "pygments_lexer": "ipython3",
   "version": "3.10.8"
  },
  "orig_nbformat": 4
 },
 "nbformat": 4,
 "nbformat_minor": 2
}
